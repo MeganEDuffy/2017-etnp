{
 "cells": [
  {
   "cell_type": "code",
   "execution_count": 5,
   "metadata": {},
   "outputs": [],
   "source": [
    "import numpy as np\n",
    "import matplotlib.pyplot as plt\n",
    "import seaborn as sns\n",
    "import pandas as pd"
   ]
  },
  {
   "cell_type": "code",
   "execution_count": 6,
   "metadata": {
    "scrolled": true
   },
   "outputs": [
    {
     "data": {
      "text/html": [
       "<div>\n",
       "<style scoped>\n",
       "    .dataframe tbody tr th:only-of-type {\n",
       "        vertical-align: middle;\n",
       "    }\n",
       "\n",
       "    .dataframe tbody tr th {\n",
       "        vertical-align: top;\n",
       "    }\n",
       "\n",
       "    .dataframe thead th {\n",
       "        text-align: right;\n",
       "    }\n",
       "</style>\n",
       "<table border=\"1\" class=\"dataframe\">\n",
       "  <thead>\n",
       "    <tr style=\"text-align: right;\">\n",
       "      <th></th>\n",
       "      <th>sample id</th>\n",
       "      <th>Year</th>\n",
       "      <th>Station</th>\n",
       "      <th>Depth</th>\n",
       "      <th>Flux (mg/m2/day)</th>\n",
       "      <th>C flux organic</th>\n",
       "      <th>Trap type</th>\n",
       "      <th>CN total</th>\n",
       "      <th>CN organic</th>\n",
       "      <th>Protein flux  (ug/m2/day)</th>\n",
       "      <th>Protein/org C of flux (ug protein/umol C)</th>\n",
       "    </tr>\n",
       "  </thead>\n",
       "  <tbody>\n",
       "    <tr>\n",
       "      <th>0</th>\n",
       "      <td>1-1_60m_+p</td>\n",
       "      <td>2017</td>\n",
       "      <td>P1</td>\n",
       "      <td>60</td>\n",
       "      <td>88.651326</td>\n",
       "      <td>NaN</td>\n",
       "      <td>cone</td>\n",
       "      <td>NaN</td>\n",
       "      <td>NaN</td>\n",
       "      <td>NaN</td>\n",
       "      <td>NaN</td>\n",
       "    </tr>\n",
       "    <tr>\n",
       "      <th>1</th>\n",
       "      <td>2-2_50m_ctl</td>\n",
       "      <td>2017</td>\n",
       "      <td>P1</td>\n",
       "      <td>50</td>\n",
       "      <td>NaN</td>\n",
       "      <td>NaN</td>\n",
       "      <td>cone</td>\n",
       "      <td>NaN</td>\n",
       "      <td>NaN</td>\n",
       "      <td>NaN</td>\n",
       "      <td>NaN</td>\n",
       "    </tr>\n",
       "    <tr>\n",
       "      <th>2</th>\n",
       "      <td>2-2_50m_+p</td>\n",
       "      <td>2017</td>\n",
       "      <td>P1</td>\n",
       "      <td>50</td>\n",
       "      <td>190.876791</td>\n",
       "      <td>NaN</td>\n",
       "      <td>cone</td>\n",
       "      <td>NaN</td>\n",
       "      <td>NaN</td>\n",
       "      <td>329.466919</td>\n",
       "      <td>NaN</td>\n",
       "    </tr>\n",
       "    <tr>\n",
       "      <th>3</th>\n",
       "      <td>2-2_50m_top</td>\n",
       "      <td>2017</td>\n",
       "      <td>P1</td>\n",
       "      <td>50</td>\n",
       "      <td>NaN</td>\n",
       "      <td>NaN</td>\n",
       "      <td>cone</td>\n",
       "      <td>NaN</td>\n",
       "      <td>NaN</td>\n",
       "      <td>NaN</td>\n",
       "      <td>NaN</td>\n",
       "    </tr>\n",
       "    <tr>\n",
       "      <th>4</th>\n",
       "      <td>2-2_320m_netwash</td>\n",
       "      <td>2017</td>\n",
       "      <td>P1</td>\n",
       "      <td>320</td>\n",
       "      <td>NaN</td>\n",
       "      <td>NaN</td>\n",
       "      <td>net</td>\n",
       "      <td>10.318678</td>\n",
       "      <td>9.380886</td>\n",
       "      <td>NaN</td>\n",
       "      <td>NaN</td>\n",
       "    </tr>\n",
       "  </tbody>\n",
       "</table>\n",
       "</div>"
      ],
      "text/plain": [
       "          sample id  Year Station  Depth  Flux (mg/m2/day)  C flux organic  \\\n",
       "0        1-1_60m_+p  2017      P1     60         88.651326             NaN   \n",
       "1       2-2_50m_ctl  2017      P1     50               NaN             NaN   \n",
       "2        2-2_50m_+p  2017      P1     50        190.876791             NaN   \n",
       "3       2-2_50m_top  2017      P1     50               NaN             NaN   \n",
       "4  2-2_320m_netwash  2017      P1    320               NaN             NaN   \n",
       "\n",
       "  Trap type   CN total  CN organic  Protein flux  (ug/m2/day)  \\\n",
       "0      cone        NaN         NaN                        NaN   \n",
       "1      cone        NaN         NaN                        NaN   \n",
       "2      cone        NaN         NaN                 329.466919   \n",
       "3      cone        NaN         NaN                        NaN   \n",
       "4       net  10.318678    9.380886                        NaN   \n",
       "\n",
       "   Protein/org C of flux (ug protein/umol C)  \n",
       "0                                        NaN  \n",
       "1                                        NaN  \n",
       "2                                        NaN  \n",
       "3                                        NaN  \n",
       "4                                        NaN  "
      ]
     },
     "execution_count": 6,
     "metadata": {},
     "output_type": "execute_result"
    }
   ],
   "source": [
    "# read the data into pandas dataframes\n",
    "etnp_2017 = pd.read_csv(\"/home/millieginty/Documents/git-repos/2017-etnp/data/flux/2017-fluxes2.csv\")\n",
    "\n",
    "etnp_2017.head()"
   ]
  },
  {
   "cell_type": "code",
   "execution_count": 7,
   "metadata": {
    "scrolled": true
   },
   "outputs": [
    {
     "data": {
      "text/html": [
       "<div>\n",
       "<style scoped>\n",
       "    .dataframe tbody tr th:only-of-type {\n",
       "        vertical-align: middle;\n",
       "    }\n",
       "\n",
       "    .dataframe tbody tr th {\n",
       "        vertical-align: top;\n",
       "    }\n",
       "\n",
       "    .dataframe thead th {\n",
       "        text-align: right;\n",
       "    }\n",
       "</style>\n",
       "<table border=\"1\" class=\"dataframe\">\n",
       "  <thead>\n",
       "    <tr style=\"text-align: right;\">\n",
       "      <th></th>\n",
       "      <th>sample id</th>\n",
       "      <th>Year</th>\n",
       "      <th>Station</th>\n",
       "      <th>Depth</th>\n",
       "      <th>Flux (mg/m2/day)</th>\n",
       "      <th>C flux organic</th>\n",
       "      <th>Trap type</th>\n",
       "      <th>CN total</th>\n",
       "      <th>CN organic</th>\n",
       "      <th>Protein flux  (ug/m2/day)</th>\n",
       "      <th>Protein/org C of flux (ug protein/umol C)</th>\n",
       "    </tr>\n",
       "  </thead>\n",
       "  <tbody>\n",
       "    <tr>\n",
       "      <th>67</th>\n",
       "      <td>1-12_73m_ctl</td>\n",
       "      <td>2017</td>\n",
       "      <td>P2</td>\n",
       "      <td>73</td>\n",
       "      <td>NaN</td>\n",
       "      <td>NaN</td>\n",
       "      <td>cone</td>\n",
       "      <td>38.988781</td>\n",
       "      <td>34.774591</td>\n",
       "      <td>NaN</td>\n",
       "      <td>NaN</td>\n",
       "    </tr>\n",
       "    <tr>\n",
       "      <th>68</th>\n",
       "      <td>1-12_73m_+p</td>\n",
       "      <td>2017</td>\n",
       "      <td>P2</td>\n",
       "      <td>73</td>\n",
       "      <td>81.787511</td>\n",
       "      <td>103.064253</td>\n",
       "      <td>cone</td>\n",
       "      <td>24.021420</td>\n",
       "      <td>18.178697</td>\n",
       "      <td>NaN</td>\n",
       "      <td>NaN</td>\n",
       "    </tr>\n",
       "    <tr>\n",
       "      <th>69</th>\n",
       "      <td>1-12_148m_ctl</td>\n",
       "      <td>2017</td>\n",
       "      <td>P2</td>\n",
       "      <td>148</td>\n",
       "      <td>NaN</td>\n",
       "      <td>NaN</td>\n",
       "      <td>cone</td>\n",
       "      <td>83.527317</td>\n",
       "      <td>48.425718</td>\n",
       "      <td>NaN</td>\n",
       "      <td>NaN</td>\n",
       "    </tr>\n",
       "    <tr>\n",
       "      <th>70</th>\n",
       "      <td>1-12_148m_+p</td>\n",
       "      <td>2017</td>\n",
       "      <td>P2</td>\n",
       "      <td>148</td>\n",
       "      <td>90.820391</td>\n",
       "      <td>66.997775</td>\n",
       "      <td>cone</td>\n",
       "      <td>25.859061</td>\n",
       "      <td>19.770272</td>\n",
       "      <td>NaN</td>\n",
       "      <td>NaN</td>\n",
       "    </tr>\n",
       "    <tr>\n",
       "      <th>71</th>\n",
       "      <td>2-14_100m_ctl</td>\n",
       "      <td>2017</td>\n",
       "      <td>P2</td>\n",
       "      <td>100</td>\n",
       "      <td>NaN</td>\n",
       "      <td>NaN</td>\n",
       "      <td>cone</td>\n",
       "      <td>NaN</td>\n",
       "      <td>NaN</td>\n",
       "      <td>NaN</td>\n",
       "      <td>NaN</td>\n",
       "    </tr>\n",
       "  </tbody>\n",
       "</table>\n",
       "</div>"
      ],
      "text/plain": [
       "        sample id  Year Station  Depth  Flux (mg/m2/day)  C flux organic  \\\n",
       "67   1-12_73m_ctl  2017      P2     73               NaN             NaN   \n",
       "68    1-12_73m_+p  2017      P2     73         81.787511      103.064253   \n",
       "69  1-12_148m_ctl  2017      P2    148               NaN             NaN   \n",
       "70   1-12_148m_+p  2017      P2    148         90.820391       66.997775   \n",
       "71  2-14_100m_ctl  2017      P2    100               NaN             NaN   \n",
       "\n",
       "   Trap type   CN total  CN organic  Protein flux  (ug/m2/day)  \\\n",
       "67      cone  38.988781   34.774591                        NaN   \n",
       "68      cone  24.021420   18.178697                        NaN   \n",
       "69      cone  83.527317   48.425718                        NaN   \n",
       "70      cone  25.859061   19.770272                        NaN   \n",
       "71      cone        NaN         NaN                        NaN   \n",
       "\n",
       "    Protein/org C of flux (ug protein/umol C)  \n",
       "67                                        NaN  \n",
       "68                                        NaN  \n",
       "69                                        NaN  \n",
       "70                                        NaN  \n",
       "71                                        NaN  "
      ]
     },
     "execution_count": 7,
     "metadata": {},
     "output_type": "execute_result"
    }
   ],
   "source": [
    "# keep only the rows Station = P2\n",
    "# keep only rows Station P1\n",
    "\n",
    "P2_2017 = etnp_2017.loc[(etnp_2017['Station'] == 'P2')]\n",
    "P1_2017 = etnp_2017.loc[(etnp_2017['Station'] == 'P1')]\n",
    "\n",
    "P2_2017.head()"
   ]
  },
  {
   "cell_type": "code",
   "execution_count": 10,
   "metadata": {},
   "outputs": [
    {
     "data": {
      "text/plain": [
       "<matplotlib.axes._subplots.AxesSubplot at 0x7f85f1f80b80>"
      ]
     },
     "execution_count": 10,
     "metadata": {},
     "output_type": "execute_result"
    },
    {
     "data": {
      "image/png": "[encoded data removed]",
      "text/plain": [
       "<Figure size 432x288 with 1 Axes>"
      ]
     },
     "metadata": {
      "needs_background": "light"
     },
     "output_type": "display_data"
    }
   ],
   "source": [
    "P2_2017.plot(kind='scatter', x='Flux (mg/m2/day)', y='Depth', c='Green')"
   ]
  },
  {
   "cell_type": "code",
   "execution_count": 76,
   "metadata": {},
   "outputs": [
    {
     "data": {
      "image/png": "[encoded data removed]",
      "text/plain": [
       "<Figure size 504x360 with 3 Axes>"
      ]
     },
     "metadata": {
      "needs_background": "light"
     },
     "output_type": "display_data"
    }
   ],
   "source": [
    "# Three-panel plot\n",
    "fig2, (ax2, ax3, ax4) = plt.subplots(1,3,sharey=True, figsize=(7, 5))\n",
    "\n",
    "fig2.suptitle('2017 P2', fontsize=16, y = 1.03)\n",
    "\n",
    "# Mass flux\n",
    "\n",
    "P2_2017.plot(ax = ax2, kind='scatter', x='Flux (mg/m2/day)', y='Depth', c='Red')\n",
    "#ax2.plot(temp,depth,'o-')\n",
    "ax2.set_ylabel('Depth (m)')\n",
    "ax2.set_ylim(ax2.get_ylim()[::-1]) #this reverses the yaxis (i.e. deep at the bottom)\n",
    "ax2.set_xlabel('Mass flux (mg/m2/day)')\n",
    "ax2.xaxis.set_label_position('top') # this moves the label to the top\n",
    "ax2.xaxis.set_ticks_position('top') # this moves the ticks to the top\n",
    "ax2.grid()\n",
    "\n",
    "# Organic carbon flux\n",
    "\n",
    "P2_2017.plot(ax = ax3, kind='scatter', x='C flux organic', y='Depth', c='Green')\n",
    "#ax3.plot(salt,depth,'o-r')\n",
    "ax3.set_xlabel('Org C flux')\n",
    "ax3.xaxis.set_label_position('top') # this moves the label to the top\n",
    "ax3.xaxis.set_ticks_position('top') # this moves the ticks to the top\n",
    "#ax3.yaxis.set_visible(False) # This erases the y ticks\n",
    "ax3.grid()\n",
    "\n",
    "# CN of organic matter\n",
    "\n",
    "P2_2017.plot(ax = ax4, kind='scatter', x='CN organic', y='Depth', c='Blue')\n",
    "#ax4.plot(fluo,depth,'o-g')\n",
    "ax4.set_xlabel('C:N organic')\n",
    "ax4.xaxis.set_label_position('top') # this moves the label to the top\n",
    "ax4.xaxis.set_ticks_position('top') # this moves the ticks to the top\n",
    "#ax4.yaxis.set_visible(False) # This erases the y ticks\n",
    "ax4.grid()"
   ]
  },
  {
   "cell_type": "code",
   "execution_count": 75,
   "metadata": {},
   "outputs": [
    {
     "data": {
      "image/png": "[encoded data removed]",
      "text/plain": [
       "<Figure size 504x360 with 3 Axes>"
      ]
     },
     "metadata": {
      "needs_background": "light"
     },
     "output_type": "display_data"
    }
   ],
   "source": [
    "# Three-panel plot\n",
    "fig2, (ax2, ax3, ax4) = plt.subplots(1,3,sharey=True, figsize=(7, 5))\n",
    "\n",
    "fig2.suptitle('2017 P1', fontsize=16, y = 1.03)\n",
    "\n",
    "# Mass flux\n",
    "\n",
    "P1_2017.plot(ax = ax2, kind='scatter', x='Flux (mg/m2/day)', y='Depth', c='Red')\n",
    "#ax2.plot(temp,depth,'o-')\n",
    "ax2.set_ylabel('Depth (m)')\n",
    "ax2.set_ylim(ax2.get_ylim()[::-1]) #this reverses the yaxis (i.e. deep at the bottom)\n",
    "ax2.set_xlabel('Mass flux (mg/m2/day)')\n",
    "ax2.xaxis.set_label_position('top') # this moves the label to the top\n",
    "ax2.xaxis.set_ticks_position('top') # this moves the ticks to the top\n",
    "ax2.grid()\n",
    "\n",
    "# Organic carbon flux\n",
    "\n",
    "P1_2017.plot(ax = ax3, kind='scatter', x='C flux organic', y='Depth', c='Green')\n",
    "#ax3.plot(salt,depth,'o-r')\n",
    "ax3.set_xlabel('Org C flux')\n",
    "ax3.xaxis.set_label_position('top') # this moves the label to the top\n",
    "ax3.xaxis.set_ticks_position('top') # this moves the ticks to the top\n",
    "#ax3.yaxis.set_visible(False) # This erases the y ticks\n",
    "ax3.grid()\n",
    "\n",
    "# CN of organic matter\n",
    "\n",
    "P1_2017.plot(ax = ax4, kind='scatter', x='CN organic', y='Depth', c='Blue')\n",
    "#ax4.plot(fluo,depth,'o-g')\n",
    "ax4.set_xlabel('C:N organic')\n",
    "ax4.xaxis.set_label_position('top') # this moves the label to the top\n",
    "ax4.xaxis.set_ticks_position('top') # this moves the ticks to the top\n",
    "#ax4.yaxis.set_visible(False) # This erases the y ticks\n",
    "ax4.grid(axis='both')"
   ]
  },
  {
   "cell_type": "code",
   "execution_count": null,
   "metadata": {},
   "outputs": [],
   "source": []
  }
 ],
 "metadata": {
  "kernelspec": {
   "display_name": "Python 3",
   "language": "python",
   "name": "python3"
  },
  "language_info": {
   "codemirror_mode": {
    "name": "ipython",
    "version": 3
   },
   "file_extension": ".py",
   "mimetype": "text/x-python",
   "name": "python",
   "nbconvert_exporter": "python",
   "pygments_lexer": "ipython3",
   "version": "3.8.3"
  }
 },
 "nbformat": 4,
 "nbformat_minor": 4
}
