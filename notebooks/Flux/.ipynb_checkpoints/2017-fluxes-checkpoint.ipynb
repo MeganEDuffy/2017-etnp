{
 "cells": [
  {
   "cell_type": "markdown",
   "metadata": {},
   "source": [
    "### Plotting ETNP 2017 fluxes"
   ]
  },
  {
   "cell_type": "code",
   "execution_count": 1,
   "metadata": {},
   "outputs": [],
   "source": [
    "import numpy as np\n",
    "import matplotlib.pyplot as plt\n",
    "import seaborn as sns\n",
    "import pandas as pd"
   ]
  },
  {
   "cell_type": "code",
   "execution_count": 58,
   "metadata": {},
   "outputs": [
    {
     "data": {
      "text/html": [
       "<div>\n",
       "<style scoped>\n",
       "    .dataframe tbody tr th:only-of-type {\n",
       "        vertical-align: middle;\n",
       "    }\n",
       "\n",
       "    .dataframe tbody tr th {\n",
       "        vertical-align: top;\n",
       "    }\n",
       "\n",
       "    .dataframe thead th {\n",
       "        text-align: right;\n",
       "    }\n",
       "</style>\n",
       "<table border=\"1\" class=\"dataframe\">\n",
       "  <thead>\n",
       "    <tr style=\"text-align: right;\">\n",
       "      <th></th>\n",
       "      <th>sample id</th>\n",
       "      <th>Year</th>\n",
       "      <th>Station</th>\n",
       "      <th>Depth</th>\n",
       "      <th>Flux (mg/m2/day)</th>\n",
       "      <th>CN total</th>\n",
       "      <th>CN organic</th>\n",
       "      <th>Total C flux (mg C/m2/day)</th>\n",
       "      <th>Total C flux (umol C/m2/day)</th>\n",
       "      <th>Organic C flux (mg C/m2/day)</th>\n",
       "      <th>Organic C flux (umol C/m2/day)</th>\n",
       "      <th>Protein flux (umol C/m2/day)</th>\n",
       "    </tr>\n",
       "  </thead>\n",
       "  <tbody>\n",
       "    <tr>\n",
       "      <th>0</th>\n",
       "      <td>1-1_60m_+p</td>\n",
       "      <td>2017</td>\n",
       "      <td>P1</td>\n",
       "      <td>60</td>\n",
       "      <td>88.651326</td>\n",
       "      <td>NaN</td>\n",
       "      <td>NaN</td>\n",
       "      <td>NaN</td>\n",
       "      <td>NaN</td>\n",
       "      <td>NaN</td>\n",
       "      <td>NaN</td>\n",
       "      <td>NaN</td>\n",
       "    </tr>\n",
       "    <tr>\n",
       "      <th>1</th>\n",
       "      <td>2-2_50m_+p</td>\n",
       "      <td>2017</td>\n",
       "      <td>P1</td>\n",
       "      <td>50</td>\n",
       "      <td>190.876791</td>\n",
       "      <td>NaN</td>\n",
       "      <td>NaN</td>\n",
       "      <td>NaN</td>\n",
       "      <td>NaN</td>\n",
       "      <td>NaN</td>\n",
       "      <td>NaN</td>\n",
       "      <td>NaN</td>\n",
       "    </tr>\n",
       "    <tr>\n",
       "      <th>2</th>\n",
       "      <td>3-3_150m_+p</td>\n",
       "      <td>2017</td>\n",
       "      <td>P1</td>\n",
       "      <td>150</td>\n",
       "      <td>83.152576</td>\n",
       "      <td>7.648856</td>\n",
       "      <td>6.801011</td>\n",
       "      <td>2.375512</td>\n",
       "      <td>197.959329</td>\n",
       "      <td>2.177262</td>\n",
       "      <td>181.438509</td>\n",
       "      <td>2.841434</td>\n",
       "    </tr>\n",
       "    <tr>\n",
       "      <th>3</th>\n",
       "      <td>1-5_100m_+p</td>\n",
       "      <td>2017</td>\n",
       "      <td>P1</td>\n",
       "      <td>100</td>\n",
       "      <td>127.943386</td>\n",
       "      <td>NaN</td>\n",
       "      <td>NaN</td>\n",
       "      <td>NaN</td>\n",
       "      <td>NaN</td>\n",
       "      <td>NaN</td>\n",
       "      <td>NaN</td>\n",
       "      <td>0.355556</td>\n",
       "    </tr>\n",
       "    <tr>\n",
       "      <th>4</th>\n",
       "      <td>1-5_150m_+p</td>\n",
       "      <td>2017</td>\n",
       "      <td>P1</td>\n",
       "      <td>150</td>\n",
       "      <td>132.055748</td>\n",
       "      <td>NaN</td>\n",
       "      <td>NaN</td>\n",
       "      <td>NaN</td>\n",
       "      <td>NaN</td>\n",
       "      <td>NaN</td>\n",
       "      <td>NaN</td>\n",
       "      <td>NaN</td>\n",
       "    </tr>\n",
       "  </tbody>\n",
       "</table>\n",
       "</div>"
      ],
      "text/plain": [
       "     sample id  Year Station  Depth  Flux (mg/m2/day)  CN total  CN organic  \\\n",
       "0   1-1_60m_+p  2017      P1     60         88.651326       NaN         NaN   \n",
       "1   2-2_50m_+p  2017      P1     50        190.876791       NaN         NaN   \n",
       "2  3-3_150m_+p  2017      P1    150         83.152576  7.648856    6.801011   \n",
       "3  1-5_100m_+p  2017      P1    100        127.943386       NaN         NaN   \n",
       "4  1-5_150m_+p  2017      P1    150        132.055748       NaN         NaN   \n",
       "\n",
       "   Total C flux (mg C/m2/day)  Total C flux (umol C/m2/day)  \\\n",
       "0                         NaN                           NaN   \n",
       "1                         NaN                           NaN   \n",
       "2                    2.375512                    197.959329   \n",
       "3                         NaN                           NaN   \n",
       "4                         NaN                           NaN   \n",
       "\n",
       "   Organic C flux (mg C/m2/day)  Organic C flux (umol C/m2/day)  \\\n",
       "0                           NaN                             NaN   \n",
       "1                           NaN                             NaN   \n",
       "2                      2.177262                      181.438509   \n",
       "3                           NaN                             NaN   \n",
       "4                           NaN                             NaN   \n",
       "\n",
       "   Protein flux (umol C/m2/day)  \n",
       "0                           NaN  \n",
       "1                           NaN  \n",
       "2                      2.841434  \n",
       "3                      0.355556  \n",
       "4                           NaN  "
      ]
     },
     "execution_count": 58,
     "metadata": {},
     "output_type": "execute_result"
    }
   ],
   "source": [
    "# read the data into pandas dataframes\n",
    "etnp_2017 = pd.read_csv(\"/home/millieginty/Documents/git-repos/2017-etnp/data/flux/2017-fluxes.csv\")\n",
    "\n",
    "etnp_2017.head()"
   ]
  },
  {
   "cell_type": "code",
   "execution_count": 61,
   "metadata": {},
   "outputs": [
    {
     "data": {
      "text/html": [
       "<div>\n",
       "<style scoped>\n",
       "    .dataframe tbody tr th:only-of-type {\n",
       "        vertical-align: middle;\n",
       "    }\n",
       "\n",
       "    .dataframe tbody tr th {\n",
       "        vertical-align: top;\n",
       "    }\n",
       "\n",
       "    .dataframe thead th {\n",
       "        text-align: right;\n",
       "    }\n",
       "</style>\n",
       "<table border=\"1\" class=\"dataframe\">\n",
       "  <thead>\n",
       "    <tr style=\"text-align: right;\">\n",
       "      <th></th>\n",
       "      <th>sample id</th>\n",
       "      <th>Year</th>\n",
       "      <th>Station</th>\n",
       "      <th>Depth</th>\n",
       "      <th>Flux (mg/m2/day)</th>\n",
       "      <th>CN total</th>\n",
       "      <th>CN organic</th>\n",
       "      <th>Total C flux (mg C/m2/day)</th>\n",
       "      <th>Total C flux (umol C/m2/day)</th>\n",
       "      <th>Organic C flux (mg C/m2/day)</th>\n",
       "      <th>Organic C flux (umol C/m2/day)</th>\n",
       "      <th>Protein flux (umol C/m2/day)</th>\n",
       "    </tr>\n",
       "  </thead>\n",
       "  <tbody>\n",
       "    <tr>\n",
       "      <th>16</th>\n",
       "      <td>1-12_73m_+p</td>\n",
       "      <td>2017</td>\n",
       "      <td>P2</td>\n",
       "      <td>73</td>\n",
       "      <td>81.787511</td>\n",
       "      <td>24.021420</td>\n",
       "      <td>18.178697</td>\n",
       "      <td>1.432503</td>\n",
       "      <td>119.375278</td>\n",
       "      <td>2.034163</td>\n",
       "      <td>169.513575</td>\n",
       "      <td>NaN</td>\n",
       "    </tr>\n",
       "    <tr>\n",
       "      <th>17</th>\n",
       "      <td>1-12_148m_+p</td>\n",
       "      <td>2017</td>\n",
       "      <td>P2</td>\n",
       "      <td>148</td>\n",
       "      <td>90.820391</td>\n",
       "      <td>25.859061</td>\n",
       "      <td>19.770272</td>\n",
       "      <td>1.432833</td>\n",
       "      <td>119.402762</td>\n",
       "      <td>1.322325</td>\n",
       "      <td>110.193708</td>\n",
       "      <td>NaN</td>\n",
       "    </tr>\n",
       "    <tr>\n",
       "      <th>18</th>\n",
       "      <td>2-14_100m_+p</td>\n",
       "      <td>2017</td>\n",
       "      <td>P2</td>\n",
       "      <td>100</td>\n",
       "      <td>138.442644</td>\n",
       "      <td>NaN</td>\n",
       "      <td>NaN</td>\n",
       "      <td>NaN</td>\n",
       "      <td>NaN</td>\n",
       "      <td>NaN</td>\n",
       "      <td>NaN</td>\n",
       "      <td>0.841857</td>\n",
       "    </tr>\n",
       "    <tr>\n",
       "      <th>19</th>\n",
       "      <td>2-14_150m_+p</td>\n",
       "      <td>2017</td>\n",
       "      <td>P2</td>\n",
       "      <td>150</td>\n",
       "      <td>70.654491</td>\n",
       "      <td>NaN</td>\n",
       "      <td>NaN</td>\n",
       "      <td>NaN</td>\n",
       "      <td>NaN</td>\n",
       "      <td>NaN</td>\n",
       "      <td>NaN</td>\n",
       "      <td>5.083198</td>\n",
       "    </tr>\n",
       "    <tr>\n",
       "      <th>20</th>\n",
       "      <td>3-15_120m_+p</td>\n",
       "      <td>2017</td>\n",
       "      <td>P2</td>\n",
       "      <td>120</td>\n",
       "      <td>129.101766</td>\n",
       "      <td>NaN</td>\n",
       "      <td>NaN</td>\n",
       "      <td>NaN</td>\n",
       "      <td>NaN</td>\n",
       "      <td>NaN</td>\n",
       "      <td>NaN</td>\n",
       "      <td>NaN</td>\n",
       "    </tr>\n",
       "  </tbody>\n",
       "</table>\n",
       "</div>"
      ],
      "text/plain": [
       "       sample id  Year Station  Depth  Flux (mg/m2/day)   CN total  \\\n",
       "16   1-12_73m_+p  2017      P2     73         81.787511  24.021420   \n",
       "17  1-12_148m_+p  2017      P2    148         90.820391  25.859061   \n",
       "18  2-14_100m_+p  2017      P2    100        138.442644        NaN   \n",
       "19  2-14_150m_+p  2017      P2    150         70.654491        NaN   \n",
       "20  3-15_120m_+p  2017      P2    120        129.101766        NaN   \n",
       "\n",
       "    CN organic  Total C flux (mg C/m2/day)  Total C flux (umol C/m2/day)  \\\n",
       "16   18.178697                    1.432503                    119.375278   \n",
       "17   19.770272                    1.432833                    119.402762   \n",
       "18         NaN                         NaN                           NaN   \n",
       "19         NaN                         NaN                           NaN   \n",
       "20         NaN                         NaN                           NaN   \n",
       "\n",
       "    Organic C flux (mg C/m2/day)  Organic C flux (umol C/m2/day)  \\\n",
       "16                      2.034163                      169.513575   \n",
       "17                      1.322325                      110.193708   \n",
       "18                           NaN                             NaN   \n",
       "19                           NaN                             NaN   \n",
       "20                           NaN                             NaN   \n",
       "\n",
       "    Protein flux (umol C/m2/day)  \n",
       "16                           NaN  \n",
       "17                           NaN  \n",
       "18                      0.841857  \n",
       "19                      5.083198  \n",
       "20                           NaN  "
      ]
     },
     "execution_count": 61,
     "metadata": {},
     "output_type": "execute_result"
    }
   ],
   "source": [
    "# keep only the rows Station = P2\n",
    "# keep only rows Station P1\n",
    "\n",
    "P2_2017 = etnp_2017.loc[(etnp_2017['Station'] == 'P2')]\n",
    "P1_2017 = etnp_2017.loc[(etnp_2017['Station'] == 'P1')]\n",
    "\n",
    "P2_2017.head()"
   ]
  },
  {
   "cell_type": "code",
   "execution_count": 50,
   "metadata": {},
   "outputs": [
    {
     "data": {
      "text/plain": [
       "<Figure size 504x216 with 0 Axes>"
      ]
     },
     "execution_count": 50,
     "metadata": {},
     "output_type": "execute_result"
    },
    {
     "data": {
      "image/png": "[encoded data removed]",
      "text/plain": [
       "<Figure size 432x288 with 1 Axes>"
      ]
     },
     "metadata": {
      "needs_background": "light"
     },
     "output_type": "display_data"
    },
    {
     "data": {
      "text/plain": [
       "<Figure size 504x216 with 0 Axes>"
      ]
     },
     "metadata": {},
     "output_type": "display_data"
    }
   ],
   "source": [
    "# Plot\n",
    "\n",
    "P2_2017.plot(kind='scatter', x='Flux (mg/m2/day)', y='Depth', c='Green')\n",
    "\n",
    "plt.gca().invert_yaxis()\n",
    "\n",
    "axes = plt.gca()\n",
    "\n",
    "\n",
    "axes.set_xlim([0,200])\n",
    "axes.set_ylim([1000,0])\n",
    "\n",
    "axes.set_xlabel('Total mass flux [mg/m2/day]', fontsize = 14, labelpad = 15)\n",
    "axes.set_ylabel('Depth [m]', fontsize = 14, labelpad = 10)\n",
    "\n",
    "\n",
    "plt.title('January 2017, Offshore P2 total mass flux', size = 16, pad=20)\n",
    "\n",
    "plt.figure(figsize=(7,3))"
   ]
  },
  {
   "cell_type": "code",
   "execution_count": 51,
   "metadata": {},
   "outputs": [
    {
     "data": {
      "text/plain": [
       "<Figure size 504x216 with 0 Axes>"
      ]
     },
     "execution_count": 51,
     "metadata": {},
     "output_type": "execute_result"
    },
    {
     "data": {
      "image/png": "[encoded data removed]",
      "text/plain": [
       "<Figure size 432x288 with 1 Axes>"
      ]
     },
     "metadata": {
      "needs_background": "light"
     },
     "output_type": "display_data"
    },
    {
     "data": {
      "text/plain": [
       "<Figure size 504x216 with 0 Axes>"
      ]
     },
     "metadata": {},
     "output_type": "display_data"
    }
   ],
   "source": [
    "# Plot\n",
    "\n",
    "P1_2017.plot(kind='scatter', x='Flux (mg/m2/day)', y='Depth', c='Green')\n",
    "\n",
    "plt.gca().invert_yaxis()\n",
    "\n",
    "axes = plt.gca()\n",
    "\n",
    "\n",
    "axes.set_xlim([0,200])\n",
    "axes.set_ylim([1000,0])\n",
    "\n",
    "axes.set_xlabel('Total mass flux [mg/m2/day]', fontsize = 14, labelpad = 15)\n",
    "axes.set_ylabel('Depth [m]', fontsize = 14, labelpad = 10)\n",
    "\n",
    "\n",
    "plt.title('January 2017, Offshore P1 total mass flux', size = 16, pad=20)\n",
    "\n",
    "plt.figure(figsize=(7,3))"
   ]
  },
  {
   "cell_type": "code",
   "execution_count": 67,
   "metadata": {},
   "outputs": [
    {
     "data": {
      "text/plain": [
       "<Figure size 504x216 with 0 Axes>"
      ]
     },
     "execution_count": 67,
     "metadata": {},
     "output_type": "execute_result"
    },
    {
     "data": {
      "image/png": "[encoded data removed]",
      "text/plain": [
       "<Figure size 432x288 with 1 Axes>"
      ]
     },
     "metadata": {
      "needs_background": "light"
     },
     "output_type": "display_data"
    },
    {
     "data": {
      "text/plain": [
       "<Figure size 504x216 with 0 Axes>"
      ]
     },
     "metadata": {},
     "output_type": "display_data"
    }
   ],
   "source": [
    "# Plot\n",
    "\n",
    "P2_2017.plot(kind='scatter', x='Organic C flux (umol C/m2/day)', y='Depth', c='Green')\n",
    "\n",
    "plt.gca().invert_yaxis()\n",
    "\n",
    "axes = plt.gca()\n",
    "\n",
    "\n",
    "axes.set_xlabel('Total mass flux [mg/m2/day]', fontsize = 14, labelpad = 15)\n",
    "axes.set_ylabel('Depth [m]', fontsize = 14, labelpad = 10)\n",
    "\n",
    "\n",
    "plt.title('January 2017, Offshore P2 Org C flux', size = 16, pad=20)\n",
    "\n",
    "plt.figure(figsize=(7,3))"
   ]
  },
  {
   "cell_type": "code",
   "execution_count": 51,
   "metadata": {},
   "outputs": [
    {
     "data": {
      "text/plain": [
       "<Figure size 504x216 with 0 Axes>"
      ]
     },
     "execution_count": 51,
     "metadata": {},
     "output_type": "execute_result"
    },
    {
     "data": {
      "image/png": "[encoded data removed]",
      "text/plain": [
       "<Figure size 432x288 with 1 Axes>"
      ]
     },
     "metadata": {
      "needs_background": "light"
     },
     "output_type": "display_data"
    },
    {
     "data": {
      "text/plain": [
       "<Figure size 504x216 with 0 Axes>"
      ]
     },
     "metadata": {},
     "output_type": "display_data"
    }
   ],
   "source": [
    "# Plot\n",
    "\n",
    "P1_2017.plot(kind='scatter', x='Flux (mg/m2/day)', y='Depth', c='Green')\n",
    "\n",
    "plt.gca().invert_yaxis()\n",
    "\n",
    "axes = plt.gca()\n",
    "\n",
    "\n",
    "axes.set_xlim([0,200])\n",
    "axes.set_ylim([1000,0])\n",
    "\n",
    "axes.set_xlabel('Total mass flux [mg/m2/day]', fontsize = 14, labelpad = 15)\n",
    "axes.set_ylabel('Depth [m]', fontsize = 14, labelpad = 10)\n",
    "\n",
    "\n",
    "plt.title('January 2017, Offshore P1 total mass flux', size = 16, pad=20)\n",
    "\n",
    "plt.figure(figsize=(7,3))"
   ]
  },
  {
   "cell_type": "code",
   "execution_count": null,
   "metadata": {},
   "outputs": [],
   "source": []
  },
  {
   "cell_type": "code",
   "execution_count": 64,
   "metadata": {},
   "outputs": [
    {
     "data": {
      "text/plain": [
       "<Figure size 504x216 with 0 Axes>"
      ]
     },
     "execution_count": 64,
     "metadata": {},
     "output_type": "execute_result"
    },
    {
     "data": {
      "image/png": "[encoded data removed]",
      "text/plain": [
       "<Figure size 432x288 with 1 Axes>"
      ]
     },
     "metadata": {
      "needs_background": "light"
     },
     "output_type": "display_data"
    },
    {
     "data": {
      "text/plain": [
       "<Figure size 504x216 with 0 Axes>"
      ]
     },
     "metadata": {},
     "output_type": "display_data"
    }
   ],
   "source": [
    "# Plot\n",
    "\n",
    "P2_2017.plot(kind='scatter', x='Protein flux (umol C/m2/day)', y='Depth', c='Green')\n",
    "\n",
    "plt.gca().invert_yaxis()\n",
    "\n",
    "axes = plt.gca()\n",
    "\n",
    "\n",
    "#axes.set_xlim([0,200])\n",
    "#axes.set_ylim([1000,0])\n",
    "\n",
    "axes.set_xlabel('Total mass flux [mg/m2/day]', fontsize = 14, labelpad = 15)\n",
    "axes.set_ylabel('Depth [m]', fontsize = 14, labelpad = 10)\n",
    "\n",
    "\n",
    "plt.title('January 2017, Offshore P2 protein flux', size = 16, pad=20)\n",
    "\n",
    "plt.figure(figsize=(7,3))"
   ]
  },
  {
   "cell_type": "code",
   "execution_count": 66,
   "metadata": {},
   "outputs": [
    {
     "data": {
      "text/plain": [
       "<Figure size 504x216 with 0 Axes>"
      ]
     },
     "execution_count": 66,
     "metadata": {},
     "output_type": "execute_result"
    },
    {
     "data": {
      "image/png": "[encoded data removed]",
      "text/plain": [
       "<Figure size 432x288 with 1 Axes>"
      ]
     },
     "metadata": {
      "needs_background": "light"
     },
     "output_type": "display_data"
    },
    {
     "data": {
      "text/plain": [
       "<Figure size 504x216 with 0 Axes>"
      ]
     },
     "metadata": {},
     "output_type": "display_data"
    }
   ],
   "source": [
    "# Plot\n",
    "\n",
    "P1_2017.plot(kind='scatter', x='Protein flux (umol C/m2/day)', y='Depth', c='Green')\n",
    "\n",
    "plt.gca().invert_yaxis()\n",
    "\n",
    "axes = plt.gca()\n",
    "\n",
    "\n",
    "axes.set_xlabel('Total mass flux [mg/m2/day]', fontsize = 14, labelpad = 15)\n",
    "axes.set_ylabel('Depth [m]', fontsize = 14, labelpad = 10)\n",
    "\n",
    "\n",
    "plt.title('January 2017, Offshore P1 protein flux', size = 16, pad=20)\n",
    "\n",
    "plt.figure(figsize=(7,3))"
   ]
  },
  {
   "cell_type": "code",
   "execution_count": null,
   "metadata": {},
   "outputs": [],
   "source": []
  }
 ],
 "metadata": {
  "kernelspec": {
   "display_name": "Python 3",
   "language": "python",
   "name": "python3"
  },
  "language_info": {
   "codemirror_mode": {
    "name": "ipython",
    "version": 3
   },
   "file_extension": ".py",
   "mimetype": "text/x-python",
   "name": "python",
   "nbconvert_exporter": "python",
   "pygments_lexer": "ipython3",
   "version": "3.8.3"
  }
 },
 "nbformat": 4,
 "nbformat_minor": 4
}
