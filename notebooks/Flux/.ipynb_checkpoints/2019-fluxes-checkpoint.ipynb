{
 "cells": [
  {
   "cell_type": "markdown",
   "metadata": {},
   "source": [
    "### Plotting ETNP 2019 fluxes"
   ]
  },
  {
   "cell_type": "code",
   "execution_count": 1,
   "metadata": {},
   "outputs": [],
   "source": [
    "import numpy as np\n",
    "import matplotlib.pyplot as plt\n",
    "import seaborn as sns\n",
    "import pandas as pd"
   ]
  },
  {
   "cell_type": "code",
   "execution_count": 2,
   "metadata": {},
   "outputs": [
    {
     "data": {
      "text/html": [
       "<div>\n",
       "<style scoped>\n",
       "    .dataframe tbody tr th:only-of-type {\n",
       "        vertical-align: middle;\n",
       "    }\n",
       "\n",
       "    .dataframe tbody tr th {\n",
       "        vertical-align: top;\n",
       "    }\n",
       "\n",
       "    .dataframe thead th {\n",
       "        text-align: right;\n",
       "    }\n",
       "</style>\n",
       "<table border=\"1\" class=\"dataframe\">\n",
       "  <thead>\n",
       "    <tr style=\"text-align: right;\">\n",
       "      <th></th>\n",
       "      <th>sample id</th>\n",
       "      <th>Year</th>\n",
       "      <th>Station</th>\n",
       "      <th>Depth</th>\n",
       "      <th>Flux (mg/m2/day)</th>\n",
       "      <th>C flux organic</th>\n",
       "      <th>Trap type</th>\n",
       "      <th>CN total</th>\n",
       "      <th>CN organic</th>\n",
       "    </tr>\n",
       "  </thead>\n",
       "  <tbody>\n",
       "    <tr>\n",
       "      <th>0</th>\n",
       "      <td>1-58_170m_NO2_ctl</td>\n",
       "      <td>2019.0</td>\n",
       "      <td>P3</td>\n",
       "      <td>170.0</td>\n",
       "      <td>NaN</td>\n",
       "      <td>NaN</td>\n",
       "      <td>Hybrid</td>\n",
       "      <td>56.647541</td>\n",
       "      <td>7.753196</td>\n",
       "    </tr>\n",
       "    <tr>\n",
       "      <th>1</th>\n",
       "      <td>1-58_170m_NO2_+P</td>\n",
       "      <td>2019.0</td>\n",
       "      <td>P3</td>\n",
       "      <td>170.0</td>\n",
       "      <td>14.629847</td>\n",
       "      <td>100.393484</td>\n",
       "      <td>Hybrid</td>\n",
       "      <td>14.081422</td>\n",
       "      <td>13.182667</td>\n",
       "    </tr>\n",
       "    <tr>\n",
       "      <th>2</th>\n",
       "      <td>1-58_570m_NO2_ctl</td>\n",
       "      <td>2019.0</td>\n",
       "      <td>P3</td>\n",
       "      <td>570.0</td>\n",
       "      <td>NaN</td>\n",
       "      <td>NaN</td>\n",
       "      <td>Hybrid</td>\n",
       "      <td>NaN</td>\n",
       "      <td>3.662264</td>\n",
       "    </tr>\n",
       "    <tr>\n",
       "      <th>3</th>\n",
       "      <td>1_58_570m_NO2_+P</td>\n",
       "      <td>2019.0</td>\n",
       "      <td>P3</td>\n",
       "      <td>570.0</td>\n",
       "      <td>41.664112</td>\n",
       "      <td>15.926666</td>\n",
       "      <td>Hybrid</td>\n",
       "      <td>10.034211</td>\n",
       "      <td>7.298795</td>\n",
       "    </tr>\n",
       "    <tr>\n",
       "      <th>4</th>\n",
       "      <td>1-58_570m_NO2_top</td>\n",
       "      <td>2019.0</td>\n",
       "      <td>P3</td>\n",
       "      <td>570.0</td>\n",
       "      <td>NaN</td>\n",
       "      <td>NaN</td>\n",
       "      <td>Hybrid</td>\n",
       "      <td>10.963441</td>\n",
       "      <td>9.726177</td>\n",
       "    </tr>\n",
       "  </tbody>\n",
       "</table>\n",
       "</div>"
      ],
      "text/plain": [
       "           sample id    Year Station  Depth  Flux (mg/m2/day)  C flux organic  \\\n",
       "0  1-58_170m_NO2_ctl  2019.0      P3  170.0               NaN             NaN   \n",
       "1   1-58_170m_NO2_+P  2019.0      P3  170.0         14.629847      100.393484   \n",
       "2  1-58_570m_NO2_ctl  2019.0      P3  570.0               NaN             NaN   \n",
       "3   1_58_570m_NO2_+P  2019.0      P3  570.0         41.664112       15.926666   \n",
       "4  1-58_570m_NO2_top  2019.0      P3  570.0               NaN             NaN   \n",
       "\n",
       "  Trap type   CN total  CN organic  \n",
       "0    Hybrid  56.647541    7.753196  \n",
       "1    Hybrid  14.081422   13.182667  \n",
       "2    Hybrid        NaN    3.662264  \n",
       "3    Hybrid  10.034211    7.298795  \n",
       "4    Hybrid  10.963441    9.726177  "
      ]
     },
     "execution_count": 2,
     "metadata": {},
     "output_type": "execute_result"
    }
   ],
   "source": [
    "# read the data into pandas dataframes\n",
    "etnp_2019 = pd.read_csv(\"/home/millieginty/Documents/git-repos/2017-etnp/data/flux/2019-fluxes.csv\")\n",
    "\n",
    "etnp_2019.head()"
   ]
  },
  {
   "cell_type": "code",
   "execution_count": 3,
   "metadata": {},
   "outputs": [
    {
     "data": {
      "text/html": [
       "<div>\n",
       "<style scoped>\n",
       "    .dataframe tbody tr th:only-of-type {\n",
       "        vertical-align: middle;\n",
       "    }\n",
       "\n",
       "    .dataframe tbody tr th {\n",
       "        vertical-align: top;\n",
       "    }\n",
       "\n",
       "    .dataframe thead th {\n",
       "        text-align: right;\n",
       "    }\n",
       "</style>\n",
       "<table border=\"1\" class=\"dataframe\">\n",
       "  <thead>\n",
       "    <tr style=\"text-align: right;\">\n",
       "      <th></th>\n",
       "      <th>sample id</th>\n",
       "      <th>Year</th>\n",
       "      <th>Station</th>\n",
       "      <th>Depth</th>\n",
       "      <th>Flux (mg/m2/day)</th>\n",
       "      <th>C flux organic</th>\n",
       "      <th>Trap type</th>\n",
       "      <th>CN total</th>\n",
       "      <th>CN organic</th>\n",
       "    </tr>\n",
       "  </thead>\n",
       "  <tbody>\n",
       "    <tr>\n",
       "      <th>24</th>\n",
       "      <td>4-52_173m_+P</td>\n",
       "      <td>2019.0</td>\n",
       "      <td>P2</td>\n",
       "      <td>173.0</td>\n",
       "      <td>53.100080</td>\n",
       "      <td>30.541058</td>\n",
       "      <td>Hybrid</td>\n",
       "      <td>17.851351</td>\n",
       "      <td>15.015169</td>\n",
       "    </tr>\n",
       "    <tr>\n",
       "      <th>25</th>\n",
       "      <td>4-52_173m_ctl</td>\n",
       "      <td>2019.0</td>\n",
       "      <td>P2</td>\n",
       "      <td>173.0</td>\n",
       "      <td>NaN</td>\n",
       "      <td>NaN</td>\n",
       "      <td>Hybrid</td>\n",
       "      <td>46.076923</td>\n",
       "      <td>29.827160</td>\n",
       "    </tr>\n",
       "    <tr>\n",
       "      <th>26</th>\n",
       "      <td>4-52_173m_top</td>\n",
       "      <td>2019.0</td>\n",
       "      <td>P2</td>\n",
       "      <td>173.0</td>\n",
       "      <td>NaN</td>\n",
       "      <td>NaN</td>\n",
       "      <td>Hybrid</td>\n",
       "      <td>24.864865</td>\n",
       "      <td>14.151515</td>\n",
       "    </tr>\n",
       "    <tr>\n",
       "      <th>27</th>\n",
       "      <td>4-52_965m_top/+P</td>\n",
       "      <td>2019.0</td>\n",
       "      <td>P2</td>\n",
       "      <td>965.0</td>\n",
       "      <td>21.163185</td>\n",
       "      <td>18.532064</td>\n",
       "      <td>Hybrid</td>\n",
       "      <td>15.935728</td>\n",
       "      <td>11.273752</td>\n",
       "    </tr>\n",
       "    <tr>\n",
       "      <th>28</th>\n",
       "      <td>3-54_402m_ctl</td>\n",
       "      <td>2019.0</td>\n",
       "      <td>P2</td>\n",
       "      <td>402.0</td>\n",
       "      <td>NaN</td>\n",
       "      <td>NaN</td>\n",
       "      <td>Hybrid</td>\n",
       "      <td>39.930000</td>\n",
       "      <td>30.154135</td>\n",
       "    </tr>\n",
       "  </tbody>\n",
       "</table>\n",
       "</div>"
      ],
      "text/plain": [
       "           sample id    Year Station  Depth  Flux (mg/m2/day)  C flux organic  \\\n",
       "24      4-52_173m_+P  2019.0      P2  173.0         53.100080       30.541058   \n",
       "25     4-52_173m_ctl  2019.0      P2  173.0               NaN             NaN   \n",
       "26     4-52_173m_top  2019.0      P2  173.0               NaN             NaN   \n",
       "27  4-52_965m_top/+P  2019.0      P2  965.0         21.163185       18.532064   \n",
       "28     3-54_402m_ctl  2019.0      P2  402.0               NaN             NaN   \n",
       "\n",
       "   Trap type   CN total  CN organic  \n",
       "24    Hybrid  17.851351   15.015169  \n",
       "25    Hybrid  46.076923   29.827160  \n",
       "26    Hybrid  24.864865   14.151515  \n",
       "27    Hybrid  15.935728   11.273752  \n",
       "28    Hybrid  39.930000   30.154135  "
      ]
     },
     "execution_count": 3,
     "metadata": {},
     "output_type": "execute_result"
    }
   ],
   "source": [
    "# keep only the rows Station = P2\n",
    "# keep only rows Station P1\n",
    "\n",
    "P2_2019 = etnp_2019.loc[(etnp_2019['Station'] == 'P2')]\n",
    "P3_2019 = etnp_2019.loc[(etnp_2019['Station'] == 'P3')]\n",
    "\n",
    "P2_2019.head()"
   ]
  },
  {
   "cell_type": "code",
   "execution_count": 4,
   "metadata": {},
   "outputs": [
    {
     "data": {
      "text/plain": [
       "<Figure size 504x216 with 0 Axes>"
      ]
     },
     "execution_count": 4,
     "metadata": {},
     "output_type": "execute_result"
    },
    {
     "data": {
      "image/png": "[encoded data removed]",
      "text/plain": [
       "<Figure size 432x288 with 1 Axes>"
      ]
     },
     "metadata": {
      "needs_background": "light"
     },
     "output_type": "display_data"
    },
    {
     "data": {
      "text/plain": [
       "<Figure size 504x216 with 0 Axes>"
      ]
     },
     "metadata": {},
     "output_type": "display_data"
    }
   ],
   "source": [
    "# Plot\n",
    "\n",
    "P2_2019.plot(kind='scatter', x='Flux (mg/m2/day)', y='Depth', c='Red')\n",
    "\n",
    "plt.gca().invert_yaxis()\n",
    "\n",
    "axes = plt.gca()\n",
    "\n",
    "\n",
    "axes.set_xlim([0,200])\n",
    "axes.set_ylim([1000,0])\n",
    "\n",
    "axes.set_xlabel('Total mass flux [mg/m2/day]', fontsize = 14, labelpad = 15)\n",
    "axes.set_ylabel('Depth [m]', fontsize = 14, labelpad = 10)\n",
    "\n",
    "\n",
    "plt.title('October 2019, Offshore P2 total mass flux', size = 16, pad=20)\n",
    "\n",
    "plt.figure(figsize=(7,3))"
   ]
  },
  {
   "cell_type": "code",
   "execution_count": 5,
   "metadata": {},
   "outputs": [
    {
     "data": {
      "text/plain": [
       "<Figure size 504x216 with 0 Axes>"
      ]
     },
     "execution_count": 5,
     "metadata": {},
     "output_type": "execute_result"
    },
    {
     "data": {
      "image/png": "[encoded data removed]",
      "text/plain": [
       "<Figure size 432x288 with 1 Axes>"
      ]
     },
     "metadata": {
      "needs_background": "light"
     },
     "output_type": "display_data"
    },
    {
     "data": {
      "text/plain": [
       "<Figure size 504x216 with 0 Axes>"
      ]
     },
     "metadata": {},
     "output_type": "display_data"
    }
   ],
   "source": [
    "# Plot\n",
    "\n",
    "P3_2019.plot(kind='scatter', x='Flux (mg/m2/day)', y='Depth', c='Red')\n",
    "\n",
    "plt.gca().invert_yaxis()\n",
    "\n",
    "axes = plt.gca()\n",
    "\n",
    "\n",
    "axes.set_xlim([0,200])\n",
    "axes.set_ylim([1000,0])\n",
    "\n",
    "axes.set_xlabel('Total mass flux [mg/m2/day]', fontsize = 14, labelpad = 15)\n",
    "axes.set_ylabel('Depth [m]', fontsize = 14, labelpad = 10)\n",
    "\n",
    "\n",
    "plt.title('October 2019, Northern ODZ P3 total mass flux', size = 16, pad=20)\n",
    "\n",
    "plt.figure(figsize=(7,3))"
   ]
  },
  {
   "cell_type": "code",
   "execution_count": 6,
   "metadata": {},
   "outputs": [
    {
     "data": {
      "text/plain": [
       "<Figure size 504x216 with 0 Axes>"
      ]
     },
     "execution_count": 6,
     "metadata": {},
     "output_type": "execute_result"
    },
    {
     "data": {
      "image/png": "[encoded data removed]",
      "text/plain": [
       "<Figure size 432x288 with 1 Axes>"
      ]
     },
     "metadata": {
      "needs_background": "light"
     },
     "output_type": "display_data"
    },
    {
     "data": {
      "text/plain": [
       "<Figure size 504x216 with 0 Axes>"
      ]
     },
     "metadata": {},
     "output_type": "display_data"
    }
   ],
   "source": [
    "# Plot\n",
    "\n",
    "P2_2019.plot(kind='scatter', x='C flux organic', y='Depth', c='Red')\n",
    "\n",
    "plt.gca().invert_yaxis()\n",
    "\n",
    "axes = plt.gca()\n",
    "\n",
    "\n",
    "axes.set_xlabel('Org C flux (umol C/m2/day)', fontsize = 14, labelpad = 15)\n",
    "axes.set_ylabel('Depth [m]', fontsize = 14, labelpad = 10)\n",
    "\n",
    "\n",
    "plt.title('October 2019, Offshore P2 Org C flux', size = 16, pad=20)\n",
    "\n",
    "plt.figure(figsize=(7,3))"
   ]
  },
  {
   "cell_type": "code",
   "execution_count": 7,
   "metadata": {},
   "outputs": [
    {
     "data": {
      "text/plain": [
       "<Figure size 504x216 with 0 Axes>"
      ]
     },
     "execution_count": 7,
     "metadata": {},
     "output_type": "execute_result"
    },
    {
     "data": {
      "image/png": "[encoded data removed]",
      "text/plain": [
       "<Figure size 432x288 with 1 Axes>"
      ]
     },
     "metadata": {
      "needs_background": "light"
     },
     "output_type": "display_data"
    },
    {
     "data": {
      "text/plain": [
       "<Figure size 504x216 with 0 Axes>"
      ]
     },
     "metadata": {},
     "output_type": "display_data"
    }
   ],
   "source": [
    "# Plot\n",
    "\n",
    "P2_2019.plot(kind='scatter', x='CN organic', y='Depth', c='Red')\n",
    "\n",
    "plt.gca().invert_yaxis()\n",
    "\n",
    "axes = plt.gca()\n",
    "\n",
    "\n",
    "axes.set_xlabel('Org CN', fontsize = 14, labelpad = 15)\n",
    "axes.set_ylabel('Depth [m]', fontsize = 14, labelpad = 10)\n",
    "\n",
    "\n",
    "plt.title('October 2019, Offshore P2 Org C flux', size = 16, pad=20)\n",
    "\n",
    "plt.figure(figsize=(7,3))"
   ]
  },
  {
   "cell_type": "code",
   "execution_count": null,
   "metadata": {},
   "outputs": [],
   "source": []
  },
  {
   "cell_type": "code",
   "execution_count": 45,
   "metadata": {},
   "outputs": [
    {
     "data": {
      "text/plain": [
       "<Figure size 504x216 with 0 Axes>"
      ]
     },
     "execution_count": 45,
     "metadata": {},
     "output_type": "execute_result"
    },
    {
     "data": {
      "image/png": "[encoded data removed]",
      "text/plain": [
       "<Figure size 432x288 with 1 Axes>"
      ]
     },
     "metadata": {
      "needs_background": "light"
     },
     "output_type": "display_data"
    },
    {
     "data": {
      "text/plain": [
       "<Figure size 504x216 with 0 Axes>"
      ]
     },
     "metadata": {},
     "output_type": "display_data"
    }
   ],
   "source": [
    "# Plot\n",
    "\n",
    "P3_2019.plot(kind='scatter', x='C flux organic', y='Depth', c='Red')\n",
    "\n",
    "plt.gca().invert_yaxis()\n",
    "\n",
    "axes = plt.gca()\n",
    "\n",
    "\n",
    "axes.set_xlabel('Org C flux (umol C/m2/day)', fontsize = 14, labelpad = 15)\n",
    "axes.set_ylabel('Depth [m]', fontsize = 14, labelpad = 10)\n",
    "\n",
    "\n",
    "plt.title('October 2019, Northern P3 Org C flux', size = 16, pad=20)\n",
    "\n",
    "plt.figure(figsize=(7,3))"
   ]
  },
  {
   "cell_type": "code",
   "execution_count": 47,
   "metadata": {},
   "outputs": [
    {
     "data": {
      "text/plain": [
       "Text(0, 0.5, 'Depth [m]')"
      ]
     },
     "execution_count": 47,
     "metadata": {},
     "output_type": "execute_result"
    },
    {
     "data": {
      "image/png": "[encoded data removed]",
      "text/plain": [
       "<Figure size 432x288 with 1 Axes>"
      ]
     },
     "metadata": {
      "needs_background": "light"
     },
     "output_type": "display_data"
    }
   ],
   "source": [
    "plt.scatter(P3_2019['C flux organic'], P3_2019['Depth'])\n",
    "plt.plot(P3_2019['C flux organic'], P3_2019['Depth'])\n",
    "\n",
    "plt.gca().invert_yaxis()\n",
    "\n",
    "axes = plt.gca()\n",
    "\n",
    "\n",
    "axes.set_xlim([0,200])\n",
    "axes.set_ylim([400,0])\n",
    "\n",
    "\n",
    "axes.set_xlabel('Org C flux (umol C/m2/day)', fontsize = 14, labelpad = 15)\n",
    "axes.set_ylabel('Depth [m]', fontsize = 14, labelpad = 10)"
   ]
  },
  {
   "cell_type": "code",
   "execution_count": 51,
   "metadata": {},
   "outputs": [
    {
     "data": {
      "text/plain": [
       "<Figure size 504x216 with 0 Axes>"
      ]
     },
     "execution_count": 51,
     "metadata": {},
     "output_type": "execute_result"
    },
    {
     "data": {
      "image/png": "[encoded data removed]",
      "text/plain": [
       "<Figure size 432x288 with 1 Axes>"
      ]
     },
     "metadata": {
      "needs_background": "light"
     },
     "output_type": "display_data"
    },
    {
     "data": {
      "text/plain": [
       "<Figure size 504x216 with 0 Axes>"
      ]
     },
     "metadata": {},
     "output_type": "display_data"
    }
   ],
   "source": [
    "# Plot\n",
    "\n",
    "P1_2019.plot(kind='scatter', x='Flux (mg/m2/day)', y='Depth', c='Green')\n",
    "\n",
    "plt.gca().invert_yaxis()\n",
    "\n",
    "axes = plt.gca()\n",
    "\n",
    "\n",
    "axes.set_xlim([0,200])\n",
    "axes.set_ylim([1000,0])\n",
    "\n",
    "axes.set_xlabel('Total mass flux [mg/m2/day]', fontsize = 14, labelpad = 15)\n",
    "axes.set_ylabel('Depth [m]', fontsize = 14, labelpad = 10)\n",
    "\n",
    "\n",
    "plt.title('January 2019, Offshore P1 total mass flux', size = 16, pad=20)\n",
    "\n",
    "plt.figure(figsize=(7,3))"
   ]
  },
  {
   "cell_type": "code",
   "execution_count": null,
   "metadata": {},
   "outputs": [],
   "source": []
  },
  {
   "cell_type": "code",
   "execution_count": 64,
   "metadata": {},
   "outputs": [
    {
     "data": {
      "text/plain": [
       "<Figure size 504x216 with 0 Axes>"
      ]
     },
     "execution_count": 64,
     "metadata": {},
     "output_type": "execute_result"
    },
    {
     "data": {
      "image/png": "[encoded data removed]",
      "text/plain": [
       "<Figure size 432x288 with 1 Axes>"
      ]
     },
     "metadata": {
      "needs_background": "light"
     },
     "output_type": "display_data"
    },
    {
     "data": {
      "text/plain": [
       "<Figure size 504x216 with 0 Axes>"
      ]
     },
     "metadata": {},
     "output_type": "display_data"
    }
   ],
   "source": [
    "# Plot\n",
    "\n",
    "P2_2019.plot(kind='scatter', x='Protein flux (umol C/m2/day)', y='Depth', c='Green')\n",
    "\n",
    "plt.gca().invert_yaxis()\n",
    "\n",
    "axes = plt.gca()\n",
    "\n",
    "\n",
    "#axes.set_xlim([0,200])\n",
    "#axes.set_ylim([1000,0])\n",
    "\n",
    "axes.set_xlabel('Total mass flux [mg/m2/day]', fontsize = 14, labelpad = 15)\n",
    "axes.set_ylabel('Depth [m]', fontsize = 14, labelpad = 10)\n",
    "\n",
    "\n",
    "plt.title('January 2019, Offshore P2 protein flux', size = 16, pad=20)\n",
    "\n",
    "plt.figure(figsize=(7,3))"
   ]
  },
  {
   "cell_type": "code",
   "execution_count": 66,
   "metadata": {},
   "outputs": [
    {
     "data": {
      "text/plain": [
       "<Figure size 504x216 with 0 Axes>"
      ]
     },
     "execution_count": 66,
     "metadata": {},
     "output_type": "execute_result"
    },
    {
     "data": {
      "image/png": "[encoded data removed]",
      "text/plain": [
       "<Figure size 432x288 with 1 Axes>"
      ]
     },
     "metadata": {
      "needs_background": "light"
     },
     "output_type": "display_data"
    },
    {
     "data": {
      "text/plain": [
       "<Figure size 504x216 with 0 Axes>"
      ]
     },
     "metadata": {},
     "output_type": "display_data"
    }
   ],
   "source": [
    "# Plot\n",
    "\n",
    "P1_2019.plot(kind='scatter', x='Protein flux (umol C/m2/day)', y='Depth', c='Green')\n",
    "\n",
    "plt.gca().invert_yaxis()\n",
    "\n",
    "axes = plt.gca()\n",
    "\n",
    "\n",
    "axes.set_xlabel('Total mass flux [mg/m2/day]', fontsize = 14, labelpad = 15)\n",
    "axes.set_ylabel('Depth [m]', fontsize = 14, labelpad = 10)\n",
    "\n",
    "\n",
    "plt.title('January 2019, Offshore P1 protein flux', size = 16, pad=20)\n",
    "\n",
    "plt.figure(figsize=(7,3))"
   ]
  },
  {
   "cell_type": "code",
   "execution_count": 51,
   "metadata": {},
   "outputs": [
    {
     "data": {
      "text/html": [
       "<div>\n",
       "<style scoped>\n",
       "    .dataframe tbody tr th:only-of-type {\n",
       "        vertical-align: middle;\n",
       "    }\n",
       "\n",
       "    .dataframe tbody tr th {\n",
       "        vertical-align: top;\n",
       "    }\n",
       "\n",
       "    .dataframe thead th {\n",
       "        text-align: right;\n",
       "    }\n",
       "</style>\n",
       "<table border=\"1\" class=\"dataframe\">\n",
       "  <thead>\n",
       "    <tr style=\"text-align: right;\">\n",
       "      <th></th>\n",
       "      <th>Station</th>\n",
       "      <th>Type</th>\n",
       "      <th>Date</th>\n",
       "      <th>Longitude</th>\n",
       "      <th>Latitude</th>\n",
       "      <th>Pr [db]</th>\n",
       "      <th>Depth [m]</th>\n",
       "      <th>Temp [C]</th>\n",
       "      <th>Sal [PSU]</th>\n",
       "      <th>Sigma-0</th>\n",
       "      <th>Fluor [ug/L]</th>\n",
       "      <th>Attn [1/m]</th>\n",
       "      <th>Trans [%]</th>\n",
       "      <th>Par</th>\n",
       "      <th>O2 [umol/kg]</th>\n",
       "      <th>O2 [%]</th>\n",
       "      <th>Bottle</th>\n",
       "    </tr>\n",
       "  </thead>\n",
       "  <tbody>\n",
       "    <tr>\n",
       "      <th>0</th>\n",
       "      <td>P2(27)</td>\n",
       "      <td>B</td>\n",
       "      <td>10/03/19</td>\n",
       "      <td>-106.88860</td>\n",
       "      <td>16.796</td>\n",
       "      <td>3037.782</td>\n",
       "      <td>2998.151</td>\n",
       "      <td>1.691</td>\n",
       "      <td>34.715</td>\n",
       "      <td>27.784</td>\n",
       "      <td>0.0237</td>\n",
       "      <td>0.0000</td>\n",
       "      <td>100.0003</td>\n",
       "      <td>0.0</td>\n",
       "      <td>116.51</td>\n",
       "      <td>34.89</td>\n",
       "      <td>1</td>\n",
       "    </tr>\n",
       "    <tr>\n",
       "      <th>1</th>\n",
       "      <td>P2(27)</td>\n",
       "      <td>B</td>\n",
       "      <td>10/03/19</td>\n",
       "      <td>-106.88866</td>\n",
       "      <td>16.796</td>\n",
       "      <td>2783.772</td>\n",
       "      <td>2749.067</td>\n",
       "      <td>1.710</td>\n",
       "      <td>34.713</td>\n",
       "      <td>27.779</td>\n",
       "      <td>0.0270</td>\n",
       "      <td>0.0004</td>\n",
       "      <td>99.9912</td>\n",
       "      <td>0.0</td>\n",
       "      <td>113.68</td>\n",
       "      <td>34.06</td>\n",
       "      <td>2</td>\n",
       "    </tr>\n",
       "    <tr>\n",
       "      <th>2</th>\n",
       "      <td>P2(27)</td>\n",
       "      <td>B</td>\n",
       "      <td>10/03/19</td>\n",
       "      <td>-106.88870</td>\n",
       "      <td>16.796</td>\n",
       "      <td>2530.006</td>\n",
       "      <td>2499.936</td>\n",
       "      <td>1.789</td>\n",
       "      <td>34.707</td>\n",
       "      <td>27.767</td>\n",
       "      <td>0.0267</td>\n",
       "      <td>0.0009</td>\n",
       "      <td>99.9762</td>\n",
       "      <td>0.0</td>\n",
       "      <td>106.66</td>\n",
       "      <td>32.02</td>\n",
       "      <td>3</td>\n",
       "    </tr>\n",
       "    <tr>\n",
       "      <th>3</th>\n",
       "      <td>P2(27)</td>\n",
       "      <td>B</td>\n",
       "      <td>10/03/19</td>\n",
       "      <td>-106.88870</td>\n",
       "      <td>16.796</td>\n",
       "      <td>2276.254</td>\n",
       "      <td>2250.529</td>\n",
       "      <td>1.947</td>\n",
       "      <td>34.698</td>\n",
       "      <td>27.746</td>\n",
       "      <td>0.0315</td>\n",
       "      <td>0.0031</td>\n",
       "      <td>99.9221</td>\n",
       "      <td>0.0</td>\n",
       "      <td>96.75</td>\n",
       "      <td>29.16</td>\n",
       "      <td>4</td>\n",
       "    </tr>\n",
       "    <tr>\n",
       "      <th>4</th>\n",
       "      <td>P2(27)</td>\n",
       "      <td>B</td>\n",
       "      <td>10/03/19</td>\n",
       "      <td>-106.88882</td>\n",
       "      <td>16.796</td>\n",
       "      <td>2023.280</td>\n",
       "      <td>2001.597</td>\n",
       "      <td>2.144</td>\n",
       "      <td>34.687</td>\n",
       "      <td>27.721</td>\n",
       "      <td>0.0382</td>\n",
       "      <td>0.0043</td>\n",
       "      <td>99.8931</td>\n",
       "      <td>0.0</td>\n",
       "      <td>85.60</td>\n",
       "      <td>25.92</td>\n",
       "      <td>5</td>\n",
       "    </tr>\n",
       "  </tbody>\n",
       "</table>\n",
       "</div>"
      ],
      "text/plain": [
       "  Station Type      Date  Longitude  Latitude   Pr [db]  Depth [m]  Temp [C]  \\\n",
       "0  P2(27)    B  10/03/19 -106.88860    16.796  3037.782   2998.151     1.691   \n",
       "1  P2(27)    B  10/03/19 -106.88866    16.796  2783.772   2749.067     1.710   \n",
       "2  P2(27)    B  10/03/19 -106.88870    16.796  2530.006   2499.936     1.789   \n",
       "3  P2(27)    B  10/03/19 -106.88870    16.796  2276.254   2250.529     1.947   \n",
       "4  P2(27)    B  10/03/19 -106.88882    16.796  2023.280   2001.597     2.144   \n",
       "\n",
       "   Sal [PSU]  Sigma-0  Fluor [ug/L]  Attn [1/m]  Trans [%]  Par  O2 [umol/kg]  \\\n",
       "0     34.715   27.784        0.0237      0.0000   100.0003  0.0        116.51   \n",
       "1     34.713   27.779        0.0270      0.0004    99.9912  0.0        113.68   \n",
       "2     34.707   27.767        0.0267      0.0009    99.9762  0.0        106.66   \n",
       "3     34.698   27.746        0.0315      0.0031    99.9221  0.0         96.75   \n",
       "4     34.687   27.721        0.0382      0.0043    99.8931  0.0         85.60   \n",
       "\n",
       "   O2 [%]  Bottle  \n",
       "0   34.89       1  \n",
       "1   34.06       2  \n",
       "2   32.02       3  \n",
       "3   29.16       4  \n",
       "4   25.92       5  "
      ]
     },
     "execution_count": 51,
     "metadata": {},
     "output_type": "execute_result"
    }
   ],
   "source": [
    "# read the ODV data into pandas dataframes\n",
    "odv_2019 = pd.read_csv('/home/millieginty/Documents/git-repos/2017-etnp/data/flux/2019-P2_odv.csv')\n",
    "\n",
    "odv_2019.head()"
   ]
  },
  {
   "cell_type": "code",
   "execution_count": 72,
   "metadata": {},
   "outputs": [
    {
     "data": {
      "text/plain": [
       "Text(0.5, 1.0, 'October 2019 P2, Oxygen')"
      ]
     },
     "execution_count": 72,
     "metadata": {},
     "output_type": "execute_result"
    },
    {
     "data": {
      "image/png": "[encoded data removed]",
      "text/plain": [
       "<Figure size 432x288 with 1 Axes>"
      ]
     },
     "metadata": {
      "needs_background": "light"
     },
     "output_type": "display_data"
    }
   ],
   "source": [
    "plt.scatter(odv_2019['O2 [umol/kg]'], odv_2019['Depth [m]'], color = 'Red')\n",
    "plt.plot(odv_2019['O2 [umol/kg]'], odv_2019['Depth [m]'], color = 'Red')\n",
    "\n",
    "plt.gca().invert_yaxis()\n",
    "\n",
    "axes = plt.gca()\n",
    "\n",
    "\n",
    "#axes.set_xlim([0,210])\n",
    "#axes.set_ylim([400,0])\n",
    "\n",
    "\n",
    "axes.set_xlabel('O2 [umol/kg]', fontsize = 14, labelpad = 15)\n",
    "axes.set_ylabel('Depth [m]', fontsize = 14, labelpad = 10)\n",
    "\n",
    "plt.title('October 2019 P2, Oxygen', size = 16, pad=20)"
   ]
  },
  {
   "cell_type": "code",
   "execution_count": 73,
   "metadata": {},
   "outputs": [
    {
     "data": {
      "text/plain": [
       "Text(0.5, 1.0, 'October 2019 P2, Fluorescence')"
      ]
     },
     "execution_count": 73,
     "metadata": {},
     "output_type": "execute_result"
    },
    {
     "data": {
      "image/png": "[encoded data removed]",
      "text/plain": [
       "<Figure size 432x288 with 1 Axes>"
      ]
     },
     "metadata": {
      "needs_background": "light"
     },
     "output_type": "display_data"
    }
   ],
   "source": [
    "plt.scatter(odv_2019['Fluor [ug/L]'], odv_2019['Depth [m]'], color = 'Green')\n",
    "plt.plot(odv_2019['Fluor [ug/L]'], odv_2019['Depth [m]'], color = 'Green')\n",
    "\n",
    "plt.gca().invert_yaxis()\n",
    "\n",
    "axes = plt.gca()\n",
    "\n",
    "\n",
    "#axes.set_xlim([0,210])\n",
    "axes.set_ylim([300,0])\n",
    "\n",
    "\n",
    "axes.set_xlabel('Fluor [ug/L]', fontsize = 14, labelpad = 15)\n",
    "axes.set_ylabel('Depth [m]', fontsize = 14, labelpad = 10)\n",
    "\n",
    "plt.title('October 2019 P2, Fluorescence', size = 16, pad=20)"
   ]
  },
  {
   "cell_type": "code",
   "execution_count": 74,
   "metadata": {
    "scrolled": true
   },
   "outputs": [
    {
     "data": {
      "text/html": [
       "<div>\n",
       "<style scoped>\n",
       "    .dataframe tbody tr th:only-of-type {\n",
       "        vertical-align: middle;\n",
       "    }\n",
       "\n",
       "    .dataframe tbody tr th {\n",
       "        vertical-align: top;\n",
       "    }\n",
       "\n",
       "    .dataframe thead th {\n",
       "        text-align: right;\n",
       "    }\n",
       "</style>\n",
       "<table border=\"1\" class=\"dataframe\">\n",
       "  <thead>\n",
       "    <tr style=\"text-align: right;\">\n",
       "      <th></th>\n",
       "      <th>Station</th>\n",
       "      <th>Type</th>\n",
       "      <th>Date</th>\n",
       "      <th>Longitude</th>\n",
       "      <th>Latitude</th>\n",
       "      <th>Pr [db]</th>\n",
       "      <th>Depth [m]</th>\n",
       "      <th>Temp [C]</th>\n",
       "      <th>Sal [PSU]</th>\n",
       "      <th>Sigma-0</th>\n",
       "      <th>Fluor [ug/L]</th>\n",
       "      <th>Attn [1/m]</th>\n",
       "      <th>Trans [%]</th>\n",
       "      <th>Par</th>\n",
       "      <th>O2 [umol/kg]</th>\n",
       "      <th>O2 [%]</th>\n",
       "      <th>Bottle</th>\n",
       "      <th>Bottle nitrite</th>\n",
       "    </tr>\n",
       "  </thead>\n",
       "  <tbody>\n",
       "    <tr>\n",
       "      <th>0</th>\n",
       "      <td>KM1919-20</td>\n",
       "      <td>P3 (73)</td>\n",
       "      <td>B</td>\n",
       "      <td>10/17/19</td>\n",
       "      <td>-109.90766</td>\n",
       "      <td>21.94326</td>\n",
       "      <td>301.841</td>\n",
       "      <td>299.743</td>\n",
       "      <td>10.470</td>\n",
       "      <td>34.705</td>\n",
       "      <td>26.646</td>\n",
       "      <td>0.0639</td>\n",
       "      <td>0.070</td>\n",
       "      <td>98.265</td>\n",
       "      <td>1.000000e-12</td>\n",
       "      <td>1.09</td>\n",
       "      <td>0.40</td>\n",
       "      <td>1</td>\n",
       "    </tr>\n",
       "    <tr>\n",
       "      <th>1</th>\n",
       "      <td>NaN</td>\n",
       "      <td>P3 (73)</td>\n",
       "      <td>B</td>\n",
       "      <td>10/17/19</td>\n",
       "      <td>-109.90766</td>\n",
       "      <td>21.94326</td>\n",
       "      <td>301.762</td>\n",
       "      <td>299.664</td>\n",
       "      <td>10.471</td>\n",
       "      <td>34.705</td>\n",
       "      <td>26.646</td>\n",
       "      <td>0.0644</td>\n",
       "      <td>0.070</td>\n",
       "      <td>98.268</td>\n",
       "      <td>1.000000e-12</td>\n",
       "      <td>0.96</td>\n",
       "      <td>0.35</td>\n",
       "      <td>2</td>\n",
       "    </tr>\n",
       "    <tr>\n",
       "      <th>2</th>\n",
       "      <td>NaN</td>\n",
       "      <td>P3 (73)</td>\n",
       "      <td>B</td>\n",
       "      <td>10/17/19</td>\n",
       "      <td>-109.90768</td>\n",
       "      <td>21.94326</td>\n",
       "      <td>301.118</td>\n",
       "      <td>299.025</td>\n",
       "      <td>10.489</td>\n",
       "      <td>34.704</td>\n",
       "      <td>26.643</td>\n",
       "      <td>0.0641</td>\n",
       "      <td>0.071</td>\n",
       "      <td>98.247</td>\n",
       "      <td>1.000000e-12</td>\n",
       "      <td>0.97</td>\n",
       "      <td>0.36</td>\n",
       "      <td>3</td>\n",
       "    </tr>\n",
       "    <tr>\n",
       "      <th>3</th>\n",
       "      <td>NaN</td>\n",
       "      <td>P3 (73)</td>\n",
       "      <td>B</td>\n",
       "      <td>10/17/19</td>\n",
       "      <td>-109.90766</td>\n",
       "      <td>21.94328</td>\n",
       "      <td>301.938</td>\n",
       "      <td>299.839</td>\n",
       "      <td>10.473</td>\n",
       "      <td>34.703</td>\n",
       "      <td>26.645</td>\n",
       "      <td>0.0637</td>\n",
       "      <td>0.069</td>\n",
       "      <td>98.284</td>\n",
       "      <td>1.000000e-12</td>\n",
       "      <td>0.88</td>\n",
       "      <td>0.32</td>\n",
       "      <td>4</td>\n",
       "    </tr>\n",
       "    <tr>\n",
       "      <th>4</th>\n",
       "      <td>NaN</td>\n",
       "      <td>P3 (73)</td>\n",
       "      <td>B</td>\n",
       "      <td>10/17/19</td>\n",
       "      <td>-109.90766</td>\n",
       "      <td>21.94328</td>\n",
       "      <td>301.324</td>\n",
       "      <td>299.229</td>\n",
       "      <td>10.470</td>\n",
       "      <td>34.704</td>\n",
       "      <td>26.646</td>\n",
       "      <td>0.0644</td>\n",
       "      <td>0.071</td>\n",
       "      <td>98.244</td>\n",
       "      <td>1.000000e-12</td>\n",
       "      <td>0.90</td>\n",
       "      <td>0.33</td>\n",
       "      <td>5</td>\n",
       "    </tr>\n",
       "  </tbody>\n",
       "</table>\n",
       "</div>"
      ],
      "text/plain": [
       "     Station     Type Date Longitude   Latitude   Pr [db]  Depth [m]  \\\n",
       "0  KM1919-20  P3 (73)    B  10/17/19 -109.90766  21.94326    301.841   \n",
       "1        NaN  P3 (73)    B  10/17/19 -109.90766  21.94326    301.762   \n",
       "2        NaN  P3 (73)    B  10/17/19 -109.90768  21.94326    301.118   \n",
       "3        NaN  P3 (73)    B  10/17/19 -109.90766  21.94328    301.938   \n",
       "4        NaN  P3 (73)    B  10/17/19 -109.90766  21.94328    301.324   \n",
       "\n",
       "   Temp [C]  Sal [PSU]  Sigma-0  Fluor [ug/L]  Attn [1/m]  Trans [%]     Par  \\\n",
       "0   299.743     10.470   34.705        26.646      0.0639      0.070  98.265   \n",
       "1   299.664     10.471   34.705        26.646      0.0644      0.070  98.268   \n",
       "2   299.025     10.489   34.704        26.643      0.0641      0.071  98.247   \n",
       "3   299.839     10.473   34.703        26.645      0.0637      0.069  98.284   \n",
       "4   299.229     10.470   34.704        26.646      0.0644      0.071  98.244   \n",
       "\n",
       "   O2 [umol/kg]  O2 [%]  Bottle  Bottle nitrite  \n",
       "0  1.000000e-12    1.09    0.40               1  \n",
       "1  1.000000e-12    0.96    0.35               2  \n",
       "2  1.000000e-12    0.97    0.36               3  \n",
       "3  1.000000e-12    0.88    0.32               4  \n",
       "4  1.000000e-12    0.90    0.33               5  "
      ]
     },
     "execution_count": 74,
     "metadata": {},
     "output_type": "execute_result"
    }
   ],
   "source": [
    "# read the ODV data into pandas dataframes\n",
    "odvP3_2019 = pd.read_csv('/home/millieginty/Documents/git-repos/2017-etnp/data/flux/2019-P3_odv.csv')\n",
    "\n",
    "odvP3_2019.head()"
   ]
  },
  {
   "cell_type": "code",
   "execution_count": 75,
   "metadata": {},
   "outputs": [
    {
     "data": {
      "text/plain": [
       "Text(0.5, 1.0, 'October 2019 P3, Oxygen')"
      ]
     },
     "execution_count": 75,
     "metadata": {},
     "output_type": "execute_result"
    },
    {
     "data": {
      "image/png": "[encoded data removed]",
      "text/plain": [
       "<Figure size 432x288 with 1 Axes>"
      ]
     },
     "metadata": {
      "needs_background": "light"
     },
     "output_type": "display_data"
    }
   ],
   "source": [
    "plt.scatter(odvP3_2019['O2 [umol/kg]'], odvP3_2019['Depth [m]'], color = 'Red')\n",
    "plt.plot(odvP3_2019['O2 [umol/kg]'], odvP3_2019['Depth [m]'], color = 'Red')\n",
    "\n",
    "plt.gca().invert_yaxis()\n",
    "\n",
    "axes = plt.gca()\n",
    "\n",
    "\n",
    "#axes.set_xlim([0,210])\n",
    "#axes.set_ylim([400,0])\n",
    "\n",
    "\n",
    "axes.set_xlabel('O2 [umol/kg]', fontsize = 14, labelpad = 15)\n",
    "axes.set_ylabel('Depth [m]', fontsize = 14, labelpad = 10)\n",
    "\n",
    "plt.title('October 2019 P3, Oxygen', size = 16, pad=20)"
   ]
  },
  {
   "cell_type": "code",
   "execution_count": 77,
   "metadata": {},
   "outputs": [
    {
     "data": {
      "text/plain": [
       "Text(0.5, 1.0, 'October 2019 P3, Fluorescence')"
      ]
     },
     "execution_count": 77,
     "metadata": {},
     "output_type": "execute_result"
    },
    {
     "data": {
      "image/png": "[encoded data removed]",
      "text/plain": [
       "<Figure size 432x288 with 1 Axes>"
      ]
     },
     "metadata": {
      "needs_background": "light"
     },
     "output_type": "display_data"
    }
   ],
   "source": [
    "plt.scatter(odvP3_2019['Fluor [ug/L]'], odvP3_2019['Depth [m]'], color = 'Green')\n",
    "plt.plot(odvP3_2019['Fluor [ug/L]'], odvP3_2019['Depth [m]'], color = 'Green')\n",
    "\n",
    "plt.gca().invert_yaxis()\n",
    "\n",
    "axes = plt.gca()\n",
    "\n",
    "\n",
    "#axes.set_xlim([0,210])\n",
    "#axes.set_ylim([300,0])\n",
    "\n",
    "\n",
    "axes.set_xlabel('Fluor [ug/L]', fontsize = 14, labelpad = 15)\n",
    "axes.set_ylabel('Depth [m]', fontsize = 14, labelpad = 10)\n",
    "\n",
    "plt.title('October 2019 P3, Fluorescence', size = 16, pad=20)"
   ]
  },
  {
   "cell_type": "code",
   "execution_count": null,
   "metadata": {},
   "outputs": [],
   "source": []
  }
 ],
 "metadata": {
  "kernelspec": {
   "display_name": "Python 3",
   "language": "python",
   "name": "python3"
  },
  "language_info": {
   "codemirror_mode": {
    "name": "ipython",
    "version": 3
   },
   "file_extension": ".py",
   "mimetype": "text/x-python",
   "name": "python",
   "nbconvert_exporter": "python",
   "pygments_lexer": "ipython3",
   "version": "3.8.3"
  }
 },
 "nbformat": 4,
 "nbformat_minor": 4
}
