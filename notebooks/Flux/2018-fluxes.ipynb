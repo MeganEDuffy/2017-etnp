{
 "cells": [
  {
   "cell_type": "markdown",
   "metadata": {},
   "source": [
    "### Plotting ETNP 2018 fluxes"
   ]
  },
  {
   "cell_type": "code",
   "execution_count": 1,
   "metadata": {},
   "outputs": [],
   "source": [
    "import numpy as np\n",
    "import matplotlib.pyplot as plt\n",
    "import seaborn as sns\n",
    "import pandas as pd"
   ]
  },
  {
   "cell_type": "code",
   "execution_count": 3,
   "metadata": {},
   "outputs": [
    {
     "data": {
      "text/html": [
       "<div>\n",
       "<style scoped>\n",
       "    .dataframe tbody tr th:only-of-type {\n",
       "        vertical-align: middle;\n",
       "    }\n",
       "\n",
       "    .dataframe tbody tr th {\n",
       "        vertical-align: top;\n",
       "    }\n",
       "\n",
       "    .dataframe thead th {\n",
       "        text-align: right;\n",
       "    }\n",
       "</style>\n",
       "<table border=\"1\" class=\"dataframe\">\n",
       "  <thead>\n",
       "    <tr style=\"text-align: right;\">\n",
       "      <th></th>\n",
       "      <th>sample id</th>\n",
       "      <th>Year</th>\n",
       "      <th>Station</th>\n",
       "      <th>Depth</th>\n",
       "      <th>Flux (mg/m2/day)</th>\n",
       "    </tr>\n",
       "  </thead>\n",
       "  <tbody>\n",
       "    <tr>\n",
       "      <th>0</th>\n",
       "      <td>1-30_151m_+P</td>\n",
       "      <td>2018</td>\n",
       "      <td>P2</td>\n",
       "      <td>151.0</td>\n",
       "      <td>59.931793</td>\n",
       "    </tr>\n",
       "    <tr>\n",
       "      <th>1</th>\n",
       "      <td>4-31_121m_+P</td>\n",
       "      <td>2018</td>\n",
       "      <td>P2</td>\n",
       "      <td>121.0</td>\n",
       "      <td>140.234645</td>\n",
       "    </tr>\n",
       "    <tr>\n",
       "      <th>2</th>\n",
       "      <td>3-32_147m_top</td>\n",
       "      <td>2018</td>\n",
       "      <td>P2</td>\n",
       "      <td>147.0</td>\n",
       "      <td>135.569106</td>\n",
       "    </tr>\n",
       "    <tr>\n",
       "      <th>3</th>\n",
       "      <td>2-33_368m_top</td>\n",
       "      <td>2018</td>\n",
       "      <td>P2</td>\n",
       "      <td>368.0</td>\n",
       "      <td>5.577733</td>\n",
       "    </tr>\n",
       "    <tr>\n",
       "      <th>4</th>\n",
       "      <td>2-33_586m_top</td>\n",
       "      <td>2018</td>\n",
       "      <td>P2</td>\n",
       "      <td>586.0</td>\n",
       "      <td>8.164440</td>\n",
       "    </tr>\n",
       "  </tbody>\n",
       "</table>\n",
       "</div>"
      ],
      "text/plain": [
       "       sample id  Year Station  Depth  Flux (mg/m2/day)\n",
       "0   1-30_151m_+P  2018      P2  151.0         59.931793\n",
       "1   4-31_121m_+P  2018      P2  121.0        140.234645\n",
       "2  3-32_147m_top  2018      P2  147.0        135.569106\n",
       "3  2-33_368m_top  2018      P2  368.0          5.577733\n",
       "4  2-33_586m_top  2018      P2  586.0          8.164440"
      ]
     },
     "execution_count": 3,
     "metadata": {},
     "output_type": "execute_result"
    }
   ],
   "source": [
    "# read the data into pandas dataframes\n",
    "etnp_2018 = pd.read_csv(\"/home/millieginty/Documents/git-repos/2017-etnp/data/flux/2018-fluxes.csv\")\n",
    "\n",
    "etnp_2018.head()"
   ]
  },
  {
   "cell_type": "code",
   "execution_count": 4,
   "metadata": {},
   "outputs": [
    {
     "data": {
      "text/html": [
       "<div>\n",
       "<style scoped>\n",
       "    .dataframe tbody tr th:only-of-type {\n",
       "        vertical-align: middle;\n",
       "    }\n",
       "\n",
       "    .dataframe tbody tr th {\n",
       "        vertical-align: top;\n",
       "    }\n",
       "\n",
       "    .dataframe thead th {\n",
       "        text-align: right;\n",
       "    }\n",
       "</style>\n",
       "<table border=\"1\" class=\"dataframe\">\n",
       "  <thead>\n",
       "    <tr style=\"text-align: right;\">\n",
       "      <th></th>\n",
       "      <th>sample id</th>\n",
       "      <th>Year</th>\n",
       "      <th>Station</th>\n",
       "      <th>Depth</th>\n",
       "      <th>Flux (mg/m2/day)</th>\n",
       "    </tr>\n",
       "  </thead>\n",
       "  <tbody>\n",
       "    <tr>\n",
       "      <th>0</th>\n",
       "      <td>1-30_151m_+P</td>\n",
       "      <td>2018</td>\n",
       "      <td>P2</td>\n",
       "      <td>151.0</td>\n",
       "      <td>59.931793</td>\n",
       "    </tr>\n",
       "    <tr>\n",
       "      <th>1</th>\n",
       "      <td>4-31_121m_+P</td>\n",
       "      <td>2018</td>\n",
       "      <td>P2</td>\n",
       "      <td>121.0</td>\n",
       "      <td>140.234645</td>\n",
       "    </tr>\n",
       "    <tr>\n",
       "      <th>2</th>\n",
       "      <td>3-32_147m_top</td>\n",
       "      <td>2018</td>\n",
       "      <td>P2</td>\n",
       "      <td>147.0</td>\n",
       "      <td>135.569106</td>\n",
       "    </tr>\n",
       "    <tr>\n",
       "      <th>3</th>\n",
       "      <td>2-33_368m_top</td>\n",
       "      <td>2018</td>\n",
       "      <td>P2</td>\n",
       "      <td>368.0</td>\n",
       "      <td>5.577733</td>\n",
       "    </tr>\n",
       "    <tr>\n",
       "      <th>4</th>\n",
       "      <td>2-33_586m_top</td>\n",
       "      <td>2018</td>\n",
       "      <td>P2</td>\n",
       "      <td>586.0</td>\n",
       "      <td>8.164440</td>\n",
       "    </tr>\n",
       "  </tbody>\n",
       "</table>\n",
       "</div>"
      ],
      "text/plain": [
       "       sample id  Year Station  Depth  Flux (mg/m2/day)\n",
       "0   1-30_151m_+P  2018      P2  151.0         59.931793\n",
       "1   4-31_121m_+P  2018      P2  121.0        140.234645\n",
       "2  3-32_147m_top  2018      P2  147.0        135.569106\n",
       "3  2-33_368m_top  2018      P2  368.0          5.577733\n",
       "4  2-33_586m_top  2018      P2  586.0          8.164440"
      ]
     },
     "execution_count": 4,
     "metadata": {},
     "output_type": "execute_result"
    }
   ],
   "source": [
    "# keep only the rows Station = P2\n",
    "# keep only rows Station P1\n",
    "\n",
    "P2_2018 = etnp_2018.loc[(etnp_2018['Station'] == 'P2')]\n",
    "P1_2018 = etnp_2018.loc[(etnp_2018['Station'] == 'P1')]\n",
    "\n",
    "P2_2018.head()"
   ]
  },
  {
   "cell_type": "code",
   "execution_count": 9,
   "metadata": {},
   "outputs": [
    {
     "data": {
      "text/plain": [
       "<Figure size 504x216 with 0 Axes>"
      ]
     },
     "execution_count": 9,
     "metadata": {},
     "output_type": "execute_result"
    },
    {
     "data": {
      "image/png": "[encoded data removed]",
      "text/plain": [
       "<Figure size 432x288 with 1 Axes>"
      ]
     },
     "metadata": {
      "needs_background": "light"
     },
     "output_type": "display_data"
    },
    {
     "data": {
      "text/plain": [
       "<Figure size 504x216 with 0 Axes>"
      ]
     },
     "metadata": {},
     "output_type": "display_data"
    }
   ],
   "source": [
    "# Plot\n",
    "\n",
    "P2_2018.plot(kind='scatter', x='Flux (mg/m2/day)', y='Depth', c='Blue')\n",
    "\n",
    "plt.gca().invert_yaxis()\n",
    "\n",
    "axes = plt.gca()\n",
    "\n",
    "\n",
    "axes.set_xlim([0,200])\n",
    "axes.set_ylim([1000,0])\n",
    "\n",
    "axes.set_xlabel('Total mass flux [mg/m2/day]', fontsize = 14, labelpad = 15)\n",
    "axes.set_ylabel('Depth [m]', fontsize = 14, labelpad = 10)\n",
    "\n",
    "\n",
    "plt.title('April 2018, Offshore P2 total mass flux', size = 16, pad=20)\n",
    "\n",
    "plt.figure(figsize=(7,3))"
   ]
  },
  {
   "cell_type": "code",
   "execution_count": 8,
   "metadata": {},
   "outputs": [
    {
     "data": {
      "text/plain": [
       "<Figure size 504x216 with 0 Axes>"
      ]
     },
     "execution_count": 8,
     "metadata": {},
     "output_type": "execute_result"
    },
    {
     "data": {
      "image/png": "[encoded data removed]",
      "text/plain": [
       "<Figure size 432x288 with 1 Axes>"
      ]
     },
     "metadata": {
      "needs_background": "light"
     },
     "output_type": "display_data"
    },
    {
     "data": {
      "text/plain": [
       "<Figure size 504x216 with 0 Axes>"
      ]
     },
     "metadata": {},
     "output_type": "display_data"
    }
   ],
   "source": [
    "# Plot\n",
    "\n",
    "P1_2018.plot(kind='scatter', x='Flux (mg/m2/day)', y='Depth', c='Blue')\n",
    "\n",
    "plt.gca().invert_yaxis()\n",
    "\n",
    "axes = plt.gca()\n",
    "\n",
    "\n",
    "axes.set_xlim([0,200])\n",
    "axes.set_ylim([1000,0])\n",
    "\n",
    "axes.set_xlabel('Total mass flux [mg/m2/day]', fontsize = 14, labelpad = 15)\n",
    "axes.set_ylabel('Depth [m]', fontsize = 14, labelpad = 10)\n",
    "\n",
    "\n",
    "plt.title('April 2018, Offshore P1 total mass flux', size = 16, pad=20)\n",
    "\n",
    "plt.figure(figsize=(7,3))"
   ]
  },
  {
   "cell_type": "code",
   "execution_count": 67,
   "metadata": {},
   "outputs": [
    {
     "data": {
      "text/plain": [
       "<Figure size 504x216 with 0 Axes>"
      ]
     },
     "execution_count": 67,
     "metadata": {},
     "output_type": "execute_result"
    },
    {
     "data": {
      "image/png": "[encoded data removed]",
      "text/plain": [
       "<Figure size 432x288 with 1 Axes>"
      ]
     },
     "metadata": {
      "needs_background": "light"
     },
     "output_type": "display_data"
    },
    {
     "data": {
      "text/plain": [
       "<Figure size 504x216 with 0 Axes>"
      ]
     },
     "metadata": {},
     "output_type": "display_data"
    }
   ],
   "source": [
    "# Plot\n",
    "\n",
    "P2_2018.plot(kind='scatter', x='Organic C flux (umol C/m2/day)', y='Depth', c='Green')\n",
    "\n",
    "plt.gca().invert_yaxis()\n",
    "\n",
    "axes = plt.gca()\n",
    "\n",
    "\n",
    "axes.set_xlabel('Total mass flux [mg/m2/day]', fontsize = 14, labelpad = 15)\n",
    "axes.set_ylabel('Depth [m]', fontsize = 14, labelpad = 10)\n",
    "\n",
    "\n",
    "plt.title('January 2018, Offshore P2 Org C flux', size = 16, pad=20)\n",
    "\n",
    "plt.figure(figsize=(7,3))"
   ]
  },
  {
   "cell_type": "code",
   "execution_count": 51,
   "metadata": {},
   "outputs": [
    {
     "data": {
      "text/plain": [
       "<Figure size 504x216 with 0 Axes>"
      ]
     },
     "execution_count": 51,
     "metadata": {},
     "output_type": "execute_result"
    },
    {
     "data": {
      "image/png": "[encoded data removed]",
      "text/plain": [
       "<Figure size 432x288 with 1 Axes>"
      ]
     },
     "metadata": {
      "needs_background": "light"
     },
     "output_type": "display_data"
    },
    {
     "data": {
      "text/plain": [
       "<Figure size 504x216 with 0 Axes>"
      ]
     },
     "metadata": {},
     "output_type": "display_data"
    }
   ],
   "source": [
    "# Plot\n",
    "\n",
    "P1_2018.plot(kind='scatter', x='Flux (mg/m2/day)', y='Depth', c='Green')\n",
    "\n",
    "plt.gca().invert_yaxis()\n",
    "\n",
    "axes = plt.gca()\n",
    "\n",
    "\n",
    "axes.set_xlim([0,200])\n",
    "axes.set_ylim([1000,0])\n",
    "\n",
    "axes.set_xlabel('Total mass flux [mg/m2/day]', fontsize = 14, labelpad = 15)\n",
    "axes.set_ylabel('Depth [m]', fontsize = 14, labelpad = 10)\n",
    "\n",
    "\n",
    "plt.title('January 2018, Offshore P1 total mass flux', size = 16, pad=20)\n",
    "\n",
    "plt.figure(figsize=(7,3))"
   ]
  },
  {
   "cell_type": "code",
   "execution_count": null,
   "metadata": {},
   "outputs": [],
   "source": []
  },
  {
   "cell_type": "code",
   "execution_count": 64,
   "metadata": {},
   "outputs": [
    {
     "data": {
      "text/plain": [
       "<Figure size 504x216 with 0 Axes>"
      ]
     },
     "execution_count": 64,
     "metadata": {},
     "output_type": "execute_result"
    },
    {
     "data": {
      "image/png": "[encoded data removed]",
      "text/plain": [
       "<Figure size 432x288 with 1 Axes>"
      ]
     },
     "metadata": {
      "needs_background": "light"
     },
     "output_type": "display_data"
    },
    {
     "data": {
      "text/plain": [
       "<Figure size 504x216 with 0 Axes>"
      ]
     },
     "metadata": {},
     "output_type": "display_data"
    }
   ],
   "source": [
    "# Plot\n",
    "\n",
    "P2_2018.plot(kind='scatter', x='Protein flux (umol C/m2/day)', y='Depth', c='Green')\n",
    "\n",
    "plt.gca().invert_yaxis()\n",
    "\n",
    "axes = plt.gca()\n",
    "\n",
    "\n",
    "#axes.set_xlim([0,200])\n",
    "#axes.set_ylim([1000,0])\n",
    "\n",
    "axes.set_xlabel('Total mass flux [mg/m2/day]', fontsize = 14, labelpad = 15)\n",
    "axes.set_ylabel('Depth [m]', fontsize = 14, labelpad = 10)\n",
    "\n",
    "\n",
    "plt.title('January 2018, Offshore P2 protein flux', size = 16, pad=20)\n",
    "\n",
    "plt.figure(figsize=(7,3))"
   ]
  },
  {
   "cell_type": "code",
   "execution_count": 66,
   "metadata": {},
   "outputs": [
    {
     "data": {
      "text/plain": [
       "<Figure size 504x216 with 0 Axes>"
      ]
     },
     "execution_count": 66,
     "metadata": {},
     "output_type": "execute_result"
    },
    {
     "data": {
      "image/png": "[encoded data removed]",
      "text/plain": [
       "<Figure size 432x288 with 1 Axes>"
      ]
     },
     "metadata": {
      "needs_background": "light"
     },
     "output_type": "display_data"
    },
    {
     "data": {
      "text/plain": [
       "<Figure size 504x216 with 0 Axes>"
      ]
     },
     "metadata": {},
     "output_type": "display_data"
    }
   ],
   "source": [
    "# Plot\n",
    "\n",
    "P1_2018.plot(kind='scatter', x='Protein flux (umol C/m2/day)', y='Depth', c='Green')\n",
    "\n",
    "plt.gca().invert_yaxis()\n",
    "\n",
    "axes = plt.gca()\n",
    "\n",
    "\n",
    "axes.set_xlabel('Total mass flux [mg/m2/day]', fontsize = 14, labelpad = 15)\n",
    "axes.set_ylabel('Depth [m]', fontsize = 14, labelpad = 10)\n",
    "\n",
    "\n",
    "plt.title('January 2018, Offshore P1 protein flux', size = 16, pad=20)\n",
    "\n",
    "plt.figure(figsize=(7,3))"
   ]
  },
  {
   "cell_type": "code",
   "execution_count": null,
   "metadata": {},
   "outputs": [],
   "source": []
  }
 ],
 "metadata": {
  "kernelspec": {
   "display_name": "Python 3",
   "language": "python",
   "name": "python3"
  },
  "language_info": {
   "codemirror_mode": {
    "name": "ipython",
    "version": 3
   },
   "file_extension": ".py",
   "mimetype": "text/x-python",
   "name": "python",
   "nbconvert_exporter": "python",
   "pygments_lexer": "ipython3",
   "version": "3.8.3"
  }
 },
 "nbformat": 4,
 "nbformat_minor": 4
}
