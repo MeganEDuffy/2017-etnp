{
 "cells": [
  {
   "cell_type": "markdown",
   "metadata": {},
   "source": [
    "# Plotting fungi abundance in ETNP suspended and sinking particles, P2 2017"
   ]
  },
  {
   "cell_type": "code",
   "execution_count": 2,
   "metadata": {},
   "outputs": [
    {
     "data": {
      "text/plain": [
       "'1.0.5'"
      ]
     },
     "execution_count": 2,
     "metadata": {},
     "output_type": "execute_result"
    }
   ],
   "source": [
    "# LIBRARIES\n",
    "#import pandas library for working with tabular data\n",
    "import os\n",
    "os.getcwd()\n",
    "import pandas as pd\n",
    "import numpy as np\n",
    "import matplotlib.pyplot as plt\n",
    "import seaborn as sns\n",
    "from scipy.stats import kde\n",
    "#import regular expresson (regex)\n",
    "import re\n",
    "#check pandas version\n",
    "pd.__version__"
   ]
  },
  {
   "cell_type": "code",
   "execution_count": 3,
   "metadata": {},
   "outputs": [
    {
     "data": {
      "text/html": [
       "<div>\n",
       "<style scoped>\n",
       "    .dataframe tbody tr th:only-of-type {\n",
       "        vertical-align: middle;\n",
       "    }\n",
       "\n",
       "    .dataframe tbody tr th {\n",
       "        vertical-align: top;\n",
       "    }\n",
       "\n",
       "    .dataframe thead th {\n",
       "        text-align: right;\n",
       "    }\n",
       "</style>\n",
       "<table border=\"1\" class=\"dataframe\">\n",
       "  <thead>\n",
       "    <tr style=\"text-align: right;\">\n",
       "      <th></th>\n",
       "      <th>Depth</th>\n",
       "      <th>Ascomycota</th>\n",
       "      <th>Basidiomycota</th>\n",
       "      <th>Mucoromycota</th>\n",
       "      <th>Cryptomycota</th>\n",
       "      <th>Zoopagomycota</th>\n",
       "      <th>Chytridiomycota</th>\n",
       "      <th>Microsporidia</th>\n",
       "    </tr>\n",
       "  </thead>\n",
       "  <tbody>\n",
       "    <tr>\n",
       "      <th>0</th>\n",
       "      <td>100</td>\n",
       "      <td>43</td>\n",
       "      <td>5</td>\n",
       "      <td>1</td>\n",
       "      <td>1</td>\n",
       "      <td>1</td>\n",
       "      <td>2</td>\n",
       "      <td>0</td>\n",
       "    </tr>\n",
       "    <tr>\n",
       "      <th>1</th>\n",
       "      <td>265</td>\n",
       "      <td>31</td>\n",
       "      <td>10</td>\n",
       "      <td>1</td>\n",
       "      <td>0</td>\n",
       "      <td>0</td>\n",
       "      <td>0</td>\n",
       "      <td>0</td>\n",
       "    </tr>\n",
       "    <tr>\n",
       "      <th>2</th>\n",
       "      <td>965</td>\n",
       "      <td>7</td>\n",
       "      <td>2</td>\n",
       "      <td>0</td>\n",
       "      <td>0</td>\n",
       "      <td>0</td>\n",
       "      <td>1</td>\n",
       "      <td>0</td>\n",
       "    </tr>\n",
       "  </tbody>\n",
       "</table>\n",
       "</div>"
      ],
      "text/plain": [
       "   Depth  Ascomycota  Basidiomycota  Mucoromycota  Cryptomycota  \\\n",
       "0    100          43              5             1             1   \n",
       "1    265          31             10             1             0   \n",
       "2    965           7              2             0             0   \n",
       "\n",
       "   Zoopagomycota  Chytridiomycota  Microsporidia  \n",
       "0              1                2              0  \n",
       "1              0                0              0  \n",
       "2              0                1              0  "
      ]
     },
     "execution_count": 3,
     "metadata": {},
     "output_type": "execute_result"
    }
   ],
   "source": [
    "# read in the tables I made in LibreOffice Calc read quickly\n",
    "\n",
    "sus = pd.read_excel('/home/millieginty/Documents/git-repos/2017-etnp/analyses/pronovo-2020/fungi/fungal-plotting/skq17-pom-fungi-sus.xlsx')\n",
    "\n",
    "sus.head()"
   ]
  },
  {
   "cell_type": "code",
   "execution_count": 4,
   "metadata": {},
   "outputs": [
    {
     "data": {
      "text/html": [
       "<div>\n",
       "<style scoped>\n",
       "    .dataframe tbody tr th:only-of-type {\n",
       "        vertical-align: middle;\n",
       "    }\n",
       "\n",
       "    .dataframe tbody tr th {\n",
       "        vertical-align: top;\n",
       "    }\n",
       "\n",
       "    .dataframe thead th {\n",
       "        text-align: right;\n",
       "    }\n",
       "</style>\n",
       "<table border=\"1\" class=\"dataframe\">\n",
       "  <thead>\n",
       "    <tr style=\"text-align: right;\">\n",
       "      <th></th>\n",
       "      <th>Depth</th>\n",
       "      <th>Ascomycota</th>\n",
       "      <th>Basidiomycota</th>\n",
       "      <th>Mucoromycota</th>\n",
       "      <th>Cryptomycota</th>\n",
       "      <th>Zoopagomycota</th>\n",
       "      <th>Chytridiomycota</th>\n",
       "      <th>Microsporidia</th>\n",
       "    </tr>\n",
       "  </thead>\n",
       "  <tbody>\n",
       "    <tr>\n",
       "      <th>0</th>\n",
       "      <td>100</td>\n",
       "      <td>15</td>\n",
       "      <td>5</td>\n",
       "      <td>2</td>\n",
       "      <td>0</td>\n",
       "      <td>0</td>\n",
       "      <td>1</td>\n",
       "      <td>0</td>\n",
       "    </tr>\n",
       "    <tr>\n",
       "      <th>1</th>\n",
       "      <td>265</td>\n",
       "      <td>15</td>\n",
       "      <td>5</td>\n",
       "      <td>2</td>\n",
       "      <td>0</td>\n",
       "      <td>0</td>\n",
       "      <td>1</td>\n",
       "      <td>0</td>\n",
       "    </tr>\n",
       "    <tr>\n",
       "      <th>2</th>\n",
       "      <td>965</td>\n",
       "      <td>39</td>\n",
       "      <td>11</td>\n",
       "      <td>4</td>\n",
       "      <td>1</td>\n",
       "      <td>1</td>\n",
       "      <td>2</td>\n",
       "      <td>1</td>\n",
       "    </tr>\n",
       "  </tbody>\n",
       "</table>\n",
       "</div>"
      ],
      "text/plain": [
       "   Depth  Ascomycota  Basidiomycota  Mucoromycota  Cryptomycota  \\\n",
       "0    100          15              5             2             0   \n",
       "1    265          15              5             2             0   \n",
       "2    965          39             11             4             1   \n",
       "\n",
       "   Zoopagomycota  Chytridiomycota  Microsporidia  \n",
       "0              0                1              0  \n",
       "1              0                1              0  \n",
       "2              1                2              1  "
      ]
     },
     "execution_count": 4,
     "metadata": {},
     "output_type": "execute_result"
    }
   ],
   "source": [
    "# read in the tables I made in LibreOffice Calc read quickly\n",
    "\n",
    "sink = pd.read_excel('/home/millieginty/Documents/git-repos/2017-etnp/analyses/pronovo-2020/fungi/fungal-plotting/skq17-pom-fungi-sink.xlsx')\n",
    "\n",
    "sink.head()"
   ]
  },
  {
   "cell_type": "code",
   "execution_count": 37,
   "metadata": {},
   "outputs": [
    {
     "data": {
      "image/png": "[encoded data removed]",
      "text/plain": [
       "<Figure size 504x216 with 2 Axes>"
      ]
     },
     "metadata": {
      "needs_background": "light"
     },
     "output_type": "display_data"
    }
   ],
   "source": [
    "# Plot as stacked bars\n",
    "\n",
    "fig, axes = plt.subplots(figsize=(7, 3),nrows=1, ncols=2, sharex = True, sharey = True)\n",
    "\n",
    "plt.tight_layout()\n",
    "\n",
    "plt.subplots_adjust(left=None, bottom=None, right=None, top=None, wspace=None, hspace=None)\n",
    "\n",
    "colors = ['#7fc97f', '#beaed4', '#fdc086', '#ffff99', '#386cb0', '#f0027f', '#bf5b17']\n",
    "\n",
    "# Suspended methionine oxidation\n",
    "\n",
    "axes[0].set_title('Suspended particles', fontsize = 14, pad = 8)\n",
    "\n",
    "sus.plot(ax=axes[0], kind='barh', stacked = 'True', x = 'Depth', color = colors, edgecolor = 'black')\n",
    "axes[0].set_ylim(axes[0].get_ylim()[::-1]) #this reverses the yaxis (i.e. deep at the bottom)\n",
    "axes[0].set_ylabel('Depth (m)', fontsize = 14, labelpad = 8)\n",
    "axes[0].set_xlabel('# peptides', fontsize = 14, labelpad = 8)\n",
    "axes[0].get_legend().remove()\n",
    "\n",
    "axes[0].xaxis.set_tick_params(labelsize=14)\n",
    "axes[0].yaxis.set_tick_params(labelsize=14)\n",
    "\n",
    "axes[1].set_title('Sinking particles', fontsize = 14, pad = 8)\n",
    "\n",
    "sink.plot(ax=axes[1], kind='barh', stacked = 'True', x = 'Depth', color = colors, edgecolor = 'black')\n",
    "axes[1].set_ylim(axes[1].get_ylim()[::-1]) #this reverses the yaxis (i.e. deep at the bottom)\n",
    "axes[1].set_ylabel('Depth (m)', fontsize = 14, labelpad = 8)\n",
    "axes[1].set_xlabel('# peptides', fontsize = 14, labelpad = 8)\n",
    "\n",
    "axes[1].xaxis.set_tick_params(labelsize=14)\n",
    "axes[1].yaxis.set_tick_params(labelsize=14)\n",
    "\n",
    "plt.legend(bbox_to_anchor=(1,1), loc=\"upper left\")\n",
    "\n",
    "fig.savefig('/home/millieginty/Documents/git-repos/2017-etnp/data/thesis-talk/entp-fungi.png', facecolor=fig.get_facecolor(), transparent=True, dpi=300, bbox_inches = \"tight\")"
   ]
  },
  {
   "cell_type": "code",
   "execution_count": null,
   "metadata": {},
   "outputs": [],
   "source": []
  }
 ],
 "metadata": {
  "kernelspec": {
   "display_name": "Python 3",
   "language": "python",
   "name": "python3"
  },
  "language_info": {
   "codemirror_mode": {
    "name": "ipython",
    "version": 3
   },
   "file_extension": ".py",
   "mimetype": "text/x-python",
   "name": "python",
   "nbconvert_exporter": "python",
   "pygments_lexer": "ipython3",
   "version": "3.8.3"
  }
 },
 "nbformat": 4,
 "nbformat_minor": 4
}
