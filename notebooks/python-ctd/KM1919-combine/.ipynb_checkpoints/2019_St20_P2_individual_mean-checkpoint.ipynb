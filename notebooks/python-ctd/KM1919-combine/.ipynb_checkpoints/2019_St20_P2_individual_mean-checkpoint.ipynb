{
 "cells": [
  {
   "cell_type": "markdown",
   "metadata": {},
   "source": [
    "### python-CTD to convert 1 m binned CTD files (Seabird cnv) to a single csv for each station \n",
    "\n",
    "#### - Station 20/P2, October 2019 (Kilo Moana, KM1919)\n",
    "    - The ship's CTD system did not have a dampener; we think that likely this will mess up the mixed layer data.\n",
    "    - There are 34 casts from this station occupation (Oct 3-13, 2019). See my notes [here](https://docs.google.com/document/d/1IXlWi4W0qIAe801GK13snwnr3nXHDrbENhybz6lJaNA/edit#). \n",
    "\n",
    "#### - Downloaded Al's 'ave' cnv files from the POMZ shared drive\n",
    "\n",
    "    - Inelegant, but added 'ignore' to the DepthSM parameter in cnv because otherwise python-ctd wasn't sure which to use as index, pressure or depth.\n",
    "    \n",
    "    - e.g., in line 22 of the cnv:\n",
    "    \n",
    "    # name 5 = depSMignore: Depth [salt water, m]"
   ]
  },
  {
   "cell_type": "code",
   "execution_count": 1,
   "metadata": {},
   "outputs": [],
   "source": [
    "import io\n",
    "import requests\n",
    "from pathlib import Path\n",
    "import seaborn as sns\n",
    "import pandas as pd\n",
    "\n",
    "import ctd\n",
    "import datetime"
   ]
  },
  {
   "cell_type": "code",
   "execution_count": 3,
   "metadata": {},
   "outputs": [],
   "source": [
    "# Define the starting datetimes of each cast\n",
    "\n",
    "st25 = '2019-10-03 13:31:35'\n",
    "st28 = '2019-10-04 11:01:39'\n",
    "st29 = '2019-10-04 23:50:04'\n",
    "st30 = '2019-10-05 08:39:43'\n",
    "st31 = '2019-10-05 14:03:02'\n",
    "st32 = '2019-10-05 21:38:22'\n",
    "st33 = '2019-10-06 14:14:26'\n",
    "st34 = '2019-10-06 19:38:21'\n",
    "st35 = '2019-10-06 22:48:57'\n",
    "st36 = '2019-10-07 01:47:02'\n",
    "st37 = '2019-10-07 07:40:03'\n",
    "st38 = '2019-10-07 16:50:08'\n",
    "st39 = '2019-10-07 20:45:29'\n",
    "st40 = '2019-10-08 01:04:04'\n",
    "st42 = '2019-10-08 07:04:45'\n",
    "st43 = '2019-10-08 13:20:29'\n",
    "st44 = '2019-10-08 15:59:43'\n",
    "st45 = '2019-10-08 18:55:51'\n",
    "st46 = '2019-10-08 22:10:38'\n",
    "st47 = '2019-10-09 01:10:36'\n",
    "st48 = '2019-10-09 07:47:50'\n",
    "st49 = '2019-10-09 11:32:27'\n",
    "st50 = '2019-10-09 14:15:42'\n",
    "st51 = '2019-10-09 19:13:01'\n",
    "st52 = '2019-10-11 00:09:58'\n",
    "st53 = '2019-10-11 04:49:54'\n",
    "st54 = '2019-10-11 12:24:17'\n",
    "st55 = '2019-10-11 19:08:20'\n",
    "st56 = '2019-10-11 23:05:27'\n",
    "st57 = '2019-10-12 02:30:37'\n",
    "st58 = '2019-10-12 10:31:29'\n",
    "st59 = '2019-10-12 13:13:32'\n",
    "st60 = '2019-10-12 19:49:39'\n",
    "st61 = '2019-10-13 05:08:47'"
   ]
  },
  {
   "cell_type": "code",
   "execution_count": 14,
   "metadata": {
    "scrolled": true
   },
   "outputs": [
    {
     "name": "stdout",
     "output_type": "stream",
     "text": [
      "Mixed layer mean chl fluoresence: 0.37804375\n",
      "Mixed layer mean beam attenutation: 98.39447499999997\n",
      "Mixed layer mean dissolved O2: 215.77256250000005\n",
      "Primary chl max mean chl fluor: 0.8587761904761907\n",
      "Primary chl max mean beam atten: 98.37140952380949\n",
      "Primary chl max mean dissO2: 118.25004761904763\n"
     ]
    }
   ],
   "source": [
    "# read from cnv with 'ignore' added to depSM\n",
    "cast25 = ctd.from_cnv(\"/home/millieginty/Documents/git-repos/2017-etnp/data/ctd-cnv/KM1919/KM1919-St20-P2/St20_P2_cast25-align-cellTM-derive-bin.cnv\")\n",
    "\n",
    "# split up and down casts; we want the downcast for the profile\n",
    "down25, up25 = cast25.split()\n",
    "\n",
    "# add a column with the start date and time in UTC (this is from the cnv header or from ship's log)\n",
    "down25.insert(0, 'StartTime', pd.to_datetime(st25).replace(microsecond=0))\n",
    "\n",
    "# add a column that's the start time plus the duration time (in seconds)\n",
    "time = down25.loc[:, ('StartTime')] + pd.to_timedelta(down25.loc[:, ('timeS')], unit='s')\n",
    "down25.insert(2, 'Time', time)\n",
    "\n",
    "# save the downcast to a csv\n",
    "down25.to_csv(\"/home/millieginty/Documents/git-repos/2017-etnp/data/ctd-cnv/KM1919/KM1919-St20-P2/processed/Station20_cast25.csv\")\n",
    "\n",
    "# slice the mixed layer out and save as csv\n",
    "p2_25_ml = down25[down25['sigma-�00'].between(22.0,23.3)]\n",
    "#p2_25_ml.to_csv(\"/home/millieginty/Documents/git-repos/2017-etnp/data/ctd-cnv/KM1919-St20-P2/Station20_cast25_ML.csv\")\n",
    "\n",
    "# get the mean of mixed layer slice oxygen, beam transmission, and chlorophyll fluor\n",
    "cf_mean_p2_25_ml = p2_25_ml['flECO-AFL'].mean()\n",
    "print('Mixed layer mean chl fluoresence:', cf_mean_p2_25_ml)\n",
    "\n",
    "bt_mean_p2_25_ml = p2_25_ml['CStarTr0'].mean()\n",
    "print('Mixed layer mean beam attenutation:', bt_mean_p2_25_ml)\n",
    "\n",
    "o2_mean_p2_25_ml = p2_25_ml['sbeox0Mm/L'].mean()\n",
    "print('Mixed layer mean dissolved O2:', o2_mean_p2_25_ml)\n",
    "\n",
    "# slice the primary chlorophyll max out and save as csv\n",
    "p2_25_pcm = down25[down25['sigma-�00'].between(23.3,25.1)]\n",
    "#p2_25_pcm.to_csv(\"/home/millieginty/Documents/git-repos/2017-etnp/data/ctd-cnv/KM1919-St20-P2/Station20_cast25_PCM.csv\")\n",
    "\n",
    "# get the mean of primary chl slice oxygen and beam transmission\n",
    "cf_mean_p2_25_pcm = p2_25_pcm['flECO-AFL'].mean()\n",
    "print('Primary chl max mean chl fluor:', cf_mean_p2_25_pcm)\n",
    "\n",
    "bt_mean_p2_25_pcm = p2_25_pcm['CStarTr0'].mean()\n",
    "print('Primary chl max mean beam atten:', bt_mean_p2_25_pcm)\n",
    "\n",
    "o2_mean_p2_25_pcm = p2_25_pcm['sbeox0Mm/L'].mean()\n",
    "print('Primary chl max mean dissO2:', o2_mean_p2_25_pcm)"
   ]
  },
  {
   "cell_type": "code",
   "execution_count": null,
   "metadata": {},
   "outputs": [],
   "source": []
  }
 ],
 "metadata": {
  "kernelspec": {
   "display_name": "Python 3",
   "language": "python",
   "name": "python3"
  },
  "language_info": {
   "codemirror_mode": {
    "name": "ipython",
    "version": 3
   },
   "file_extension": ".py",
   "mimetype": "text/x-python",
   "name": "python",
   "nbconvert_exporter": "python",
   "pygments_lexer": "ipython3",
   "version": "3.8.3"
  }
 },
 "nbformat": 4,
 "nbformat_minor": 4
}
