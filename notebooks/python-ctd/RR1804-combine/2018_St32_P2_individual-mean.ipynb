{
 "cells": [
  {
   "cell_type": "markdown",
   "metadata": {},
   "source": [
    "### python-CTD to convert 1 m binned CTD files (Seabird cnv) to a single csv for each station \n",
    "\n",
    "#### - Station 32/P2, April 2018 (Revelle, RR1804)\n",
    "\n",
    "#### - Downloaded Al's 'ave' cnv files from the POMZ shared drive\n",
    "\n",
    "    - Added 'ignore' to the DepthSM parameter in cnv because otherwise python-ctd wasn't sure which to use as index, pressure or depth."
   ]
  },
  {
   "cell_type": "code",
   "execution_count": 1,
   "metadata": {},
   "outputs": [],
   "source": [
    "import io\n",
    "import requests\n",
    "from pathlib import Path\n",
    "import seaborn as sns\n",
    "import pandas as pd\n",
    "\n",
    "import ctd\n",
    "import datetime"
   ]
  },
  {
   "cell_type": "code",
   "execution_count": 34,
   "metadata": {},
   "outputs": [],
   "source": [
    "# Define the starting datetimes of each cast\n",
    "\n",
    "st42 = '2018-04-15 05:12:33'\n",
    "st43 = '2018-04-15 15:06:02'\n",
    "st44 = '2018-04-15 22:01:43'\n",
    "st45 = '2018-04-16 15:03:02'\n",
    "st46 = '2018-04-17 15:03:16'\n",
    "st47 = '2018-04-17 21:04:08'\n",
    "st48 = '2018-04-18 15:03:03'\n",
    "st49 = '2018-04-18 22:05:25'\n",
    "st50 = '2018-04-19 02:15:57'\n",
    "st51 = '2018-04-19 06:07:15'\n",
    "st52 = '2018-04-19 12:06:26'\n",
    "st53 = '2018-04-19 14:16:53'\n",
    "st54 = '2018-04-19 18:05:49'\n",
    "st55 = '2018-04-19 23:59:38'\n",
    "st56 = '2018-04-20 06:06:48'\n",
    "st57 = '2018-04-20 11:01:56'\n",
    "st58 = '2018-04-20 22:34:17'"
   ]
  },
  {
   "cell_type": "code",
   "execution_count": 39,
   "metadata": {
    "scrolled": true
   },
   "outputs": [
    {
     "name": "stdout",
     "output_type": "stream",
     "text": [
      "0.1628096153846154\n",
      "4.5327\n",
      "201.06650000000002\n",
      "1.0414628571428568\n",
      "4.492338095238095\n",
      "154.76400000000004\n"
     ]
    }
   ],
   "source": [
    "# read from cnv with 'ignore' added to depSM\n",
    "cast42 = ctd.from_cnv(\"/home/millieginty/Documents/git-repos/2017-etnp/data/ctd-cnv/RR1804/Station32_cast42.cnv\")\n",
    "\n",
    "# split up and down casts; we want the downcast for the profile\n",
    "down42, up42 = cast42.split()\n",
    "\n",
    "# add a column with the start date and time in UTC (this is from the cnv header or from ship's log)\n",
    "down42.insert(0, 'StartTime', pd.to_datetime(st42).replace(microsecond=0))\n",
    "\n",
    "# add a column that's the start time plus the duration time (in seconds)\n",
    "time = down42.loc[:, ('StartTime')] + pd.to_timedelta(down42.loc[:, ('timeS')], unit='s')\n",
    "down42.insert(2, 'Time', time)\n",
    "\n",
    "# save the downcast to a csv\n",
    "#down42.to_csv(\"/home/millieginty/Documents/git-repos/2017-etnp/data/ctd-cnv/RR1804/Station32_cast42.csv\")\n",
    "\n",
    "# slice the mixed layer out and save as csv\n",
    "p2_42_ml = down42[down42['sigma-�00'].between(22.0,23.3)]\n",
    "#p2_42_ml.to_csv(\"/home/millieginty/Documents/git-repos/2017-etnp/data/ctd-cnv/RR1804/Station32_cast42_ML.csv\")\n",
    "\n",
    "# get the mean of mixed layer slice oxygen, beam transmission, and chlorophyll fluor\n",
    "cf_mean_p2_42_ml = p2_42_ml['flSP'].mean()\n",
    "print(cf_mean_p2_42_ml)\n",
    "\n",
    "bt_mean_p2_42_ml = p2_42_ml['CStarTr0'].mean()\n",
    "print(bt_mean_p2_42_ml)\n",
    "\n",
    "o2_mean_p2_42_ml = p2_42_ml['sbox0Mm/Kg'].mean()\n",
    "print(o2_mean_p2_42_ml)\n",
    "\n",
    "# slice the primary chlorophyll max out and save as csv\n",
    "p2_42_pcm = down42[down42['sigma-�00'].between(23.3,24.4)]\n",
    "#p2_42_pcm.to_csv(\"/home/millieginty/Documents/git-repos/2017-etnp/data/ctd-cnv/RR1804/Station32_cast42_PCM.csv\")\n",
    "\n",
    "# get the mean of primary chl slice oxygen and beam transmission\n",
    "cf_mean_p2_42_pcm = p2_42_pcm['flSP'].mean()\n",
    "print(cf_mean_p2_42_pcm)\n",
    "\n",
    "bt_mean_p2_42_pcm = p2_42_pcm['CStarTr0'].mean()\n",
    "print(bt_mean_p2_42_pcm)\n",
    "\n",
    "o2_mean_p2_42_pcm = p2_42_pcm['sbox0Mm/Kg'].mean()\n",
    "print(o2_mean_p2_42_pcm)"
   ]
  },
  {
   "cell_type": "code",
   "execution_count": 42,
   "metadata": {
    "scrolled": true
   },
   "outputs": [
    {
     "name": "stdout",
     "output_type": "stream",
     "text": [
      "0.1465462564102564\n",
      "4.532579487179487\n",
      "202.78574358974362\n",
      "0.8357847826086955\n",
      "4.491165217391305\n",
      "168.8056956521739\n"
     ]
    }
   ],
   "source": [
    "# read from cnv with 'ignore' added to depSM\n",
    "cast43 = ctd.from_cnv(\"/home/millieginty/Documents/git-repos/2017-etnp/data/ctd-cnv/RR1804/Station32_cast43.cnv\")\n",
    "\n",
    "# split up and down casts; we want the downcast for the profile\n",
    "down43, up43 = cast43.split()\n",
    "\n",
    "# add a column with the start date and time in UTC (this is from the cnv header or from ship's log)\n",
    "down43.insert(0, 'StartTime', pd.to_datetime(st43).replace(microsecond=0))\n",
    "\n",
    "# add a column that's the start time plus the duration time (in seconds)\n",
    "time = down43.loc[:, ('StartTime')] + pd.to_timedelta(down43.loc[:, ('timeS')], unit='s')\n",
    "down43.insert(2, 'Time', time)\n",
    "\n",
    "# save the downcast to a csv\n",
    "#down43.to_csv(\"/home/millieginty/Documents/git-repos/2017-etnp/data/ctd-cnv/RR1804/Station32_cast43.csv\")\n",
    "\n",
    "# slice the mixed layer out and save as csv\n",
    "p2_43_ml = down43[down43['sigma-�00'].between(22.0,23.3)]\n",
    "#p2_43_ml.to_csv(\"/home/millieginty/Documents/git-repos/2017-etnp/data/ctd-cnv/RR1804/Station32_cast43_ML.csv\")\n",
    "\n",
    "# get the mean of mixed layer slice oxygen, beam transmission, and chlorophyll fluor\n",
    "cf_mean_p2_43_ml = p2_43_ml['flSP'].mean()\n",
    "print(cf_mean_p2_43_ml)\n",
    "\n",
    "bt_mean_p2_43_ml = p2_43_ml['CStarTr0'].mean()\n",
    "print(bt_mean_p2_43_ml)\n",
    "\n",
    "o2_mean_p2_43_ml = p2_43_ml['sbox0Mm/Kg'].mean()\n",
    "print(o2_mean_p2_43_ml)\n",
    "\n",
    "# slice the primary chlorophyll max out and save as csv\n",
    "p2_43_pcm = down43[down43['sigma-�00'].between(23.3,24.4)]\n",
    "#p2_43_pcm.to_csv(\"/home/millieginty/Documents/git-repos/2017-etnp/data/ctd-cnv/RR1804/Station32_cast43_PCM.csv\")\n",
    "\n",
    "# get the mean of primary chl slice oxygen and beam transmission\n",
    "cf_mean_p2_43_pcm = p2_43_pcm['flSP'].mean()\n",
    "print(cf_mean_p2_43_pcm)\n",
    "\n",
    "bt_mean_p2_43_pcm = p2_43_pcm['CStarTr0'].mean()\n",
    "print(bt_mean_p2_43_pcm)\n",
    "\n",
    "o2_mean_p2_43_pcm = p2_43_pcm['sbox0Mm/Kg'].mean()\n",
    "print(o2_mean_p2_43_pcm)"
   ]
  },
  {
   "cell_type": "code",
   "execution_count": null,
   "metadata": {},
   "outputs": [],
   "source": []
  }
 ],
 "metadata": {
  "kernelspec": {
   "display_name": "Python 3",
   "language": "python",
   "name": "python3"
  },
  "language_info": {
   "codemirror_mode": {
    "name": "ipython",
    "version": 3
   },
   "file_extension": ".py",
   "mimetype": "text/x-python",
   "name": "python",
   "nbconvert_exporter": "python",
   "pygments_lexer": "ipython3",
   "version": "3.8.3"
  }
 },
 "nbformat": 4,
 "nbformat_minor": 4
}
