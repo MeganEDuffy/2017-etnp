{
 "cells": [
  {
   "cell_type": "markdown",
   "metadata": {},
   "source": [
    "### python-CTD to convert 1 m binned CTD files (Seabird cnv) to a single csv for each station \n",
    "\n",
    "#### - Station 32/P2, April 2018 (Revelle, RR1804)\n",
    "\n",
    "#### - Downloaded Al's 'ave' cnv files from the POMZ shared drive\n",
    "\n",
    "    - Added 'ignore' to the DepthSM parameter in cnv because otherwise python-ctd wasn't sure which to use as index, pressure or depth."
   ]
  },
  {
   "cell_type": "code",
   "execution_count": 19,
   "metadata": {},
   "outputs": [],
   "source": [
    "import io\n",
    "import requests\n",
    "from pathlib import Path\n",
    "import seaborn as sns\n",
    "import pandas as pd\n",
    "\n",
    "import ctd\n",
    "import datetime"
   ]
  },
  {
   "cell_type": "code",
   "execution_count": 45,
   "metadata": {
    "scrolled": true
   },
   "outputs": [
    {
     "name": "stderr",
     "output_type": "stream",
     "text": [
      "<ipython-input-45-94c672733e6c>:11: SettingWithCopyWarning: \n",
      "A value is trying to be set on a copy of a slice from a DataFrame.\n",
      "Try using .loc[row_indexer,col_indexer] = value instead\n",
      "\n",
      "See the caveats in the documentation: https://pandas.pydata.org/pandas-docs/stable/user_guide/indexing.html#returning-a-view-versus-a-copy\n",
      "  down42['Time'] = pd.to_datetime(down42['StartTime']) + pd.to_timedelta(down42['timeS'], unit='s')\n"
     ]
    }
   ],
   "source": [
    "# read from cnv with 'ignore' added to depSM\n",
    "cast42 = ctd.from_cnv(\"/home/millieginty/Documents/git-repos/2017-etnp/data/ctd-cnv/RR1804/Station32_cast42.cnv\")\n",
    "\n",
    "# split up and down casts; we want the downcast for the profile\n",
    "down42, up42 = cast42.split()\n",
    "\n",
    "# add a column with the start date and time in UTC (this is from the cnv header or from ship's log)\n",
    "down42.insert(0, 'StartTime', pd.to_datetime('2018-04-15 05:12:33').replace(microsecond=0))\n",
    "\n",
    "# add a column that's the start time plus the duration time (in seconds)\n",
    "down42['Time'] = pd.to_datetime(down42['StartTime']) + pd.to_timedelta(down42['timeS'], unit='s')\n",
    "\n",
    "# save the downcast to a csv\n",
    "down42.to_csv(\"/home/millieginty/Documents/git-repos/2017-etnp/data/ctd-cnv/RR1804/Station32_cast42.csv\")\n",
    "\n",
    "# look at downcast\n",
    "#down42.head()"
   ]
  },
  {
   "cell_type": "code",
   "execution_count": 46,
   "metadata": {
    "scrolled": true
   },
   "outputs": [
    {
     "name": "stderr",
     "output_type": "stream",
     "text": [
      "<ipython-input-46-b44401406dc6>:11: SettingWithCopyWarning: \n",
      "A value is trying to be set on a copy of a slice from a DataFrame.\n",
      "Try using .loc[row_indexer,col_indexer] = value instead\n",
      "\n",
      "See the caveats in the documentation: https://pandas.pydata.org/pandas-docs/stable/user_guide/indexing.html#returning-a-view-versus-a-copy\n",
      "  down43['Time'] = pd.to_datetime(down43['StartTime']) + pd.to_timedelta(down43['timeS'], unit='s')\n"
     ]
    }
   ],
   "source": [
    "# read from cnv with 'ignore' added to depSM\n",
    "cast43 = ctd.from_cnv(\"/home/millieginty/Documents/git-repos/2017-etnp/data/ctd-cnv/RR1804/Station32_cast43.cnv\")\n",
    "\n",
    "# split up and down casts; we want the downcast for the profile\n",
    "down43, up43 = cast43.split()\n",
    "\n",
    "# add a column with the start date and time in UTC (this is from the cnv header or from ship's log)\n",
    "down43.insert(0, 'StartTime', pd.to_datetime('2018-04-15 15:06:02').replace(microsecond=0))\n",
    "\n",
    "# add a column that's the start time plus the duration time (in seconds)\n",
    "down43['Time'] = pd.to_datetime(down43['StartTime']) + pd.to_timedelta(down43['timeS'], unit='s')\n",
    "\n",
    "# save the downcast to a csv\n",
    "down43.to_csv(\"/home/millieginty/Documents/git-repos/2017-etnp/data/ctd-cnv/RR1804/Station32_cast43.csv\")\n",
    "\n",
    "# look at downcast\n",
    "#down43.head()"
   ]
  },
  {
   "cell_type": "code",
   "execution_count": 49,
   "metadata": {
    "scrolled": false
   },
   "outputs": [
    {
     "name": "stderr",
     "output_type": "stream",
     "text": [
      "<ipython-input-49-c8f52819e614>:11: SettingWithCopyWarning: \n",
      "A value is trying to be set on a copy of a slice from a DataFrame.\n",
      "Try using .loc[row_indexer,col_indexer] = value instead\n",
      "\n",
      "See the caveats in the documentation: https://pandas.pydata.org/pandas-docs/stable/user_guide/indexing.html#returning-a-view-versus-a-copy\n",
      "  down44['Time'] = pd.to_datetime(down44['StartTime']) + pd.to_timedelta(down44['timeS'], unit='s')\n"
     ]
    }
   ],
   "source": [
    "# read from cnv with 'ignore' added to depSM\n",
    "cast44 = ctd.from_cnv(\"/home/millieginty/Documents/git-repos/2017-etnp/data/ctd-cnv/RR1804/Station32_cast44.cnv\")\n",
    "\n",
    "# split up and down casts; we want the downcast for the profile\n",
    "down44, up44 = cast44.split()\n",
    "\n",
    "# add a column with the start date and time in UTC (this is from the cnv header or from ship's log)\n",
    "down44.insert(0, 'StartTime', pd.to_datetime('2018-04-15 22:01:43').replace(microsecond=0))\n",
    "\n",
    "# add a column that's the start time plus the duration time (in seconds)\n",
    "down44['Time'] = pd.to_datetime(down44['StartTime']) + pd.to_timedelta(down44['timeS'], unit='s')\n",
    "\n",
    "# save the downcast to a csv\n",
    "down44.to_csv(\"/home/millieginty/Documents/git-repos/2017-etnp/data/ctd-cnv/RR1804/Station32_cast44.csv\")\n",
    "\n",
    "# look at downcast\n",
    "#down44.head()"
   ]
  },
  {
   "cell_type": "code",
   "execution_count": 50,
   "metadata": {
    "scrolled": false
   },
   "outputs": [
    {
     "name": "stderr",
     "output_type": "stream",
     "text": [
      "<ipython-input-50-13b4e06766b2>:11: SettingWithCopyWarning: \n",
      "A value is trying to be set on a copy of a slice from a DataFrame.\n",
      "Try using .loc[row_indexer,col_indexer] = value instead\n",
      "\n",
      "See the caveats in the documentation: https://pandas.pydata.org/pandas-docs/stable/user_guide/indexing.html#returning-a-view-versus-a-copy\n",
      "  down45['Time'] = pd.to_datetime(down45['StartTime']) + pd.to_timedelta(down45['timeS'], unit='s')\n"
     ]
    }
   ],
   "source": [
    "# read from cnv with 'ignore' added to depSM\n",
    "cast45 = ctd.from_cnv(\"/home/millieginty/Documents/git-repos/2017-etnp/data/ctd-cnv/RR1804/Station32_cast45.cnv\")\n",
    "\n",
    "# split up and down casts; we want the downcast for the profile\n",
    "down45, up45 = cast45.split()\n",
    "\n",
    "# add a column with the start date and time in UTC (this is from the cnv header or from ship's log)\n",
    "down45.insert(0, 'StartTime', pd.to_datetime('2018-04-16 15:03:02').replace(microsecond=0))\n",
    "\n",
    "# add a column that's the start time plus the duration time (in seconds)\n",
    "down45['Time'] = pd.to_datetime(down45['StartTime']) + pd.to_timedelta(down45['timeS'], unit='s')\n",
    "\n",
    "# save the downcast to a csv\n",
    "down45.to_csv(\"/home/millieginty/Documents/git-repos/2017-etnp/data/ctd-cnv/RR1804/Station32_cast45.csv\")\n",
    "\n",
    "# look at downcast\n",
    "#down45.head()"
   ]
  },
  {
   "cell_type": "code",
   "execution_count": 52,
   "metadata": {
    "scrolled": true
   },
   "outputs": [
    {
     "name": "stderr",
     "output_type": "stream",
     "text": [
      "<ipython-input-52-7a55893d4194>:11: SettingWithCopyWarning: \n",
      "A value is trying to be set on a copy of a slice from a DataFrame.\n",
      "Try using .loc[row_indexer,col_indexer] = value instead\n",
      "\n",
      "See the caveats in the documentation: https://pandas.pydata.org/pandas-docs/stable/user_guide/indexing.html#returning-a-view-versus-a-copy\n",
      "  down46['Time'] = pd.to_datetime(down46['StartTime']) + pd.to_timedelta(down46['timeS'], unit='s')\n"
     ]
    }
   ],
   "source": [
    "# read from cnv with 'ignore' added to depSM\n",
    "cast46 = ctd.from_cnv(\"/home/millieginty/Documents/git-repos/2017-etnp/data/ctd-cnv/RR1804/Station32_cast46.cnv\")\n",
    "\n",
    "# split up and down casts; we want the downcast for the profile\n",
    "down46, up46 = cast46.split()\n",
    "\n",
    "# add a column with the start date and time in UTC (this is from the cnv header or from ship's log)\n",
    "down46.insert(0, 'StartTime', pd.to_datetime('2018-04-17 15:03:16').replace(microsecond=0))\n",
    "\n",
    "# add a column that's the start time plus the duration time (in seconds)\n",
    "down46['Time'] = pd.to_datetime(down46['StartTime']) + pd.to_timedelta(down46['timeS'], unit='s')\n",
    "\n",
    "# save the downcast to a csv\n",
    "down46.to_csv(\"/home/millieginty/Documents/git-repos/2017-etnp/data/ctd-cnv/RR1804/Station32_cast46.csv\")\n",
    "\n",
    "# look at downcast\n",
    "#down46.head()"
   ]
  },
  {
   "cell_type": "code",
   "execution_count": 53,
   "metadata": {
    "scrolled": true
   },
   "outputs": [
    {
     "name": "stderr",
     "output_type": "stream",
     "text": [
      "<ipython-input-53-c71d9c7f14c5>:11: SettingWithCopyWarning: \n",
      "A value is trying to be set on a copy of a slice from a DataFrame.\n",
      "Try using .loc[row_indexer,col_indexer] = value instead\n",
      "\n",
      "See the caveats in the documentation: https://pandas.pydata.org/pandas-docs/stable/user_guide/indexing.html#returning-a-view-versus-a-copy\n",
      "  down47['Time'] = pd.to_datetime(down47['StartTime']) + pd.to_timedelta(down47['timeS'], unit='s')\n"
     ]
    }
   ],
   "source": [
    "# read from cnv with 'ignore' added to depSM\n",
    "cast47 = ctd.from_cnv(\"/home/millieginty/Documents/git-repos/2017-etnp/data/ctd-cnv/RR1804/Station32_cast47.cnv\")\n",
    "\n",
    "# split up and down casts; we want the downcast for the profile\n",
    "down47, up47 = cast47.split()\n",
    "\n",
    "# add a column with the start date and time in UTC (this is from the cnv header or from ship's log)\n",
    "down47.insert(0, 'StartTime', pd.to_datetime('2018-04-17 21:04:08').replace(microsecond=0))\n",
    "\n",
    "# add a column that's the start time plus the duration time (in seconds)\n",
    "down47['Time'] = pd.to_datetime(down47['StartTime']) + pd.to_timedelta(down47['timeS'], unit='s')\n",
    "\n",
    "# save the downcast to a csv\n",
    "down47.to_csv(\"/home/millieginty/Documents/git-repos/2017-etnp/data/ctd-cnv/RR1804/Station32_cast47.csv\")\n",
    "\n",
    "# look at downcast\n",
    "#down47.head()"
   ]
  },
  {
   "cell_type": "code",
   "execution_count": 54,
   "metadata": {
    "scrolled": true
   },
   "outputs": [
    {
     "name": "stderr",
     "output_type": "stream",
     "text": [
      "<ipython-input-54-9fbab73be2b2>:11: SettingWithCopyWarning: \n",
      "A value is trying to be set on a copy of a slice from a DataFrame.\n",
      "Try using .loc[row_indexer,col_indexer] = value instead\n",
      "\n",
      "See the caveats in the documentation: https://pandas.pydata.org/pandas-docs/stable/user_guide/indexing.html#returning-a-view-versus-a-copy\n",
      "  down48['Time'] = pd.to_datetime(down48['StartTime']) + pd.to_timedelta(down48['timeS'], unit='s')\n"
     ]
    }
   ],
   "source": [
    "# read from cnv with 'ignore' added to depSM\n",
    "cast48 = ctd.from_cnv(\"/home/millieginty/Documents/git-repos/2017-etnp/data/ctd-cnv/RR1804/Station32_cast48.cnv\")\n",
    "\n",
    "# split up and down casts; we want the downcast for the profile\n",
    "down48, up48 = cast48.split()\n",
    "\n",
    "# add a column with the start date and time in UTC (this is from the cnv header or from ship's log)\n",
    "down48.insert(0, 'StartTime', pd.to_datetime('2018-04-18 15:03:03').replace(microsecond=0))\n",
    "\n",
    "# add a column that's the start time plus the duration time (in seconds)\n",
    "down48['Time'] = pd.to_datetime(down48['StartTime']) + pd.to_timedelta(down48['timeS'], unit='s')\n",
    "\n",
    "# save the downcast to a csv\n",
    "down48.to_csv(\"/home/millieginty/Documents/git-repos/2017-etnp/data/ctd-cnv/RR1804/Station32_cast48.csv\")\n",
    "\n",
    "# look at downcast\n",
    "#down48.head()"
   ]
  },
  {
   "cell_type": "code",
   "execution_count": 55,
   "metadata": {
    "scrolled": true
   },
   "outputs": [
    {
     "name": "stderr",
     "output_type": "stream",
     "text": [
      "<ipython-input-55-9c783f52285b>:11: SettingWithCopyWarning: \n",
      "A value is trying to be set on a copy of a slice from a DataFrame.\n",
      "Try using .loc[row_indexer,col_indexer] = value instead\n",
      "\n",
      "See the caveats in the documentation: https://pandas.pydata.org/pandas-docs/stable/user_guide/indexing.html#returning-a-view-versus-a-copy\n",
      "  down49['Time'] = pd.to_datetime(down49['StartTime']) + pd.to_timedelta(down49['timeS'], unit='s')\n"
     ]
    }
   ],
   "source": [
    "# read from cnv with 'ignore' added to depSM\n",
    "cast49 = ctd.from_cnv(\"/home/millieginty/Documents/git-repos/2017-etnp/data/ctd-cnv/RR1804/Station32_cast49.cnv\")\n",
    "\n",
    "# split up and down casts; we want the downcast for the profile\n",
    "down49, up49 = cast49.split()\n",
    "\n",
    "# add a column with the start date and time in UTC (this is from the cnv header or from ship's log)\n",
    "down49.insert(0, 'StartTime', pd.to_datetime('2018-04-18 22:05:25').replace(microsecond=0))\n",
    "\n",
    "# add a column that's the start time plus the duration time (in seconds)\n",
    "down49['Time'] = pd.to_datetime(down49['StartTime']) + pd.to_timedelta(down49['timeS'], unit='s')\n",
    "\n",
    "# save the downcast to a csv\n",
    "down49.to_csv(\"/home/millieginty/Documents/git-repos/2017-etnp/data/ctd-cnv/RR1804/Station32_cast49.csv\")\n",
    "\n",
    "# look at downcast\n",
    "#down49.head()"
   ]
  },
  {
   "cell_type": "code",
   "execution_count": 56,
   "metadata": {
    "scrolled": true
   },
   "outputs": [
    {
     "name": "stderr",
     "output_type": "stream",
     "text": [
      "<ipython-input-56-8fbdd7b1c016>:11: SettingWithCopyWarning: \n",
      "A value is trying to be set on a copy of a slice from a DataFrame.\n",
      "Try using .loc[row_indexer,col_indexer] = value instead\n",
      "\n",
      "See the caveats in the documentation: https://pandas.pydata.org/pandas-docs/stable/user_guide/indexing.html#returning-a-view-versus-a-copy\n",
      "  down50['Time'] = pd.to_datetime(down50['StartTime']) + pd.to_timedelta(down50['timeS'], unit='s')\n"
     ]
    }
   ],
   "source": [
    "# read from cnv with 'ignore' added to depSM\n",
    "cast50 = ctd.from_cnv(\"/home/millieginty/Documents/git-repos/2017-etnp/data/ctd-cnv/RR1804/Station32_cast50.cnv\")\n",
    "\n",
    "# split up and down casts; we want the downcast for the profile\n",
    "down50, up50 = cast50.split()\n",
    "\n",
    "# add a column with the start date and time in UTC (this is from the cnv header or from ship's log)\n",
    "down50.insert(0, 'StartTime', pd.to_datetime('2018-04-19 02:15:57').replace(microsecond=0))\n",
    "\n",
    "# add a column that's the start time plus the duration time (in seconds)\n",
    "down50['Time'] = pd.to_datetime(down50['StartTime']) + pd.to_timedelta(down50['timeS'], unit='s')\n",
    "\n",
    "# save the downcast to a csv\n",
    "down50.to_csv(\"/home/millieginty/Documents/git-repos/2017-etnp/data/ctd-cnv/RR1804/Station32_cast50.csv\")\n",
    "\n",
    "# look at downcast\n",
    "#down50.head()"
   ]
  },
  {
   "cell_type": "code",
   "execution_count": 57,
   "metadata": {
    "scrolled": false
   },
   "outputs": [
    {
     "name": "stderr",
     "output_type": "stream",
     "text": [
      "<ipython-input-57-877c2066a434>:11: SettingWithCopyWarning: \n",
      "A value is trying to be set on a copy of a slice from a DataFrame.\n",
      "Try using .loc[row_indexer,col_indexer] = value instead\n",
      "\n",
      "See the caveats in the documentation: https://pandas.pydata.org/pandas-docs/stable/user_guide/indexing.html#returning-a-view-versus-a-copy\n",
      "  down51['Time'] = pd.to_datetime(down51['StartTime']) + pd.to_timedelta(down51['timeS'], unit='s')\n"
     ]
    }
   ],
   "source": [
    "# read from cnv with 'ignore' added to depSM\n",
    "cast51 = ctd.from_cnv(\"/home/millieginty/Documents/git-repos/2017-etnp/data/ctd-cnv/RR1804/Station32_cast51.cnv\")\n",
    "\n",
    "# split up and down casts; we want the downcast for the profile\n",
    "down51, up51 = cast51.split()\n",
    "\n",
    "# add a column with the start date and time in UTC (this is from the cnv header or from ship's log)\n",
    "down51.insert(0, 'StartTime', pd.to_datetime('2018-04-19 06:07:15').replace(microsecond=0))\n",
    "\n",
    "# add a column that's the start time plus the duration time (in seconds)\n",
    "down51['Time'] = pd.to_datetime(down51['StartTime']) + pd.to_timedelta(down51['timeS'], unit='s')\n",
    "\n",
    "# save the downcast to a csv\n",
    "down51.to_csv(\"/home/millieginty/Documents/git-repos/2017-etnp/data/ctd-cnv/RR1804/Station32_cast51.csv\")\n",
    "\n",
    "# look at downcast\n",
    "#down51.head()"
   ]
  },
  {
   "cell_type": "code",
   "execution_count": 59,
   "metadata": {
    "scrolled": true
   },
   "outputs": [
    {
     "name": "stderr",
     "output_type": "stream",
     "text": [
      "<ipython-input-59-483324341f97>:11: SettingWithCopyWarning: \n",
      "A value is trying to be set on a copy of a slice from a DataFrame.\n",
      "Try using .loc[row_indexer,col_indexer] = value instead\n",
      "\n",
      "See the caveats in the documentation: https://pandas.pydata.org/pandas-docs/stable/user_guide/indexing.html#returning-a-view-versus-a-copy\n",
      "  down52['Time'] = pd.to_datetime(down52['StartTime']) + pd.to_timedelta(down52['timeS'], unit='s')\n"
     ]
    }
   ],
   "source": [
    "# read from cnv with 'ignore' added to depSM\n",
    "cast52 = ctd.from_cnv(\"/home/millieginty/Documents/git-repos/2017-etnp/data/ctd-cnv/RR1804/Station32_cast52.cnv\")\n",
    "\n",
    "# split up and down casts; we want the downcast for the profile\n",
    "down52, up52 = cast52.split()\n",
    "\n",
    "# add a column with the start date and time in UTC (this is from the cnv header or from ship's log)\n",
    "down52.insert(0, 'StartTime', pd.to_datetime('2018-04-19 12:06:26').replace(microsecond=0))\n",
    "\n",
    "# add a column that's the start time plus the duration time (in seconds)\n",
    "down52['Time'] = pd.to_datetime(down52['StartTime']) + pd.to_timedelta(down52['timeS'], unit='s')\n",
    "\n",
    "# save the downcast to a csv\n",
    "down52.to_csv(\"/home/millieginty/Documents/git-repos/2017-etnp/data/ctd-cnv/RR1804/Station32_cast52.csv\")\n",
    "\n",
    "# look at downcast\n",
    "#down52.head()"
   ]
  },
  {
   "cell_type": "code",
   "execution_count": 60,
   "metadata": {
    "scrolled": true
   },
   "outputs": [
    {
     "name": "stderr",
     "output_type": "stream",
     "text": [
      "<ipython-input-60-ec87cc3c3577>:11: SettingWithCopyWarning: \n",
      "A value is trying to be set on a copy of a slice from a DataFrame.\n",
      "Try using .loc[row_indexer,col_indexer] = value instead\n",
      "\n",
      "See the caveats in the documentation: https://pandas.pydata.org/pandas-docs/stable/user_guide/indexing.html#returning-a-view-versus-a-copy\n",
      "  down53['Time'] = pd.to_datetime(down53['StartTime']) + pd.to_timedelta(down53['timeS'], unit='s')\n"
     ]
    }
   ],
   "source": [
    "# read from cnv with 'ignore' added to depSM\n",
    "cast53 = ctd.from_cnv(\"/home/millieginty/Documents/git-repos/2017-etnp/data/ctd-cnv/RR1804/Station32_cast53.cnv\")\n",
    "\n",
    "# split up and down casts; we want the downcast for the profile\n",
    "down53, up53 = cast53.split()\n",
    "\n",
    "# add a column with the start date and time in UTC (this is from the cnv header or from ship's log)\n",
    "down53.insert(0, 'StartTime', pd.to_datetime('2018-04-19 14:16:42').replace(microsecond=0))\n",
    "\n",
    "# add a column that's the start time plus the duration time (in seconds)\n",
    "down53['Time'] = pd.to_datetime(down53['StartTime']) + pd.to_timedelta(down53['timeS'], unit='s')\n",
    "\n",
    "# save the downcast to a csv\n",
    "down53.to_csv(\"/home/millieginty/Documents/git-repos/2017-etnp/data/ctd-cnv/RR1804/Station32_cast53.csv\")\n",
    "\n",
    "# look at downcast\n",
    "#down53.head()"
   ]
  },
  {
   "cell_type": "code",
   "execution_count": 61,
   "metadata": {
    "scrolled": true
   },
   "outputs": [
    {
     "name": "stderr",
     "output_type": "stream",
     "text": [
      "<ipython-input-61-ba0623ea4523>:11: SettingWithCopyWarning: \n",
      "A value is trying to be set on a copy of a slice from a DataFrame.\n",
      "Try using .loc[row_indexer,col_indexer] = value instead\n",
      "\n",
      "See the caveats in the documentation: https://pandas.pydata.org/pandas-docs/stable/user_guide/indexing.html#returning-a-view-versus-a-copy\n",
      "  down54['Time'] = pd.to_datetime(down54['StartTime']) + pd.to_timedelta(down54['timeS'], unit='s')\n"
     ]
    }
   ],
   "source": [
    "# read from cnv with 'ignore' added to depSM\n",
    "cast54 = ctd.from_cnv(\"/home/millieginty/Documents/git-repos/2017-etnp/data/ctd-cnv/RR1804/Station32_cast54.cnv\")\n",
    "\n",
    "# split up and down casts; we want the downcast for the profile\n",
    "down54, up54 = cast54.split()\n",
    "\n",
    "# add a column with the start date and time in UTC (this is from the cnv header or from ship's log)\n",
    "down54.insert(0, 'StartTime', pd.to_datetime('2018-04-19 18:05:49').replace(microsecond=0))\n",
    "\n",
    "# add a column that's the start time plus the duration time (in seconds)\n",
    "down54['Time'] = pd.to_datetime(down54['StartTime']) + pd.to_timedelta(down54['timeS'], unit='s')\n",
    "\n",
    "# save the downcast to a csv\n",
    "down54.to_csv(\"/home/millieginty/Documents/git-repos/2017-etnp/data/ctd-cnv/RR1804/Station32_cast54.csv\")\n",
    "\n",
    "# look at downcast\n",
    "#down54.head()"
   ]
  },
  {
   "cell_type": "code",
   "execution_count": 62,
   "metadata": {
    "scrolled": true
   },
   "outputs": [
    {
     "name": "stderr",
     "output_type": "stream",
     "text": [
      "<ipython-input-62-090544b4a38b>:11: SettingWithCopyWarning: \n",
      "A value is trying to be set on a copy of a slice from a DataFrame.\n",
      "Try using .loc[row_indexer,col_indexer] = value instead\n",
      "\n",
      "See the caveats in the documentation: https://pandas.pydata.org/pandas-docs/stable/user_guide/indexing.html#returning-a-view-versus-a-copy\n",
      "  down55['Time'] = pd.to_datetime(down55['StartTime']) + pd.to_timedelta(down55['timeS'], unit='s')\n"
     ]
    }
   ],
   "source": [
    "# read from cnv with 'ignore' added to depSM\n",
    "cast55 = ctd.from_cnv(\"/home/millieginty/Documents/git-repos/2017-etnp/data/ctd-cnv/RR1804/Station32_cast55.cnv\")\n",
    "\n",
    "# split up and down casts; we want the downcast for the profile\n",
    "down55, up55 = cast55.split()\n",
    "\n",
    "# add a column with the start date and time in UTC (this is from the cnv header or from ship's log)\n",
    "down55.insert(0, 'StartTime', pd.to_datetime('2018-04-19 23:59:38').replace(microsecond=0))\n",
    "\n",
    "# add a column that's the start time plus the duration time (in seconds)\n",
    "down55['Time'] = pd.to_datetime(down55['StartTime']) + pd.to_timedelta(down55['timeS'], unit='s')\n",
    "\n",
    "# save the downcast to a csv\n",
    "down55.to_csv(\"/home/millieginty/Documents/git-repos/2017-etnp/data/ctd-cnv/RR1804/Station32_cast55.csv\")\n",
    "\n",
    "# look at downcast\n",
    "#down55.head()"
   ]
  },
  {
   "cell_type": "code",
   "execution_count": 63,
   "metadata": {
    "scrolled": true
   },
   "outputs": [
    {
     "name": "stderr",
     "output_type": "stream",
     "text": [
      "<ipython-input-63-44958418a803>:11: SettingWithCopyWarning: \n",
      "A value is trying to be set on a copy of a slice from a DataFrame.\n",
      "Try using .loc[row_indexer,col_indexer] = value instead\n",
      "\n",
      "See the caveats in the documentation: https://pandas.pydata.org/pandas-docs/stable/user_guide/indexing.html#returning-a-view-versus-a-copy\n",
      "  down56['Time'] = pd.to_datetime(down56['StartTime']) + pd.to_timedelta(down56['timeS'], unit='s')\n"
     ]
    }
   ],
   "source": [
    "# read from cnv with 'ignore' added to depSM\n",
    "cast56 = ctd.from_cnv(\"/home/millieginty/Documents/git-repos/2017-etnp/data/ctd-cnv/RR1804/Station32_cast56.cnv\")\n",
    "\n",
    "# split up and down casts; we want the downcast for the profile\n",
    "down56, up56 = cast56.split()\n",
    "\n",
    "# add a column with the start date and time in UTC (this is from the cnv header or from ship's log)\n",
    "down56.insert(0, 'StartTime', pd.to_datetime('2018-04-19 06:06:48').replace(microsecond=0))\n",
    "\n",
    "# add a column that's the start time plus the duration time (in seconds)\n",
    "down56['Time'] = pd.to_datetime(down56['StartTime']) + pd.to_timedelta(down56['timeS'], unit='s')\n",
    "\n",
    "# save the downcast to a csv\n",
    "down56.to_csv(\"/home/millieginty/Documents/git-repos/2017-etnp/data/ctd-cnv/RR1804/Station32_cast56.csv\")\n",
    "\n",
    "# look at downcast\n",
    "#down56.head()"
   ]
  },
  {
   "cell_type": "code",
   "execution_count": 47,
   "metadata": {
    "scrolled": true
   },
   "outputs": [
    {
     "name": "stderr",
     "output_type": "stream",
     "text": [
      "<ipython-input-47-f62572a47499>:11: SettingWithCopyWarning: \n",
      "A value is trying to be set on a copy of a slice from a DataFrame.\n",
      "Try using .loc[row_indexer,col_indexer] = value instead\n",
      "\n",
      "See the caveats in the documentation: https://pandas.pydata.org/pandas-docs/stable/user_guide/indexing.html#returning-a-view-versus-a-copy\n",
      "  down57['Time'] = pd.to_datetime(down57['StartTime']) + pd.to_timedelta(down57['timeS'], unit='s')\n"
     ]
    }
   ],
   "source": [
    "# read from cnv with 'ignore' added to depSM\n",
    "cast57 = ctd.from_cnv(\"/home/millieginty/Documents/git-repos/2017-etnp/data/ctd-cnv/RR1804/Station32_cast57.cnv\")\n",
    "\n",
    "# split up and down casts; we want the downcast for the profile\n",
    "down57, up57 = cast57.split()\n",
    "\n",
    "# add a column with the start date and time in UTC (this is from the cnv header or from ship's log)\n",
    "down57.insert(0, 'StartTime', pd.to_datetime('2018-04-20 11:01:56').replace(microsecond=0))\n",
    "\n",
    "# add a column that's the start time plus the duration time (in seconds)\n",
    "down57['Time'] = pd.to_datetime(down57['StartTime']) + pd.to_timedelta(down57['timeS'], unit='s')\n",
    "\n",
    "# save the downcast to a csv\n",
    "down57.to_csv(\"/home/millieginty/Documents/git-repos/2017-etnp/data/ctd-cnv/RR1804/Station32_cast57.csv\")\n",
    "\n",
    "# look at downcast\n",
    "#down57.head()"
   ]
  },
  {
   "cell_type": "code",
   "execution_count": 64,
   "metadata": {
    "scrolled": true
   },
   "outputs": [
    {
     "name": "stderr",
     "output_type": "stream",
     "text": [
      "<ipython-input-64-83f74a170fe2>:11: SettingWithCopyWarning: \n",
      "A value is trying to be set on a copy of a slice from a DataFrame.\n",
      "Try using .loc[row_indexer,col_indexer] = value instead\n",
      "\n",
      "See the caveats in the documentation: https://pandas.pydata.org/pandas-docs/stable/user_guide/indexing.html#returning-a-view-versus-a-copy\n",
      "  down58['Time'] = pd.to_datetime(down58['StartTime']) + pd.to_timedelta(down58['timeS'], unit='s')\n"
     ]
    }
   ],
   "source": [
    "# read from cnv with 'ignore' added to depSM\n",
    "cast58 = ctd.from_cnv(\"/home/millieginty/Documents/git-repos/2017-etnp/data/ctd-cnv/RR1804/Station32_cast58.cnv\")\n",
    "\n",
    "# split up and down casts; we want the downcast for the profile\n",
    "down58, up58 = cast58.split()\n",
    "\n",
    "# add a column with the start date and time in UTC (this is from the cnv header or from ship's log)\n",
    "down58.insert(0, 'StartTime', pd.to_datetime('2018-04-20 22:34:17').replace(microsecond=0))\n",
    "\n",
    "# add a column that's the start time plus the duration time (in seconds)\n",
    "down58['Time'] = pd.to_datetime(down58['StartTime']) + pd.to_timedelta(down58['timeS'], unit='s')\n",
    "\n",
    "# save the downcast to a csv\n",
    "down58.to_csv(\"/home/millieginty/Documents/git-repos/2017-etnp/data/ctd-cnv/RR1804/Station32_cast58.csv\")\n",
    "\n",
    "# look at downcast\n",
    "#down58.head()"
   ]
  }
 ],
 "metadata": {
  "kernelspec": {
   "display_name": "Python 3",
   "language": "python",
   "name": "python3"
  },
  "language_info": {
   "codemirror_mode": {
    "name": "ipython",
    "version": 3
   },
   "file_extension": ".py",
   "mimetype": "text/x-python",
   "name": "python",
   "nbconvert_exporter": "python",
   "pygments_lexer": "ipython3",
   "version": "3.8.3"
  }
 },
 "nbformat": 4,
 "nbformat_minor": 4
}
