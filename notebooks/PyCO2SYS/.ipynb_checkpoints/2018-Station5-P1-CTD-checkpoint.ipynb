{
 "cells": [
  {
   "cell_type": "markdown",
   "metadata": {},
   "source": [
    "## Calculating DIC in incubations CTD Niskins for T0 conditions\n",
    "\n",
    "### We only have CTD alkalinities from the first leg of the cruise, March 28-April 2, 2018 - where we did a western ODZ transect. The transect stations 5 and 15 correspond roughly to trapping stations P1 and P2, respectively. \n",
    "\n",
    "### All parameters needed to calculate DIC contained in a spreadsheet called alk_calk.xlsx in this git repo under `data/flux/rates/`\n",
    "\n",
    "### Depths are, in meters:\n",
    "\n",
    "- 1200\n",
    "- 1000\n",
    "- 700\n",
    "- 600\n",
    "- 500\n",
    "- 400 (no alkalinity data)\n",
    "- 300\n",
    "- 200\n",
    "- 100\n",
    "- 75\n",
    "- 2 (surface)\n",
    "\n",
    "### Using PyCO2SYS, based on CO2SYSExample2.m for MATLAB by Steven van Heuven.\n",
    "\n",
    "### Documentation [here](https://pyco2sys.readthedocs.io/en/latest/co2sys_nd/)"
   ]
  },
  {
   "cell_type": "markdown",
   "metadata": {},
   "source": [
    "### 1200 m"
   ]
  },
  {
   "cell_type": "code",
   "execution_count": 1,
   "metadata": {},
   "outputs": [
    {
     "name": "stdout",
     "output_type": "stream",
     "text": [
      "Conditions have been defined!\n"
     ]
    }
   ],
   "source": [
    "# 1200 m: Define input and output conditions\n",
    "# parameters: 2.539\t7.58\t34.5603\t3.837\t1200.0\t108.89\t3.38\n",
    "\n",
    "kwargs = dict(\n",
    "    par1_type = 1,  # The first parameter supplied is of type \"1\", which means \"alkalinity\"\n",
    "    par1 = 2539,  # value of the first parameter\n",
    "    par2_type = 3,  # The second parameter supplied is of type \"3\", which means \"pH\"\n",
    "    par2 = 7.58,  # value of the second parameter\n",
    "    salinity = 34.5603,  # Salinity of the sample\n",
    "    temperature = 3.837,  # Temperature at input conditions\n",
    "    temperature_out = 3.837,  # Temperature at output conditions\n",
    "    pressure = 1200,  # Pressure    at input conditions\n",
    "    pressure_out = 1200,  # Pressure    at output conditions\n",
    "    total_silicate = 108.89,  # Concentration of silicate  in the sample (in umol/kg)\n",
    "    total_phosphate = 3.38,  # Concentration of phosphate in the sample (in umol/kg)\n",
    "    opt_pH_scale = 1,  # pH scale at which the input pH is reported (\"1\" means \"Total Scale\")\n",
    "    opt_k_carbonic = 4,  # Choice of H2CO3 and HCO3- dissociation constants K1 and K2 (\"4\" means \"Mehrbach refit\")\n",
    "    opt_k_bisulfate = 1,  # Choice of HSO4- dissociation constant KSO4 (\"1\" means \"Dickson\")\n",
    "    opt_total_borate = 1,  # Choice of boron:sal (\"1\" means \"Uppstrom\")\n",
    ")\n",
    "print('Conditions have been defined!')"
   ]
  },
  {
   "cell_type": "code",
   "execution_count": 2,
   "metadata": {
    "scrolled": true
   },
   "outputs": [
    {
     "name": "stdout",
     "output_type": "stream",
     "text": [
      "The in situ HCO3 : 2416.50\n",
      "The in situ CO3 : 47.30\n",
      "The in situ CO2 : 64.93\n",
      "Total DIC : 2.53\n"
     ]
    }
   ],
   "source": [
    "# 1200\n",
    "# Import PyCO2SYS\n",
    "import PyCO2SYS as pyco2\n",
    "\n",
    "# Run PyCO2SYS\n",
    "results = pyco2.sys(**kwargs)\n",
    "\n",
    "# Extract and print out the output bicarbonate (μmol·kg−1)\n",
    "bicarb_out = results['bicarbonate_out']\n",
    "print('The in situ HCO3 : {:.2f}'.format(bicarb_out))\n",
    "\n",
    "# Extract and print out the output carbonate (μmol·kg−1)\n",
    "carb_out = results['carbonate_out']\n",
    "print('The in situ CO3 : {:.2f}'.format(carb_out))\n",
    "\n",
    "# Extract and print out the output carbonate (μmol·kg−1)\n",
    "co2_out = results['aqueous_CO2_out']\n",
    "print('The in situ CO2 : {:.2f}'.format(co2_out))\n",
    "\n",
    "# 'Total' DIC in mmol kg-1\n",
    "DIC = (bicarb_out + carb_out + co2_out)/1000\n",
    "print('Total DIC : {:.2f}'.format(DIC))"
   ]
  },
  {
   "cell_type": "markdown",
   "metadata": {},
   "source": [
    "### 1000 m"
   ]
  },
  {
   "cell_type": "code",
   "execution_count": 3,
   "metadata": {},
   "outputs": [
    {
     "name": "stdout",
     "output_type": "stream",
     "text": [
      "Conditions have been defined!\n"
     ]
    }
   ],
   "source": [
    "# 1000 m: Define input and output conditions\n",
    "# parameters: 2.539\t7.557\t34.5386\t4.4641\t1000.0\t98.79\t3.44\n",
    "\n",
    "kwargs = dict(\n",
    "    par1_type = 1,  # The first parameter supplied is of type \"1\", which means \"alkalinity\"\n",
    "    par1 = 2539,  # value of the first parameter\n",
    "    par2_type = 3,  # The second parameter supplied is of type \"3\", which means \"pH\"\n",
    "    par2 = 7.557,  # value of the second parameter\n",
    "    salinity = 34.5386,  # Salinity of the sample\n",
    "    temperature = 4.4641,  # Temperature at input conditions\n",
    "    temperature_out = 4.4641,  # Temperature at output conditions\n",
    "    pressure = 1000.0,  # Pressure    at input conditions\n",
    "    pressure_out = 1000.0,  # Pressure    at output conditions\n",
    "    total_silicate = 98.79,  # Concentration of silicate  in the sample (in umol/kg)\n",
    "    total_phosphate = 3.44,  # Concentration of phosphate in the sample (in umol/kg)\n",
    "    opt_pH_scale = 1,  # pH scale at which the input pH is reported (\"1\" means \"Total Scale\")\n",
    "    opt_k_carbonic = 4,  # Choice of H2CO3 and HCO3- dissociation constants K1 and K2 (\"4\" means \"Mehrbach refit\")\n",
    "    opt_k_bisulfate = 1,  # Choice of HSO4- dissociation constant KSO4 (\"1\" means \"Dickson\")\n",
    "    opt_total_borate = 1,  # Choice of boron:sal (\"1\" means \"Uppstrom\")\n",
    ")\n",
    "print('Conditions have been defined!')"
   ]
  },
  {
   "cell_type": "code",
   "execution_count": 4,
   "metadata": {
    "scrolled": true
   },
   "outputs": [
    {
     "name": "stdout",
     "output_type": "stream",
     "text": [
      "The in situ HCO3 : 2421.51\n",
      "The in situ CO3 : 45.47\n",
      "The in situ CO2 : 68.92\n",
      "Total DIC : 2.54\n"
     ]
    }
   ],
   "source": [
    "# 1000\n",
    "# Import PyCO2SYS\n",
    "import PyCO2SYS as pyco2\n",
    "\n",
    "# Run PyCO2SYS\n",
    "results = pyco2.sys(**kwargs)\n",
    "\n",
    "# Extract and print out the output bicarbonate (μmol·kg−1)\n",
    "bicarb_out = results['bicarbonate_out']\n",
    "print('The in situ HCO3 : {:.2f}'.format(bicarb_out))\n",
    "\n",
    "# Extract and print out the output carbonate (μmol·kg−1)\n",
    "carb_out = results['carbonate_out']\n",
    "print('The in situ CO3 : {:.2f}'.format(carb_out))\n",
    "\n",
    "# Extract and print out the output carbonate (μmol·kg−1)\n",
    "co2_out = results['aqueous_CO2_out']\n",
    "print('The in situ CO2 : {:.2f}'.format(co2_out))\n",
    "\n",
    "# 'Total' DIC in mmol kg-1\n",
    "DIC = (bicarb_out + carb_out + co2_out)/1000\n",
    "print('Total DIC : {:.2f}'.format(DIC))"
   ]
  },
  {
   "cell_type": "markdown",
   "metadata": {},
   "source": [
    "### 800 m"
   ]
  },
  {
   "cell_type": "code",
   "execution_count": 5,
   "metadata": {},
   "outputs": [
    {
     "name": "stdout",
     "output_type": "stream",
     "text": [
      "Conditions have been defined!\n"
     ]
    }
   ],
   "source": [
    "# 800 m: Define input and output conditions\n",
    "# parameters: 2.539\t7.548\t34.5177\t5.3501\t800.0\t84.5\t3.39\n",
    "\n",
    "kwargs = dict(\n",
    "    par1_type = 1,  # The first parameter supplied is of type \"1\", which means \"alkalinity\"\n",
    "    par1 = 2539,  # value of the first parameter\n",
    "    par2_type = 3,  # The second parameter supplied is of type \"3\", which means \"pH\"\n",
    "    par2 = 7.548,  # value of the second parameter\n",
    "    salinity = 34.5177,  # Salinity of the sample\n",
    "    temperature = 5.3501,  # Temperature at input conditions\n",
    "    temperature_out = 5.3501,  # Temperature at output conditions\n",
    "    pressure = 800.0,  # Pressure    at input conditions\n",
    "    pressure_out = 800.0,  # Pressure    at output conditions\n",
    "    total_silicate = 84.5,  # Concentration of silicate  in the sample (in umol/kg)\n",
    "    total_phosphate = 3.39,  # Concentration of phosphate in the sample (in umol/kg)\n",
    "    opt_pH_scale = 1,  # pH scale at which the input pH is reported (\"1\" means \"Total Scale\")\n",
    "    opt_k_carbonic = 4,  # Choice of H2CO3 and HCO3- dissociation constants K1 and K2 (\"4\" means \"Mehrbach refit\")\n",
    "    opt_k_bisulfate = 1,  # Choice of HSO4- dissociation constant KSO4 (\"1\" means \"Dickson\")\n",
    "    opt_total_borate = 1,  # Choice of boron:sal (\"1\" means \"Uppstrom\")\n",
    ")\n",
    "print('Conditions have been defined!')"
   ]
  },
  {
   "cell_type": "code",
   "execution_count": 6,
   "metadata": {},
   "outputs": [
    {
     "name": "stdout",
     "output_type": "stream",
     "text": [
      "The in situ HCO3 : 2421.93\n",
      "The in situ CO3 : 45.54\n",
      "The in situ CO2 : 70.20\n",
      "Total DIC : 2.54\n"
     ]
    }
   ],
   "source": [
    "# 800\n",
    "# Import PyCO2SYS\n",
    "import PyCO2SYS as pyco2\n",
    "\n",
    "# Run PyCO2SYS\n",
    "results = pyco2.sys(**kwargs)\n",
    "\n",
    "# Extract and print out the output bicarbonate (μmol·kg−1)\n",
    "bicarb_out = results['bicarbonate_out']\n",
    "print('The in situ HCO3 : {:.2f}'.format(bicarb_out))\n",
    "\n",
    "# Extract and print out the output carbonate (μmol·kg−1)\n",
    "carb_out = results['carbonate_out']\n",
    "print('The in situ CO3 : {:.2f}'.format(carb_out))\n",
    "\n",
    "# Extract and print out the output carbonate (μmol·kg−1)\n",
    "co2_out = results['aqueous_CO2_out']\n",
    "print('The in situ CO2 : {:.2f}'.format(co2_out))\n",
    "\n",
    "# 'Total' DIC in mmol kg-1\n",
    "DIC = (bicarb_out + carb_out + co2_out)/1000\n",
    "print('Total DIC : {:.2f}'.format(DIC))"
   ]
  },
  {
   "cell_type": "markdown",
   "metadata": {},
   "source": [
    "### 700 m"
   ]
  },
  {
   "cell_type": "code",
   "execution_count": 7,
   "metadata": {},
   "outputs": [
    {
     "name": "stdout",
     "output_type": "stream",
     "text": [
      "Conditions have been defined!\n"
     ]
    }
   ],
   "source": [
    "# 700 m: Define input and output conditions\n",
    "# parameters: 2.523\t7.553\t34.509\t5.9384\t700.0\t76.29\t3.33\n",
    "\n",
    "kwargs = dict(\n",
    "    par1_type = 1,  # The first parameter supplied is of type \"1\", which means \"alkalinity\"\n",
    "    par1 = 2523,  # value of the first parameter\n",
    "    par2_type = 3,  # The second parameter supplied is of type \"3\", which means \"pH\"\n",
    "    par2 = 7.553,  # value of the second parameter\n",
    "    salinity = 34.509,  # Salinity of the sample\n",
    "    temperature = 5.9384,  # Temperature at input conditions\n",
    "    temperature_out = 5.9384,  # Temperature at output conditions\n",
    "    pressure = 700,  # Pressure    at input conditions\n",
    "    pressure_out = 700,  # Pressure    at output conditions\n",
    "    total_silicate = 76.29,  # Concentration of silicate  in the sample (in umol/kg)\n",
    "    total_phosphate = 3.33,  # Concentration of phosphate in the sample (in umol/kg)\n",
    "    opt_pH_scale = 1,  # pH scale at which the input pH is reported (\"1\" means \"Total Scale\")\n",
    "    opt_k_carbonic = 4,  # Choice of H2CO3 and HCO3- dissociation constants K1 and K2 (\"4\" means \"Mehrbach refit\")\n",
    "    opt_k_bisulfate = 1,  # Choice of HSO4- dissociation constant KSO4 (\"1\" means \"Dickson\")\n",
    "    opt_total_borate = 1,  # Choice of boron:sal (\"1\" means \"Uppstrom\")\n",
    ")\n",
    "print('Conditions have been defined!')"
   ]
  },
  {
   "cell_type": "code",
   "execution_count": 8,
   "metadata": {},
   "outputs": [
    {
     "name": "stdout",
     "output_type": "stream",
     "text": [
      "The in situ HCO3 : 2403.74\n",
      "The in situ CO3 : 46.50\n",
      "The in situ CO2 : 68.53\n",
      "Total DIC : 2.52\n"
     ]
    }
   ],
   "source": [
    "# 700\n",
    "# Import PyCO2SYS\n",
    "import PyCO2SYS as pyco2\n",
    "\n",
    "# Run PyCO2SYS\n",
    "results = pyco2.sys(**kwargs)\n",
    "\n",
    "# Extract and print out the output bicarbonate (μmol·kg−1)\n",
    "bicarb_out = results['bicarbonate_out']\n",
    "print('The in situ HCO3 : {:.2f}'.format(bicarb_out))\n",
    "\n",
    "# Extract and print out the output carbonate (μmol·kg−1)\n",
    "carb_out = results['carbonate_out']\n",
    "print('The in situ CO3 : {:.2f}'.format(carb_out))\n",
    "\n",
    "# Extract and print out the output carbonate (μmol·kg−1)\n",
    "co2_out = results['aqueous_CO2_out']\n",
    "print('The in situ CO2 : {:.2f}'.format(co2_out))\n",
    "\n",
    "# 'Total' DIC in mmol kg-1\n",
    "DIC = (bicarb_out + carb_out + co2_out)/1000\n",
    "print('Total DIC : {:.2f}'.format(DIC))"
   ]
  },
  {
   "cell_type": "markdown",
   "metadata": {},
   "source": [
    "### 600 m"
   ]
  },
  {
   "cell_type": "code",
   "execution_count": 9,
   "metadata": {},
   "outputs": [
    {
     "name": "stdout",
     "output_type": "stream",
     "text": [
      "Conditions have been defined!\n"
     ]
    }
   ],
   "source": [
    "# 600 m: Define input and output conditions\n",
    "# parameters: 2.528\t7.548\t34.511\t6.6863\t600.0\t67.99\t3.29\n",
    "\n",
    "kwargs = dict(\n",
    "    par1_type = 1,  # The first parameter supplied is of type \"1\", which means \"alkalinity\"\n",
    "    par1 = 2528,  # value of the first parameter\n",
    "    par2_type = 3,  # The second parameter supplied is of type \"3\", which means \"pH\"\n",
    "    par2 = 7.548,  # value of the second parameter\n",
    "    salinity = 34.511,  # Salinity of the sample\n",
    "    temperature = 6.6863,  # Temperature at input conditions\n",
    "    temperature_out = 6.6863,  # Temperature at output conditions\n",
    "    pressure = 600,  # Pressure    at input conditions\n",
    "    pressure_out = 600,  # Pressure    at output conditions\n",
    "    total_silicate = 67.99,  # Concentration of silicate  in the sample (in umol/kg)\n",
    "    total_phosphate = 3.29,  # Concentration of phosphate in the sample (in umol/kg)\n",
    "    opt_pH_scale = 1,  # pH scale at which the input pH is reported (\"1\" means \"Total Scale\")\n",
    "    opt_k_carbonic = 4,  # Choice of H2CO3 and HCO3- dissociation constants K1 and K2 (\"4\" means \"Mehrbach refit\")\n",
    "    opt_k_bisulfate = 1,  # Choice of HSO4- dissociation constant KSO4 (\"1\" means \"Dickson\")\n",
    "    opt_total_borate = 1,  # Choice of boron:sal (\"1\" means \"Uppstrom\")\n",
    ")\n",
    "print('Conditions have been defined!')"
   ]
  },
  {
   "cell_type": "code",
   "execution_count": 10,
   "metadata": {},
   "outputs": [
    {
     "name": "stdout",
     "output_type": "stream",
     "text": [
      "The in situ HCO3 : 2407.56\n",
      "The in situ CO3 : 47.14\n",
      "The in situ CO2 : 68.78\n",
      "Total DIC : 2.52\n"
     ]
    }
   ],
   "source": [
    "# 600\n",
    "# Import PyCO2SYS\n",
    "import PyCO2SYS as pyco2\n",
    "\n",
    "# Run PyCO2SYS\n",
    "results = pyco2.sys(**kwargs)\n",
    "\n",
    "# Extract and print out the output bicarbonate (μmol·kg−1)\n",
    "bicarb_out = results['bicarbonate_out']\n",
    "print('The in situ HCO3 : {:.2f}'.format(bicarb_out))\n",
    "\n",
    "# Extract and print out the output carbonate (μmol·kg−1)\n",
    "carb_out = results['carbonate_out']\n",
    "print('The in situ CO3 : {:.2f}'.format(carb_out))\n",
    "\n",
    "# Extract and print out the output carbonate (μmol·kg−1)\n",
    "co2_out = results['aqueous_CO2_out']\n",
    "print('The in situ CO2 : {:.2f}'.format(co2_out))\n",
    "\n",
    "# 'Total' DIC in mmol kg-1\n",
    "DIC = (bicarb_out + carb_out + co2_out)/1000\n",
    "print('Total DIC : {:.2f}'.format(DIC))"
   ]
  },
  {
   "cell_type": "markdown",
   "metadata": {},
   "source": [
    "### 500 m"
   ]
  },
  {
   "cell_type": "code",
   "execution_count": 11,
   "metadata": {},
   "outputs": [
    {
     "name": "stdout",
     "output_type": "stream",
     "text": [
      "Conditions have been defined!\n"
     ]
    }
   ],
   "source": [
    "# 500 m: Define input and output conditions\n",
    "# parameters: 2.534\t7.552\t34.5355\t7.7197\t500.0\t57.06\t3.15\n",
    "\n",
    "kwargs = dict(\n",
    "    par1_type = 1,  # The first parameter supplied is of type \"1\", which means \"alkalinity\"\n",
    "    par1 = 2534,  # value of the first parameter\n",
    "    par2_type = 3,  # The second parameter supplied is of type \"3\", which means \"pH\"\n",
    "    par2 = 7.552,  # value of the second parameter\n",
    "    salinity = 34.5355,  # Salinity of the sample\n",
    "    temperature = 7.7197,  # Temperature at input conditions\n",
    "    temperature_out = 7.7197,  # Temperature at output conditions\n",
    "    pressure = 500,  # Pressure    at input conditions\n",
    "    pressure_out = 500,  # Pressure    at output conditions\n",
    "    total_silicate = 57.06,  # Concentration of silicate  in the sample (in umol/kg)\n",
    "    total_phosphate = 3.15,  # Concentration of phosphate in the sample (in umol/kg)\n",
    "    opt_pH_scale = 1,  # pH scale at which the input pH is reported (\"1\" means \"Total Scale\")\n",
    "    opt_k_carbonic = 4,  # Choice of H2CO3 and HCO3- dissociation constants K1 and K2 (\"4\" means \"Mehrbach refit\")\n",
    "    opt_k_bisulfate = 1,  # Choice of HSO4- dissociation constant KSO4 (\"1\" means \"Dickson\")\n",
    "    opt_total_borate = 1,  # Choice of boron:sal (\"1\" means \"Uppstrom\")\n",
    ")\n",
    "print('Conditions have been defined!')"
   ]
  },
  {
   "cell_type": "code",
   "execution_count": 12,
   "metadata": {},
   "outputs": [
    {
     "name": "stdout",
     "output_type": "stream",
     "text": [
      "The in situ HCO3 : 2408.74\n",
      "The in situ CO3 : 49.32\n",
      "The in situ CO2 : 67.05\n",
      "Total DIC : 2.53\n"
     ]
    }
   ],
   "source": [
    "# 500\n",
    "# Import PyCO2SYS\n",
    "import PyCO2SYS as pyco2\n",
    "\n",
    "# Run PyCO2SYS\n",
    "results = pyco2.sys(**kwargs)\n",
    "\n",
    "# Extract and print out the output bicarbonate (μmol·kg−1)\n",
    "bicarb_out = results['bicarbonate_out']\n",
    "print('The in situ HCO3 : {:.2f}'.format(bicarb_out))\n",
    "\n",
    "# Extract and print out the output carbonate (μmol·kg−1)\n",
    "carb_out = results['carbonate_out']\n",
    "print('The in situ CO3 : {:.2f}'.format(carb_out))\n",
    "\n",
    "# Extract and print out the output carbonate (μmol·kg−1)\n",
    "co2_out = results['aqueous_CO2_out']\n",
    "print('The in situ CO2 : {:.2f}'.format(co2_out))\n",
    "\n",
    "# 'Total' DIC in mmol kg-1\n",
    "DIC = (bicarb_out + carb_out + co2_out)/1000\n",
    "print('Total DIC : {:.2f}'.format(DIC))"
   ]
  },
  {
   "cell_type": "markdown",
   "metadata": {},
   "source": [
    "### 300 m"
   ]
  },
  {
   "cell_type": "code",
   "execution_count": 13,
   "metadata": {},
   "outputs": [
    {
     "name": "stdout",
     "output_type": "stream",
     "text": [
      "Conditions have been defined!\n"
     ]
    }
   ],
   "source": [
    "# 300 m: Define input and output conditions\n",
    "# parameters: 2.517\t7.58\t34.6458\t10.6164\t300.0\t37.39\t2.86\n",
    "\n",
    "kwargs = dict(\n",
    "    par1_type = 1,  # The first parameter supplied is of type \"1\", which means \"alkalinity\"\n",
    "    par1 = 2517,  # value of the first parameter\n",
    "    par2_type = 3,  # The second parameter supplied is of type \"3\", which means \"pH\"\n",
    "    par2 = 7.58,  # value of the second parameter\n",
    "    salinity = 34.6458,  # Salinity of the sample\n",
    "    temperature = 10.6164,  # Temperature at input conditions\n",
    "    temperature_out = 10.6164,  # Temperature at output conditions\n",
    "    pressure = 300,  # Pressure    at input conditions\n",
    "    pressure_out = 300,  # Pressure    at output conditions\n",
    "    total_silicate = 37.39,  # Concentration of silicate  in the sample (in umol/kg)\n",
    "    total_phosphate = 2.86,  # Concentration of phosphate in the sample (in umol/kg)\n",
    "    opt_pH_scale = 1,  # pH scale at which the input pH is reported (\"1\" means \"Total Scale\")\n",
    "    opt_k_carbonic = 4,  # Choice of H2CO3 and HCO3- dissociation constants K1 and K2 (\"4\" means \"Mehrbach refit\")\n",
    "    opt_k_bisulfate = 1,  # Choice of HSO4- dissociation constant KSO4 (\"1\" means \"Dickson\")\n",
    "    opt_total_borate = 1,  # Choice of boron:sal (\"1\" means \"Uppstrom\")\n",
    ")\n",
    "print('Conditions have been defined!')"
   ]
  },
  {
   "cell_type": "code",
   "execution_count": 14,
   "metadata": {},
   "outputs": [
    {
     "name": "stdout",
     "output_type": "stream",
     "text": [
      "The in situ HCO3 : 2372.55\n",
      "The in situ CO3 : 57.53\n",
      "The in situ CO2 : 58.65\n",
      "Total DIC : 2.49\n"
     ]
    }
   ],
   "source": [
    "# 300\n",
    "# Import PyCO2SYS\n",
    "import PyCO2SYS as pyco2\n",
    "\n",
    "# Run PyCO2SYS\n",
    "results = pyco2.sys(**kwargs)\n",
    "\n",
    "# Extract and print out the output bicarbonate (μmol·kg−1)\n",
    "bicarb_out = results['bicarbonate_out']\n",
    "print('The in situ HCO3 : {:.2f}'.format(bicarb_out))\n",
    "\n",
    "# Extract and print out the output carbonate (μmol·kg−1)\n",
    "carb_out = results['carbonate_out']\n",
    "print('The in situ CO3 : {:.2f}'.format(carb_out))\n",
    "\n",
    "# Extract and print out the output carbonate (μmol·kg−1)\n",
    "co2_out = results['aqueous_CO2_out']\n",
    "print('The in situ CO2 : {:.2f}'.format(co2_out))\n",
    "\n",
    "# 'Total' DIC in mmol kg-1\n",
    "DIC = (bicarb_out + carb_out + co2_out)/1000\n",
    "print('Total DIC : {:.2f}'.format(DIC))"
   ]
  },
  {
   "cell_type": "markdown",
   "metadata": {},
   "source": [
    "### 200 m"
   ]
  },
  {
   "cell_type": "code",
   "execution_count": 15,
   "metadata": {},
   "outputs": [
    {
     "name": "stdout",
     "output_type": "stream",
     "text": [
      "Conditions have been defined!\n"
     ]
    }
   ],
   "source": [
    "# 200 m: Define input and output conditions\n",
    "# parameters: 2.489\t7.614\t34.7299\t12.2933\t200.0\t31.63\t2.72\n",
    "\n",
    "kwargs = dict(\n",
    "    par1_type = 1,  # The first parameter supplied is of type \"1\", which means \"alkalinity\"\n",
    "    par1 = 2489,  # value of the first parameter\n",
    "    par2_type = 3,  # The second parameter supplied is of type \"3\", which means \"pH\"\n",
    "    par2 = 7.614,  # value of the second parameter\n",
    "    salinity = 34.7299,  # Salinity of the sample\n",
    "    temperature = 12.2933,  # Temperature at input conditions\n",
    "    temperature_out = 12.2933,  # Temperature at output conditions\n",
    "    pressure = 200,  # Pressure    at input conditions\n",
    "    pressure_out = 200,  # Pressure    at output conditions\n",
    "    total_silicate = 31.63,  # Concentration of silicate  in the sample (in umol/kg)\n",
    "    total_phosphate = 2.72,  # Concentration of phosphate in the sample (in umol/kg)\n",
    "    opt_pH_scale = 1,  # pH scale at which the input pH is reported (\"1\" means \"Total Scale\")\n",
    "    opt_k_carbonic = 4,  # Choice of H2CO3 and HCO3- dissociation constants K1 and K2 (\"4\" means \"Mehrbach refit\")\n",
    "    opt_k_bisulfate = 1,  # Choice of HSO4- dissociation constant KSO4 (\"1\" means \"Dickson\")\n",
    "    opt_total_borate = 1,  # Choice of boron:sal (\"1\" means \"Uppstrom\")\n",
    ")\n",
    "print('Conditions have been defined!')"
   ]
  },
  {
   "cell_type": "code",
   "execution_count": 16,
   "metadata": {},
   "outputs": [
    {
     "name": "stdout",
     "output_type": "stream",
     "text": [
      "The in situ HCO3 : 2326.86\n",
      "The in situ CO3 : 64.86\n",
      "The in situ CO2 : 51.52\n",
      "Total DIC : 2.44\n"
     ]
    }
   ],
   "source": [
    "# 200\n",
    "# Import PyCO2SYS\n",
    "import PyCO2SYS as pyco2\n",
    "\n",
    "# Run PyCO2SYS\n",
    "results = pyco2.sys(**kwargs)\n",
    "\n",
    "# Extract and print out the output bicarbonate (μmol·kg−1)\n",
    "bicarb_out = results['bicarbonate_out']\n",
    "print('The in situ HCO3 : {:.2f}'.format(bicarb_out))\n",
    "\n",
    "# Extract and print out the output carbonate (μmol·kg−1)\n",
    "carb_out = results['carbonate_out']\n",
    "print('The in situ CO3 : {:.2f}'.format(carb_out))\n",
    "\n",
    "# Extract and print out the output carbonate (μmol·kg−1)\n",
    "co2_out = results['aqueous_CO2_out']\n",
    "print('The in situ CO2 : {:.2f}'.format(co2_out))\n",
    "\n",
    "# 'Total' DIC in mmol kg-1\n",
    "DIC = (bicarb_out + carb_out + co2_out)/1000\n",
    "print('Total DIC : {:.2f}'.format(DIC))"
   ]
  },
  {
   "cell_type": "markdown",
   "metadata": {},
   "source": [
    "### 100 m"
   ]
  },
  {
   "cell_type": "code",
   "execution_count": 17,
   "metadata": {},
   "outputs": [
    {
     "name": "stdout",
     "output_type": "stream",
     "text": [
      "Conditions have been defined!\n"
     ]
    }
   ],
   "source": [
    "# 100 m: Define input and output conditions\n",
    "# parameters: 2.506\t7.701\t34.5383\t14.9184\t100.0\t25.41\t2.32\n",
    "\n",
    "kwargs = dict(\n",
    "    par1_type = 1,  # The first parameter supplied is of type \"1\", which means \"alkalinity\"\n",
    "    par1 = 2506,  # value of the first parameter\n",
    "    par2_type = 3,  # The second parameter supplied is of type \"3\", which means \"pH\"\n",
    "    par2 = 7.701,  # value of the second parameter\n",
    "    salinity = 34.5383,  # Salinity of the sample\n",
    "    temperature = 14.9184,  # Temperature at input conditions\n",
    "    temperature_out = 14.9184,  # Temperature at output conditions\n",
    "    pressure = 100,  # Pressure    at input conditions\n",
    "    pressure_out = 100,  # Pressure    at output conditions\n",
    "    total_silicate = 25.41,  # Concentration of silicate  in the sample (in umol/kg)\n",
    "    total_phosphate = 2.32,  # Concentration of phosphate in the sample (in umol/kg)\n",
    "    opt_pH_scale = 1,  # pH scale at which the input pH is reported (\"1\" means \"Total Scale\")\n",
    "    opt_k_carbonic = 4,  # Choice of H2CO3 and HCO3- dissociation constants K1 and K2 (\"4\" means \"Mehrbach refit\")\n",
    "    opt_k_bisulfate = 1,  # Choice of HSO4- dissociation constant KSO4 (\"1\" means \"Dickson\")\n",
    "    opt_total_borate = 1,  # Choice of boron:sal (\"1\" means \"Uppstrom\")\n",
    ")\n",
    "print('Conditions have been defined!')"
   ]
  },
  {
   "cell_type": "code",
   "execution_count": 18,
   "metadata": {},
   "outputs": [
    {
     "name": "stdout",
     "output_type": "stream",
     "text": [
      "The in situ HCO3 : 2294.78\n",
      "The in situ CO3 : 85.56\n",
      "The in situ CO2 : 39.53\n",
      "Total DIC : 2.42\n"
     ]
    }
   ],
   "source": [
    "# 100\n",
    "# Import PyCO2SYS\n",
    "import PyCO2SYS as pyco2\n",
    "\n",
    "# Run PyCO2SYS\n",
    "results = pyco2.sys(**kwargs)\n",
    "\n",
    "# Extract and print out the output bicarbonate (μmol·kg−1)\n",
    "bicarb_out = results['bicarbonate_out']\n",
    "print('The in situ HCO3 : {:.2f}'.format(bicarb_out))\n",
    "\n",
    "# Extract and print out the output carbonate (μmol·kg−1)\n",
    "carb_out = results['carbonate_out']\n",
    "print('The in situ CO3 : {:.2f}'.format(carb_out))\n",
    "\n",
    "# Extract and print out the output carbonate (μmol·kg−1)\n",
    "co2_out = results['aqueous_CO2_out']\n",
    "print('The in situ CO2 : {:.2f}'.format(co2_out))\n",
    "\n",
    "# 'Total' DIC in mmol kg-1\n",
    "DIC = (bicarb_out + carb_out + co2_out)/1000\n",
    "print('Total DIC : {:.2f}'.format(DIC))"
   ]
  },
  {
   "cell_type": "markdown",
   "metadata": {},
   "source": [
    "### 75 m"
   ]
  },
  {
   "cell_type": "code",
   "execution_count": 21,
   "metadata": {},
   "outputs": [
    {
     "name": "stdout",
     "output_type": "stream",
     "text": [
      "Conditions have been defined!\n"
     ]
    }
   ],
   "source": [
    "# 75 m: Define input and output conditions\n",
    "# parameters: 2.414\t7.872\t34.3092\t16.7567\t75.0\t7.47\t0.93\n",
    "\n",
    "kwargs = dict(\n",
    "    par1_type = 1,  # The first parameter supplied is of type \"1\", which means \"alkalinity\"\n",
    "    par1 = 2414,  # value of the first parameter\n",
    "    par2_type = 3,  # The second parameter supplied is of type \"3\", which means \"pH\"\n",
    "    par2 = 7.872,  # value of the second parameter\n",
    "    salinity = 34.3092,  # Salinity of the sample\n",
    "    temperature = 16.7567,  # Temperature at input conditions\n",
    "    temperature_out = 16.7567,  # Temperature at output conditions\n",
    "    pressure = 75,  # Pressure    at input conditions\n",
    "    pressure_out = 75,  # Pressure    at output conditions\n",
    "    total_silicate = 7.47,  # Concentration of silicate  in the sample (in umol/kg)\n",
    "    total_phosphate = 0.93,  # Concentration of phosphate in the sample (in umol/kg)\n",
    "    opt_pH_scale = 1,  # pH scale at which the input pH is reported (\"1\" means \"Total Scale\")\n",
    "    opt_k_carbonic = 4,  # Choice of H2CO3 and HCO3- dissociation constants K1 and K2 (\"4\" means \"Mehrbach refit\")\n",
    "    opt_k_bisulfate = 1,  # Choice of HSO4- dissociation constant KSO4 (\"1\" means \"Dickson\")\n",
    "    opt_total_borate = 1,  # Choice of boron:sal (\"1\" means \"Uppstrom\")\n",
    ")\n",
    "print('Conditions have been defined!')"
   ]
  },
  {
   "cell_type": "code",
   "execution_count": 22,
   "metadata": {},
   "outputs": [
    {
     "name": "stdout",
     "output_type": "stream",
     "text": [
      "The in situ HCO3 : 2109.19\n",
      "The in situ CO3 : 124.18\n",
      "The in situ CO2 : 23.61\n",
      "Total DIC : 2.26\n"
     ]
    }
   ],
   "source": [
    "# 75\n",
    "# Import PyCO2SYS\n",
    "import PyCO2SYS as pyco2\n",
    "\n",
    "# Run PyCO2SYS\n",
    "results = pyco2.sys(**kwargs)\n",
    "\n",
    "# Extract and print out the output bicarbonate (μmol·kg−1)\n",
    "bicarb_out = results['bicarbonate_out']\n",
    "print('The in situ HCO3 : {:.2f}'.format(bicarb_out))\n",
    "\n",
    "# Extract and print out the output carbonate (μmol·kg−1)\n",
    "carb_out = results['carbonate_out']\n",
    "print('The in situ CO3 : {:.2f}'.format(carb_out))\n",
    "\n",
    "# Extract and print out the output carbonate (μmol·kg−1)\n",
    "co2_out = results['aqueous_CO2_out']\n",
    "print('The in situ CO2 : {:.2f}'.format(co2_out))\n",
    "\n",
    "# 'Total' DIC in mmol kg-1\n",
    "DIC = (bicarb_out + carb_out + co2_out)/1000\n",
    "print('Total DIC : {:.2f}'.format(DIC))"
   ]
  },
  {
   "cell_type": "markdown",
   "metadata": {},
   "source": [
    "### 2 m"
   ]
  },
  {
   "cell_type": "code",
   "execution_count": 23,
   "metadata": {},
   "outputs": [
    {
     "name": "stdout",
     "output_type": "stream",
     "text": [
      "Conditions have been defined!\n"
     ]
    }
   ],
   "source": [
    "# 2 m: Define input and output conditions\n",
    "# parameters: 2.531\t8.215\t34.3597\t24.7281\t0.0\t5.95\t0.27\n",
    "\n",
    "kwargs = dict(\n",
    "    par1_type = 1,  # The first parameter supplied is of type \"1\", which means \"alkalinity\"\n",
    "    par1 = 2531,  # value of the first parameter\n",
    "    par2_type = 3,  # The second parameter supplied is of type \"3\", which means \"pH\"\n",
    "    par2 = 8.215,  # value of the second parameter\n",
    "    salinity = 34.3597,  # Salinity of the sample\n",
    "    temperature = 24.7281,  # Temperature at input conditions\n",
    "    temperature_out = 24.7281,  # Temperature at output conditions\n",
    "    pressure = 2.0,  # Pressure    at input conditions\n",
    "    pressure_out = 2.0,  # Pressure    at output conditions\n",
    "    total_silicate = 5.95,  # Concentration of silicate  in the sample (in umol/kg)\n",
    "    total_phosphate = 0.27,  # Concentration of phosphate in the sample (in umol/kg)\n",
    "    opt_pH_scale = 1,  # pH scale at which the input pH is reported (\"1\" means \"Total Scale\")\n",
    "    opt_k_carbonic = 4,  # Choice of H2CO3 and HCO3- dissociation constants K1 and K2 (\"4\" means \"Mehrbach refit\")\n",
    "    opt_k_bisulfate = 1,  # Choice of HSO4- dissociation constant KSO4 (\"1\" means \"Dickson\")\n",
    "    opt_total_borate = 1,  # Choice of boron:sal (\"1\" means \"Uppstrom\")\n",
    ")\n",
    "print('Conditions have been defined!')"
   ]
  },
  {
   "cell_type": "code",
   "execution_count": 24,
   "metadata": {},
   "outputs": [
    {
     "name": "stdout",
     "output_type": "stream",
     "text": [
      "The in situ HCO3 : 1783.64\n",
      "The in situ CO3 : 309.42\n",
      "The in situ CO2 : 7.72\n",
      "Total DIC : 2.10\n"
     ]
    }
   ],
   "source": [
    "# 2\n",
    "# Import PyCO2SYS\n",
    "import PyCO2SYS as pyco2\n",
    "\n",
    "# Run PyCO2SYS\n",
    "results = pyco2.sys(**kwargs)\n",
    "\n",
    "# Extract and print out the output bicarbonate (μmol·kg−1)\n",
    "bicarb_out = results['bicarbonate_out']\n",
    "print('The in situ HCO3 : {:.2f}'.format(bicarb_out))\n",
    "\n",
    "# Extract and print out the output carbonate (μmol·kg−1)\n",
    "carb_out = results['carbonate_out']\n",
    "print('The in situ CO3 : {:.2f}'.format(carb_out))\n",
    "\n",
    "# Extract and print out the output carbonate (μmol·kg−1)\n",
    "co2_out = results['aqueous_CO2_out']\n",
    "print('The in situ CO2 : {:.2f}'.format(co2_out))\n",
    "\n",
    "# 'Total' DIC in mmol kg-1\n",
    "DIC = (bicarb_out + carb_out + co2_out)/1000\n",
    "print('Total DIC : {:.2f}'.format(DIC))"
   ]
  },
  {
   "cell_type": "code",
   "execution_count": null,
   "metadata": {},
   "outputs": [],
   "source": []
  }
 ],
 "metadata": {
  "kernelspec": {
   "display_name": "Python 3",
   "language": "python",
   "name": "python3"
  },
  "language_info": {
   "codemirror_mode": {
    "name": "ipython",
    "version": 3
   },
   "file_extension": ".py",
   "mimetype": "text/x-python",
   "name": "python",
   "nbconvert_exporter": "python",
   "pygments_lexer": "ipython3",
   "version": "3.8.3"
  }
 },
 "nbformat": 4,
 "nbformat_minor": 4
}
