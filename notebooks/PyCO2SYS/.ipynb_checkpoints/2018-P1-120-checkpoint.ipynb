{
 "cells": [
  {
   "cell_type": "markdown",
   "metadata": {},
   "source": [
    "## Calculating DIC in incubations (and in CTD Niskins for T0 conditions)\n",
    "\n",
    "### Using PyCO2SYS, based on CO2SYSExample2.m for MATLAB by Steven van Heuven.\n",
    "\n",
    "### Documentation [here](https://pyco2sys.readthedocs.io/en/latest/co2sys_nd/)"
   ]
  },
  {
   "cell_type": "markdown",
   "metadata": {},
   "source": [
    "## DEFINE: post +P incubation conditions at P1 at 120 m, 3-39 ETNP 2018\n",
    "\n",
    "- alkalinity: 7250 umol kg-1\n",
    "- pH: 7.572\n",
    "- salinity: 34.7\n",
    "- temp: 11.7321\n",
    "- pressure: 120.814\n",
    "- silicate: 23.88\n",
    "- phosphate: 2.41\n",
    "\n",
    "\n",
    "- 20 hour incubation"
   ]
  },
  {
   "cell_type": "code",
   "execution_count": 1,
   "metadata": {},
   "outputs": [
    {
     "name": "stdout",
     "output_type": "stream",
     "text": [
      "Conditions have been defined!\n"
     ]
    }
   ],
   "source": [
    "# Define input and output conditions\n",
    "kwargs = dict(\n",
    "    par1_type = 1,  # The first parameter supplied is of type \"1\", which means \"alkalinity\"\n",
    "    par1 = 2583,  # value of the first parameter\n",
    "    par2_type = 3,  # The second parameter supplied is of type \"3\", which means \"pH\"\n",
    "    par2 = 7.572,  # value of the second parameter\n",
    "    salinity = 34.7,  # Salinity of the sample\n",
    "    temperature = 11.7321,  # Temperature at input conditions\n",
    "    temperature_out = 11.7321,  # Temperature at output conditions\n",
    "    pressure = 120.814,  # Pressure    at input conditions\n",
    "    pressure_out = 120.814,  # Pressure    at output conditions\n",
    "    total_silicate = 23.88,  # Concentration of silicate  in the sample (in umol/kg)\n",
    "    total_phosphate = 2.41,  # Concentration of phosphate in the sample (in umol/kg)\n",
    "    opt_pH_scale = 1,  # pH scale at which the input pH is reported (\"1\" means \"Total Scale\")\n",
    "    opt_k_carbonic = 4,  # Choice of H2CO3 and HCO3- dissociation constants K1 and K2 (\"4\" means \"Mehrbach refit\")\n",
    "    opt_k_bisulfate = 1,  # Choice of HSO4- dissociation constant KSO4 (\"1\" means \"Dickson\")\n",
    "    opt_total_borate = 1,  # Choice of boron:sal (\"1\" means \"Uppstrom\")\n",
    ")\n",
    "print('Conditions have been defined!')"
   ]
  },
  {
   "cell_type": "code",
   "execution_count": 3,
   "metadata": {},
   "outputs": [
    {
     "name": "stdout",
     "output_type": "stream",
     "text": [
      "The in situ HCO3 : 2434.46\n",
      "The in situ CO3 : 59.90\n",
      "The in situ CO2 : 60.70\n",
      "Total DIC : 2.56\n"
     ]
    }
   ],
   "source": [
    "# Import PyCO2SYS\n",
    "import PyCO2SYS as pyco2\n",
    "\n",
    "# Run PyCO2SYS\n",
    "results = pyco2.sys(**kwargs)\n",
    "\n",
    "# Extract and print out the output bicarbonate (μmol·kg−1)\n",
    "bicarb_out = results['bicarbonate_out']\n",
    "print('The in situ HCO3 : {:.2f}'.format(bicarb_out))\n",
    "\n",
    "# Extract and print out the output carbonate (μmol·kg−1)\n",
    "carb_out = results['carbonate_out']\n",
    "print('The in situ CO3 : {:.2f}'.format(carb_out))\n",
    "\n",
    "# Extract and print out the output carbonate (μmol·kg−1)\n",
    "co2_out = results['aqueous_CO2_out']\n",
    "print('The in situ CO2 : {:.2f}'.format(co2_out))\n",
    "\n",
    "# 'Total' DIC in mmol kg-1\n",
    "DIC = (bicarb_out + carb_out + co2_out)/1000\n",
    "print('Total DIC : {:.2f}'.format(DIC))"
   ]
  },
  {
   "cell_type": "markdown",
   "metadata": {},
   "source": [
    "### Average ocean DIC = ~2.3 mmol kg−1"
   ]
  },
  {
   "cell_type": "markdown",
   "metadata": {},
   "source": [
    "## DEFINE: CTD (T0) conditions 120 m, P1 2018\n",
    "\n",
    "- alkalinity: 2506 umol kg-1\n",
    "- pH: 7.598\n",
    "- salinity: 34.8144\n",
    "- temp: 12.9378\n",
    "- pressure: 125.625\n",
    "- silicate: 27.04\n",
    "- phosphate: 2.51\n",
    "\n",
    "\n",
    "- Alk actually for 125 m"
   ]
  },
  {
   "cell_type": "code",
   "execution_count": 24,
   "metadata": {},
   "outputs": [
    {
     "name": "stdout",
     "output_type": "stream",
     "text": [
      "Conditions have been defined!\n"
     ]
    }
   ],
   "source": [
    "# Define input and output conditions\n",
    "kwargs = dict(\n",
    "    par1_type = 1,  # The first parameter supplied is of type \"1\", which means \"alkalinity\"\n",
    "    par1 = 2506,  # value of the first parameter\n",
    "    par2_type = 3,  # The second parameter supplied is of type \"3\", which means \"pH\"\n",
    "    par2 = 7.598,  # value of the second parameter\n",
    "    salinity = 34.8144,  # Salinity of the sample\n",
    "    temperature = 12.9378,  # Temperature at input conditions\n",
    "    temperature_out = 12.9378,  # Temperature at output conditions\n",
    "    pressure = 125.625,  # Pressure    at input conditions\n",
    "    pressure_out = 125.625,  # Pressure    at output conditions\n",
    "    total_silicate = 27.04,  # Concentration of silicate  in the sample (in umol/kg)\n",
    "    total_phosphate = 2.51,  # Concentration of phosphate in the sample (in umol/kg)\n",
    "    opt_pH_scale = 1,  # pH scale at which the input pH is reported (\"1\" means \"Total Scale\")\n",
    "    opt_k_carbonic = 4,  # Choice of H2CO3 and HCO3- dissociation constants K1 and K2 (\"4\" means \"Mehrbach refit\")\n",
    "    opt_k_bisulfate = 1,  # Choice of HSO4- dissociation constant KSO4 (\"1\" means \"Dickson\")\n",
    "    opt_total_borate = 1,  # Choice of boron:sal (\"1\" means \"Uppstrom\")\n",
    ")\n",
    "print('Conditions have been defined!')"
   ]
  },
  {
   "cell_type": "code",
   "execution_count": 21,
   "metadata": {},
   "outputs": [
    {
     "name": "stdout",
     "output_type": "stream",
     "text": [
      "The in situ HCO3 : 2345.60\n",
      "The in situ CO3 : 64.42\n",
      "The in situ CO2 : 53.42\n",
      "Total DIC : 2.46\n"
     ]
    }
   ],
   "source": [
    "# Import PyCO2SYS\n",
    "import PyCO2SYS as pyco2\n",
    "\n",
    "# Run PyCO2SYS\n",
    "results = pyco2.sys(**kwargs)\n",
    "\n",
    "# Extract and print out the output bicarbonate (μmol·kg−1)\n",
    "bicarb_out = results['bicarbonate_out']\n",
    "print('The in situ HCO3 : {:.2f}'.format(bicarb_out))\n",
    "\n",
    "# Extract and print out the output carbonate (μmol·kg−1)\n",
    "carb_out = results['carbonate_out']\n",
    "print('The in situ CO3 : {:.2f}'.format(carb_out))\n",
    "\n",
    "# Extract and print out the output carbonate (μmol·kg−1)\n",
    "co2_out = results['aqueous_CO2_out']\n",
    "print('The in situ CO2 : {:.2f}'.format(co2_out))\n",
    "\n",
    "# 'Total' DIC in mmol kg-1\n",
    "DIC = (bicarb_out + carb_out + co2_out)/1000\n",
    "print('Total DIC : {:.2f}'.format(DIC))"
   ]
  },
  {
   "cell_type": "markdown",
   "metadata": {},
   "source": [
    "## DEFINE:  post Ctl incubation conditions at P1 at 120 m, 3-39 ETNP 2018\n",
    "\n",
    "- alkalinity: 2622 umol kg-1\n",
    "- pH: 7.572\n",
    "- salinity: 34.7\n",
    "- temp: 11.7321\n",
    "- pressure: 120.814\n",
    "- silicate: 23.88\n",
    "- phosphate: 2.41\n",
    "\n",
    "\n",
    "- 20 hour incubation"
   ]
  },
  {
   "cell_type": "code",
   "execution_count": 22,
   "metadata": {},
   "outputs": [
    {
     "name": "stdout",
     "output_type": "stream",
     "text": [
      "Conditions have been defined!\n"
     ]
    }
   ],
   "source": [
    "# Define input and output conditions\n",
    "kwargs = dict(\n",
    "    par1_type = 1,  # The first parameter supplied is of type \"1\", which means \"alkalinity\"\n",
    "    par1 = 2622,  # value of the first parameter\n",
    "    par2_type = 3,  # The second parameter supplied is of type \"3\", which means \"pH\"\n",
    "    par2 = 7.572,  # value of the second parameter\n",
    "    salinity = 34.7,  # Salinity of the sample\n",
    "    temperature = 11.7321,  # Temperature at input conditions\n",
    "    temperature_out = 11.7321,  # Temperature at output conditions\n",
    "    pressure = 120.814,  # Pressure    at input conditions\n",
    "    pressure_out = 125.625,  # Pressure    at output conditions\n",
    "    total_silicate = 23.88,  # Concentration of silicate  in the sample (in umol/kg)\n",
    "    total_phosphate = 2.41,  # Concentration of phosphate in the sample (in umol/kg)\n",
    "    opt_pH_scale = 1,  # pH scale at which the input pH is reported (\"1\" means \"Total Scale\")\n",
    "    opt_k_carbonic = 4,  # Choice of H2CO3 and HCO3- dissociation constants K1 and K2 (\"4\" means \"Mehrbach refit\")\n",
    "    opt_k_bisulfate = 1,  # Choice of HSO4- dissociation constant KSO4 (\"1\" means \"Dickson\")\n",
    "    opt_total_borate = 1,  # Choice of boron:sal (\"1\" means \"Uppstrom\")\n",
    ")\n",
    "print('Conditions have been defined!')"
   ]
  },
  {
   "cell_type": "code",
   "execution_count": 23,
   "metadata": {},
   "outputs": [
    {
     "name": "stdout",
     "output_type": "stream",
     "text": [
      "The in situ HCO3 : 2471.64\n",
      "The in situ CO3 : 60.81\n",
      "The in situ CO2 : 61.63\n",
      "Total DIC : 2.59\n"
     ]
    }
   ],
   "source": [
    "# Import PyCO2SYS\n",
    "import PyCO2SYS as pyco2\n",
    "\n",
    "# Run PyCO2SYS\n",
    "results = pyco2.sys(**kwargs)\n",
    "\n",
    "# Extract and print out the output bicarbonate (μmol·kg−1)\n",
    "bicarb_out = results['bicarbonate_out']\n",
    "print('The in situ HCO3 : {:.2f}'.format(bicarb_out))\n",
    "\n",
    "# Extract and print out the output carbonate (μmol·kg−1)\n",
    "carb_out = results['carbonate_out']\n",
    "print('The in situ CO3 : {:.2f}'.format(carb_out))\n",
    "\n",
    "# Extract and print out the output carbonate (μmol·kg−1)\n",
    "co2_out = results['aqueous_CO2_out']\n",
    "print('The in situ CO2 : {:.2f}'.format(co2_out))\n",
    "\n",
    "# 'Total' DIC in mmol kg-1\n",
    "DIC = (bicarb_out + carb_out + co2_out)/1000\n",
    "print('Total DIC : {:.2f}'.format(DIC))"
   ]
  }
 ],
 "metadata": {
  "kernelspec": {
   "display_name": "Python 3",
   "language": "python",
   "name": "python3"
  },
  "language_info": {
   "codemirror_mode": {
    "name": "ipython",
    "version": 3
   },
   "file_extension": ".py",
   "mimetype": "text/x-python",
   "name": "python",
   "nbconvert_exporter": "python",
   "pygments_lexer": "ipython3",
   "version": "3.8.3"
  }
 },
 "nbformat": 4,
 "nbformat_minor": 4
}
