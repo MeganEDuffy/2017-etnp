{
 "cells": [
  {
   "cell_type": "markdown",
   "metadata": {},
   "source": [
    "## Calculating DIC in incubations CTD Niskins for T0 conditions\n",
    "\n",
    "### We only have CTD alkalinities from the first leg of the cruise, March 28-April 2, 2018 - where we did a western ODZ transect. The transect stations 5 and 15 correspond roughly to trapping stations P1 and P2, respectively. \n",
    "\n",
    "### All parameters needed to calculate DIC contained in a spreadsheet called alk_calk.xlsx in this git repo under `data/flux/rates/`\n",
    "\n",
    "### Depths are, in meters:\n",
    "\n",
    "- 1200\n",
    "- 1000\n",
    "- 800\n",
    "- 600\n",
    "- 400\n",
    "- 300\n",
    "- 200\n",
    "- 150\n",
    "- 100\n",
    "- 80\n",
    "- 50\n",
    "- 2 (surface)\n",
    "\n",
    "### Using PyCO2SYS, based on CO2SYSExample2.m for MATLAB by Steven van Heuven.\n",
    "\n",
    "### Documentation [here](https://pyco2sys.readthedocs.io/en/latest/co2sys_nd/)"
   ]
  },
  {
   "cell_type": "markdown",
   "metadata": {},
   "source": [
    "### 1200 m"
   ]
  },
  {
   "cell_type": "code",
   "execution_count": 1,
   "metadata": {},
   "outputs": [
    {
     "name": "stdout",
     "output_type": "stream",
     "text": [
      "Conditions have been defined!\n"
     ]
    }
   ],
   "source": [
    "# 1200 m: Define input and output conditions\n",
    "# parameters: 2.55\t7.583\t34.5681\t3.7887\t1200.0\t106.42\t3.26\n",
    "\n",
    "kwargs = dict(\n",
    "    par1_type = 1,  # The first parameter supplied is of type \"1\", which means \"alkalinity\"\n",
    "    par1 = 2550,  # value of the first parameter\n",
    "    par2_type = 3,  # The second parameter supplied is of type \"3\", which means \"pH\"\n",
    "    par2 = 7.583,  # value of the second parameter\n",
    "    salinity = 34.5681,  # Salinity of the sample\n",
    "    temperature = 3.7887,  # Temperature at input conditions\n",
    "    temperature_out = 3.7887,  # Temperature at output conditions\n",
    "    pressure = 1200,  # Pressure    at input conditions\n",
    "    pressure_out = 1200,  # Pressure    at output conditions\n",
    "    total_silicate = 106.42,  # Concentration of silicate  in the sample (in umol/kg)\n",
    "    total_phosphate = 3.26,  # Concentration of phosphate in the sample (in umol/kg)\n",
    "    opt_pH_scale = 1,  # pH scale at which the input pH is reported (\"1\" means \"Total Scale\")\n",
    "    opt_k_carbonic = 4,  # Choice of H2CO3 and HCO3- dissociation constants K1 and K2 (\"4\" means \"Mehrbach refit\")\n",
    "    opt_k_bisulfate = 1,  # Choice of HSO4- dissociation constant KSO4 (\"1\" means \"Dickson\")\n",
    "    opt_total_borate = 1,  # Choice of boron:sal (\"1\" means \"Uppstrom\")\n",
    ")\n",
    "print('Conditions have been defined!')"
   ]
  },
  {
   "cell_type": "code",
   "execution_count": 2,
   "metadata": {
    "scrolled": true
   },
   "outputs": [
    {
     "name": "stdout",
     "output_type": "stream",
     "text": [
      "The in situ HCO3 : 2426.62\n",
      "The in situ CO3 : 47.74\n",
      "The in situ CO2 : 64.83\n",
      "Total DIC : 2.54\n"
     ]
    }
   ],
   "source": [
    "# 1200\n",
    "# Import PyCO2SYS\n",
    "import PyCO2SYS as pyco2\n",
    "\n",
    "# Run PyCO2SYS\n",
    "results = pyco2.sys(**kwargs)\n",
    "\n",
    "# Extract and print out the output bicarbonate (μmol·kg−1)\n",
    "bicarb_out = results['bicarbonate_out']\n",
    "print('The in situ HCO3 : {:.2f}'.format(bicarb_out))\n",
    "\n",
    "# Extract and print out the output carbonate (μmol·kg−1)\n",
    "carb_out = results['carbonate_out']\n",
    "print('The in situ CO3 : {:.2f}'.format(carb_out))\n",
    "\n",
    "# Extract and print out the output carbonate (μmol·kg−1)\n",
    "co2_out = results['aqueous_CO2_out']\n",
    "print('The in situ CO2 : {:.2f}'.format(co2_out))\n",
    "\n",
    "# 'Total' DIC in mmol kg-1\n",
    "DIC = (bicarb_out + carb_out + co2_out)/1000\n",
    "print('Total DIC : {:.2f}'.format(DIC))"
   ]
  },
  {
   "cell_type": "markdown",
   "metadata": {},
   "source": [
    "### 1000 m"
   ]
  },
  {
   "cell_type": "code",
   "execution_count": 5,
   "metadata": {},
   "outputs": [
    {
     "name": "stdout",
     "output_type": "stream",
     "text": [
      "Conditions have been defined!\n"
     ]
    }
   ],
   "source": [
    "# 1000 m: Define input and output conditions\n",
    "# parameters: 2.551\t7.549\t34.5519\t4.4433\t1000.0\t94.87\t3.35\n",
    "\n",
    "kwargs = dict(\n",
    "    par1_type = 1,  # The first parameter supplied is of type \"1\", which means \"alkalinity\"\n",
    "    par1 = 2551,  # value of the first parameter\n",
    "    par2_type = 3,  # The second parameter supplied is of type \"3\", which means \"pH\"\n",
    "    par2 = 7.549,  # value of the second parameter\n",
    "    salinity = 34.5519,  # Salinity of the sample\n",
    "    temperature = 4.4433,  # Temperature at input conditions\n",
    "    temperature_out = 4.4433,  # Temperature at output conditions\n",
    "    pressure = 1000.0,  # Pressure    at input conditions\n",
    "    pressure_out = 1000.0,  # Pressure    at output conditions\n",
    "    total_silicate = 94.87,  # Concentration of silicate  in the sample (in umol/kg)\n",
    "    total_phosphate = 3.35,  # Concentration of phosphate in the sample (in umol/kg)\n",
    "    opt_pH_scale = 1,  # pH scale at which the input pH is reported (\"1\" means \"Total Scale\")\n",
    "    opt_k_carbonic = 4,  # Choice of H2CO3 and HCO3- dissociation constants K1 and K2 (\"4\" means \"Mehrbach refit\")\n",
    "    opt_k_bisulfate = 1,  # Choice of HSO4- dissociation constant KSO4 (\"1\" means \"Dickson\")\n",
    "    opt_total_borate = 1,  # Choice of boron:sal (\"1\" means \"Uppstrom\")\n",
    ")\n",
    "print('Conditions have been defined!')"
   ]
  },
  {
   "cell_type": "code",
   "execution_count": 6,
   "metadata": {
    "scrolled": true
   },
   "outputs": [
    {
     "name": "stdout",
     "output_type": "stream",
     "text": [
      "The in situ HCO3 : 2435.24\n",
      "The in situ CO3 : 44.87\n",
      "The in situ CO2 : 70.63\n",
      "Total DIC : 2.55\n"
     ]
    }
   ],
   "source": [
    "# 1000\n",
    "# Import PyCO2SYS\n",
    "import PyCO2SYS as pyco2\n",
    "\n",
    "# Run PyCO2SYS\n",
    "results = pyco2.sys(**kwargs)\n",
    "\n",
    "# Extract and print out the output bicarbonate (μmol·kg−1)\n",
    "bicarb_out = results['bicarbonate_out']\n",
    "print('The in situ HCO3 : {:.2f}'.format(bicarb_out))\n",
    "\n",
    "# Extract and print out the output carbonate (μmol·kg−1)\n",
    "carb_out = results['carbonate_out']\n",
    "print('The in situ CO3 : {:.2f}'.format(carb_out))\n",
    "\n",
    "# Extract and print out the output carbonate (μmol·kg−1)\n",
    "co2_out = results['aqueous_CO2_out']\n",
    "print('The in situ CO2 : {:.2f}'.format(co2_out))\n",
    "\n",
    "# 'Total' DIC in mmol kg-1\n",
    "DIC = (bicarb_out + carb_out + co2_out)/1000\n",
    "print('Total DIC : {:.2f}'.format(DIC))"
   ]
  },
  {
   "cell_type": "markdown",
   "metadata": {},
   "source": [
    "### 800 m"
   ]
  },
  {
   "cell_type": "code",
   "execution_count": 1,
   "metadata": {},
   "outputs": [
    {
     "name": "stdout",
     "output_type": "stream",
     "text": [
      "Conditions have been defined!\n"
     ]
    }
   ],
   "source": [
    "# 1200 m: Define input and output conditions\n",
    "# parameters: 2.55\t7.583\t34.5681\t3.7887\t1200.0\t106.42\t3.26\n",
    "\n",
    "kwargs = dict(\n",
    "    par1_type = 1,  # The first parameter supplied is of type \"1\", which means \"alkalinity\"\n",
    "    par1 = 2550,  # value of the first parameter\n",
    "    par2_type = 3,  # The second parameter supplied is of type \"3\", which means \"pH\"\n",
    "    par2 = 7.583,  # value of the second parameter\n",
    "    salinity = 34.5681,  # Salinity of the sample\n",
    "    temperature = 3.7887,  # Temperature at input conditions\n",
    "    temperature_out = 3.7887,  # Temperature at output conditions\n",
    "    pressure = 1200,  # Pressure    at input conditions\n",
    "    pressure_out = 1200,  # Pressure    at output conditions\n",
    "    total_silicate = 106.42,  # Concentration of silicate  in the sample (in umol/kg)\n",
    "    total_phosphate = 3.26,  # Concentration of phosphate in the sample (in umol/kg)\n",
    "    opt_pH_scale = 1,  # pH scale at which the input pH is reported (\"1\" means \"Total Scale\")\n",
    "    opt_k_carbonic = 4,  # Choice of H2CO3 and HCO3- dissociation constants K1 and K2 (\"4\" means \"Mehrbach refit\")\n",
    "    opt_k_bisulfate = 1,  # Choice of HSO4- dissociation constant KSO4 (\"1\" means \"Dickson\")\n",
    "    opt_total_borate = 1,  # Choice of boron:sal (\"1\" means \"Uppstrom\")\n",
    ")\n",
    "print('Conditions have been defined!')"
   ]
  },
  {
   "cell_type": "code",
   "execution_count": 2,
   "metadata": {},
   "outputs": [
    {
     "name": "stdout",
     "output_type": "stream",
     "text": [
      "The in situ HCO3 : 2426.62\n",
      "The in situ CO3 : 47.74\n",
      "The in situ CO2 : 64.83\n",
      "Total DIC : 2.54\n"
     ]
    }
   ],
   "source": [
    "# 1200\n",
    "# Import PyCO2SYS\n",
    "import PyCO2SYS as pyco2\n",
    "\n",
    "# Run PyCO2SYS\n",
    "results = pyco2.sys(**kwargs)\n",
    "\n",
    "# Extract and print out the output bicarbonate (μmol·kg−1)\n",
    "bicarb_out = results['bicarbonate_out']\n",
    "print('The in situ HCO3 : {:.2f}'.format(bicarb_out))\n",
    "\n",
    "# Extract and print out the output carbonate (μmol·kg−1)\n",
    "carb_out = results['carbonate_out']\n",
    "print('The in situ CO3 : {:.2f}'.format(carb_out))\n",
    "\n",
    "# Extract and print out the output carbonate (μmol·kg−1)\n",
    "co2_out = results['aqueous_CO2_out']\n",
    "print('The in situ CO2 : {:.2f}'.format(co2_out))\n",
    "\n",
    "# 'Total' DIC in mmol kg-1\n",
    "DIC = (bicarb_out + carb_out + co2_out)/1000\n",
    "print('Total DIC : {:.2f}'.format(DIC))"
   ]
  },
  {
   "cell_type": "markdown",
   "metadata": {},
   "source": [
    "### 600 m"
   ]
  },
  {
   "cell_type": "code",
   "execution_count": 1,
   "metadata": {},
   "outputs": [
    {
     "name": "stdout",
     "output_type": "stream",
     "text": [
      "Conditions have been defined!\n"
     ]
    }
   ],
   "source": [
    "# 1200 m: Define input and output conditions\n",
    "# parameters: 2.55\t7.583\t34.5681\t3.7887\t1200.0\t106.42\t3.26\n",
    "\n",
    "kwargs = dict(\n",
    "    par1_type = 1,  # The first parameter supplied is of type \"1\", which means \"alkalinity\"\n",
    "    par1 = 2550,  # value of the first parameter\n",
    "    par2_type = 3,  # The second parameter supplied is of type \"3\", which means \"pH\"\n",
    "    par2 = 7.583,  # value of the second parameter\n",
    "    salinity = 34.5681,  # Salinity of the sample\n",
    "    temperature = 3.7887,  # Temperature at input conditions\n",
    "    temperature_out = 3.7887,  # Temperature at output conditions\n",
    "    pressure = 1200,  # Pressure    at input conditions\n",
    "    pressure_out = 1200,  # Pressure    at output conditions\n",
    "    total_silicate = 106.42,  # Concentration of silicate  in the sample (in umol/kg)\n",
    "    total_phosphate = 3.26,  # Concentration of phosphate in the sample (in umol/kg)\n",
    "    opt_pH_scale = 1,  # pH scale at which the input pH is reported (\"1\" means \"Total Scale\")\n",
    "    opt_k_carbonic = 4,  # Choice of H2CO3 and HCO3- dissociation constants K1 and K2 (\"4\" means \"Mehrbach refit\")\n",
    "    opt_k_bisulfate = 1,  # Choice of HSO4- dissociation constant KSO4 (\"1\" means \"Dickson\")\n",
    "    opt_total_borate = 1,  # Choice of boron:sal (\"1\" means \"Uppstrom\")\n",
    ")\n",
    "print('Conditions have been defined!')"
   ]
  },
  {
   "cell_type": "code",
   "execution_count": 2,
   "metadata": {},
   "outputs": [
    {
     "name": "stdout",
     "output_type": "stream",
     "text": [
      "The in situ HCO3 : 2426.62\n",
      "The in situ CO3 : 47.74\n",
      "The in situ CO2 : 64.83\n",
      "Total DIC : 2.54\n"
     ]
    }
   ],
   "source": [
    "# 1200\n",
    "# Import PyCO2SYS\n",
    "import PyCO2SYS as pyco2\n",
    "\n",
    "# Run PyCO2SYS\n",
    "results = pyco2.sys(**kwargs)\n",
    "\n",
    "# Extract and print out the output bicarbonate (μmol·kg−1)\n",
    "bicarb_out = results['bicarbonate_out']\n",
    "print('The in situ HCO3 : {:.2f}'.format(bicarb_out))\n",
    "\n",
    "# Extract and print out the output carbonate (μmol·kg−1)\n",
    "carb_out = results['carbonate_out']\n",
    "print('The in situ CO3 : {:.2f}'.format(carb_out))\n",
    "\n",
    "# Extract and print out the output carbonate (μmol·kg−1)\n",
    "co2_out = results['aqueous_CO2_out']\n",
    "print('The in situ CO2 : {:.2f}'.format(co2_out))\n",
    "\n",
    "# 'Total' DIC in mmol kg-1\n",
    "DIC = (bicarb_out + carb_out + co2_out)/1000\n",
    "print('Total DIC : {:.2f}'.format(DIC))"
   ]
  },
  {
   "cell_type": "markdown",
   "metadata": {},
   "source": [
    "### 400 m"
   ]
  },
  {
   "cell_type": "code",
   "execution_count": 1,
   "metadata": {},
   "outputs": [
    {
     "name": "stdout",
     "output_type": "stream",
     "text": [
      "Conditions have been defined!\n"
     ]
    }
   ],
   "source": [
    "# 1200 m: Define input and output conditions\n",
    "# parameters: 2.55\t7.583\t34.5681\t3.7887\t1200.0\t106.42\t3.26\n",
    "\n",
    "kwargs = dict(\n",
    "    par1_type = 1,  # The first parameter supplied is of type \"1\", which means \"alkalinity\"\n",
    "    par1 = 2550,  # value of the first parameter\n",
    "    par2_type = 3,  # The second parameter supplied is of type \"3\", which means \"pH\"\n",
    "    par2 = 7.583,  # value of the second parameter\n",
    "    salinity = 34.5681,  # Salinity of the sample\n",
    "    temperature = 3.7887,  # Temperature at input conditions\n",
    "    temperature_out = 3.7887,  # Temperature at output conditions\n",
    "    pressure = 1200,  # Pressure    at input conditions\n",
    "    pressure_out = 1200,  # Pressure    at output conditions\n",
    "    total_silicate = 106.42,  # Concentration of silicate  in the sample (in umol/kg)\n",
    "    total_phosphate = 3.26,  # Concentration of phosphate in the sample (in umol/kg)\n",
    "    opt_pH_scale = 1,  # pH scale at which the input pH is reported (\"1\" means \"Total Scale\")\n",
    "    opt_k_carbonic = 4,  # Choice of H2CO3 and HCO3- dissociation constants K1 and K2 (\"4\" means \"Mehrbach refit\")\n",
    "    opt_k_bisulfate = 1,  # Choice of HSO4- dissociation constant KSO4 (\"1\" means \"Dickson\")\n",
    "    opt_total_borate = 1,  # Choice of boron:sal (\"1\" means \"Uppstrom\")\n",
    ")\n",
    "print('Conditions have been defined!')"
   ]
  },
  {
   "cell_type": "code",
   "execution_count": 2,
   "metadata": {},
   "outputs": [
    {
     "name": "stdout",
     "output_type": "stream",
     "text": [
      "The in situ HCO3 : 2426.62\n",
      "The in situ CO3 : 47.74\n",
      "The in situ CO2 : 64.83\n",
      "Total DIC : 2.54\n"
     ]
    }
   ],
   "source": [
    "# 1200\n",
    "# Import PyCO2SYS\n",
    "import PyCO2SYS as pyco2\n",
    "\n",
    "# Run PyCO2SYS\n",
    "results = pyco2.sys(**kwargs)\n",
    "\n",
    "# Extract and print out the output bicarbonate (μmol·kg−1)\n",
    "bicarb_out = results['bicarbonate_out']\n",
    "print('The in situ HCO3 : {:.2f}'.format(bicarb_out))\n",
    "\n",
    "# Extract and print out the output carbonate (μmol·kg−1)\n",
    "carb_out = results['carbonate_out']\n",
    "print('The in situ CO3 : {:.2f}'.format(carb_out))\n",
    "\n",
    "# Extract and print out the output carbonate (μmol·kg−1)\n",
    "co2_out = results['aqueous_CO2_out']\n",
    "print('The in situ CO2 : {:.2f}'.format(co2_out))\n",
    "\n",
    "# 'Total' DIC in mmol kg-1\n",
    "DIC = (bicarb_out + carb_out + co2_out)/1000\n",
    "print('Total DIC : {:.2f}'.format(DIC))"
   ]
  },
  {
   "cell_type": "markdown",
   "metadata": {},
   "source": [
    "### 300 m"
   ]
  },
  {
   "cell_type": "code",
   "execution_count": 1,
   "metadata": {},
   "outputs": [
    {
     "name": "stdout",
     "output_type": "stream",
     "text": [
      "Conditions have been defined!\n"
     ]
    }
   ],
   "source": [
    "# 1200 m: Define input and output conditions\n",
    "# parameters: 2.55\t7.583\t34.5681\t3.7887\t1200.0\t106.42\t3.26\n",
    "\n",
    "kwargs = dict(\n",
    "    par1_type = 1,  # The first parameter supplied is of type \"1\", which means \"alkalinity\"\n",
    "    par1 = 2550,  # value of the first parameter\n",
    "    par2_type = 3,  # The second parameter supplied is of type \"3\", which means \"pH\"\n",
    "    par2 = 7.583,  # value of the second parameter\n",
    "    salinity = 34.5681,  # Salinity of the sample\n",
    "    temperature = 3.7887,  # Temperature at input conditions\n",
    "    temperature_out = 3.7887,  # Temperature at output conditions\n",
    "    pressure = 1200,  # Pressure    at input conditions\n",
    "    pressure_out = 1200,  # Pressure    at output conditions\n",
    "    total_silicate = 106.42,  # Concentration of silicate  in the sample (in umol/kg)\n",
    "    total_phosphate = 3.26,  # Concentration of phosphate in the sample (in umol/kg)\n",
    "    opt_pH_scale = 1,  # pH scale at which the input pH is reported (\"1\" means \"Total Scale\")\n",
    "    opt_k_carbonic = 4,  # Choice of H2CO3 and HCO3- dissociation constants K1 and K2 (\"4\" means \"Mehrbach refit\")\n",
    "    opt_k_bisulfate = 1,  # Choice of HSO4- dissociation constant KSO4 (\"1\" means \"Dickson\")\n",
    "    opt_total_borate = 1,  # Choice of boron:sal (\"1\" means \"Uppstrom\")\n",
    ")\n",
    "print('Conditions have been defined!')"
   ]
  },
  {
   "cell_type": "code",
   "execution_count": 2,
   "metadata": {},
   "outputs": [
    {
     "name": "stdout",
     "output_type": "stream",
     "text": [
      "The in situ HCO3 : 2426.62\n",
      "The in situ CO3 : 47.74\n",
      "The in situ CO2 : 64.83\n",
      "Total DIC : 2.54\n"
     ]
    }
   ],
   "source": [
    "# 1200\n",
    "# Import PyCO2SYS\n",
    "import PyCO2SYS as pyco2\n",
    "\n",
    "# Run PyCO2SYS\n",
    "results = pyco2.sys(**kwargs)\n",
    "\n",
    "# Extract and print out the output bicarbonate (μmol·kg−1)\n",
    "bicarb_out = results['bicarbonate_out']\n",
    "print('The in situ HCO3 : {:.2f}'.format(bicarb_out))\n",
    "\n",
    "# Extract and print out the output carbonate (μmol·kg−1)\n",
    "carb_out = results['carbonate_out']\n",
    "print('The in situ CO3 : {:.2f}'.format(carb_out))\n",
    "\n",
    "# Extract and print out the output carbonate (μmol·kg−1)\n",
    "co2_out = results['aqueous_CO2_out']\n",
    "print('The in situ CO2 : {:.2f}'.format(co2_out))\n",
    "\n",
    "# 'Total' DIC in mmol kg-1\n",
    "DIC = (bicarb_out + carb_out + co2_out)/1000\n",
    "print('Total DIC : {:.2f}'.format(DIC))"
   ]
  },
  {
   "cell_type": "markdown",
   "metadata": {},
   "source": [
    "### 200 m"
   ]
  },
  {
   "cell_type": "code",
   "execution_count": 1,
   "metadata": {},
   "outputs": [
    {
     "name": "stdout",
     "output_type": "stream",
     "text": [
      "Conditions have been defined!\n"
     ]
    }
   ],
   "source": [
    "# 1200 m: Define input and output conditions\n",
    "# parameters: 2.55\t7.583\t34.5681\t3.7887\t1200.0\t106.42\t3.26\n",
    "\n",
    "kwargs = dict(\n",
    "    par1_type = 1,  # The first parameter supplied is of type \"1\", which means \"alkalinity\"\n",
    "    par1 = 2550,  # value of the first parameter\n",
    "    par2_type = 3,  # The second parameter supplied is of type \"3\", which means \"pH\"\n",
    "    par2 = 7.583,  # value of the second parameter\n",
    "    salinity = 34.5681,  # Salinity of the sample\n",
    "    temperature = 3.7887,  # Temperature at input conditions\n",
    "    temperature_out = 3.7887,  # Temperature at output conditions\n",
    "    pressure = 1200,  # Pressure    at input conditions\n",
    "    pressure_out = 1200,  # Pressure    at output conditions\n",
    "    total_silicate = 106.42,  # Concentration of silicate  in the sample (in umol/kg)\n",
    "    total_phosphate = 3.26,  # Concentration of phosphate in the sample (in umol/kg)\n",
    "    opt_pH_scale = 1,  # pH scale at which the input pH is reported (\"1\" means \"Total Scale\")\n",
    "    opt_k_carbonic = 4,  # Choice of H2CO3 and HCO3- dissociation constants K1 and K2 (\"4\" means \"Mehrbach refit\")\n",
    "    opt_k_bisulfate = 1,  # Choice of HSO4- dissociation constant KSO4 (\"1\" means \"Dickson\")\n",
    "    opt_total_borate = 1,  # Choice of boron:sal (\"1\" means \"Uppstrom\")\n",
    ")\n",
    "print('Conditions have been defined!')"
   ]
  },
  {
   "cell_type": "code",
   "execution_count": 2,
   "metadata": {},
   "outputs": [
    {
     "name": "stdout",
     "output_type": "stream",
     "text": [
      "The in situ HCO3 : 2426.62\n",
      "The in situ CO3 : 47.74\n",
      "The in situ CO2 : 64.83\n",
      "Total DIC : 2.54\n"
     ]
    }
   ],
   "source": [
    "# 1200\n",
    "# Import PyCO2SYS\n",
    "import PyCO2SYS as pyco2\n",
    "\n",
    "# Run PyCO2SYS\n",
    "results = pyco2.sys(**kwargs)\n",
    "\n",
    "# Extract and print out the output bicarbonate (μmol·kg−1)\n",
    "bicarb_out = results['bicarbonate_out']\n",
    "print('The in situ HCO3 : {:.2f}'.format(bicarb_out))\n",
    "\n",
    "# Extract and print out the output carbonate (μmol·kg−1)\n",
    "carb_out = results['carbonate_out']\n",
    "print('The in situ CO3 : {:.2f}'.format(carb_out))\n",
    "\n",
    "# Extract and print out the output carbonate (μmol·kg−1)\n",
    "co2_out = results['aqueous_CO2_out']\n",
    "print('The in situ CO2 : {:.2f}'.format(co2_out))\n",
    "\n",
    "# 'Total' DIC in mmol kg-1\n",
    "DIC = (bicarb_out + carb_out + co2_out)/1000\n",
    "print('Total DIC : {:.2f}'.format(DIC))"
   ]
  },
  {
   "cell_type": "markdown",
   "metadata": {},
   "source": [
    "### 150 m"
   ]
  },
  {
   "cell_type": "code",
   "execution_count": 1,
   "metadata": {},
   "outputs": [
    {
     "name": "stdout",
     "output_type": "stream",
     "text": [
      "Conditions have been defined!\n"
     ]
    }
   ],
   "source": [
    "# 1200 m: Define input and output conditions\n",
    "# parameters: 2.55\t7.583\t34.5681\t3.7887\t1200.0\t106.42\t3.26\n",
    "\n",
    "kwargs = dict(\n",
    "    par1_type = 1,  # The first parameter supplied is of type \"1\", which means \"alkalinity\"\n",
    "    par1 = 2550,  # value of the first parameter\n",
    "    par2_type = 3,  # The second parameter supplied is of type \"3\", which means \"pH\"\n",
    "    par2 = 7.583,  # value of the second parameter\n",
    "    salinity = 34.5681,  # Salinity of the sample\n",
    "    temperature = 3.7887,  # Temperature at input conditions\n",
    "    temperature_out = 3.7887,  # Temperature at output conditions\n",
    "    pressure = 1200,  # Pressure    at input conditions\n",
    "    pressure_out = 1200,  # Pressure    at output conditions\n",
    "    total_silicate = 106.42,  # Concentration of silicate  in the sample (in umol/kg)\n",
    "    total_phosphate = 3.26,  # Concentration of phosphate in the sample (in umol/kg)\n",
    "    opt_pH_scale = 1,  # pH scale at which the input pH is reported (\"1\" means \"Total Scale\")\n",
    "    opt_k_carbonic = 4,  # Choice of H2CO3 and HCO3- dissociation constants K1 and K2 (\"4\" means \"Mehrbach refit\")\n",
    "    opt_k_bisulfate = 1,  # Choice of HSO4- dissociation constant KSO4 (\"1\" means \"Dickson\")\n",
    "    opt_total_borate = 1,  # Choice of boron:sal (\"1\" means \"Uppstrom\")\n",
    ")\n",
    "print('Conditions have been defined!')"
   ]
  },
  {
   "cell_type": "code",
   "execution_count": 2,
   "metadata": {},
   "outputs": [
    {
     "name": "stdout",
     "output_type": "stream",
     "text": [
      "The in situ HCO3 : 2426.62\n",
      "The in situ CO3 : 47.74\n",
      "The in situ CO2 : 64.83\n",
      "Total DIC : 2.54\n"
     ]
    }
   ],
   "source": [
    "# 1200\n",
    "# Import PyCO2SYS\n",
    "import PyCO2SYS as pyco2\n",
    "\n",
    "# Run PyCO2SYS\n",
    "results = pyco2.sys(**kwargs)\n",
    "\n",
    "# Extract and print out the output bicarbonate (μmol·kg−1)\n",
    "bicarb_out = results['bicarbonate_out']\n",
    "print('The in situ HCO3 : {:.2f}'.format(bicarb_out))\n",
    "\n",
    "# Extract and print out the output carbonate (μmol·kg−1)\n",
    "carb_out = results['carbonate_out']\n",
    "print('The in situ CO3 : {:.2f}'.format(carb_out))\n",
    "\n",
    "# Extract and print out the output carbonate (μmol·kg−1)\n",
    "co2_out = results['aqueous_CO2_out']\n",
    "print('The in situ CO2 : {:.2f}'.format(co2_out))\n",
    "\n",
    "# 'Total' DIC in mmol kg-1\n",
    "DIC = (bicarb_out + carb_out + co2_out)/1000\n",
    "print('Total DIC : {:.2f}'.format(DIC))"
   ]
  },
  {
   "cell_type": "markdown",
   "metadata": {},
   "source": [
    "### 100 m"
   ]
  },
  {
   "cell_type": "code",
   "execution_count": 1,
   "metadata": {},
   "outputs": [
    {
     "name": "stdout",
     "output_type": "stream",
     "text": [
      "Conditions have been defined!\n"
     ]
    }
   ],
   "source": [
    "# 1200 m: Define input and output conditions\n",
    "# parameters: 2.55\t7.583\t34.5681\t3.7887\t1200.0\t106.42\t3.26\n",
    "\n",
    "kwargs = dict(\n",
    "    par1_type = 1,  # The first parameter supplied is of type \"1\", which means \"alkalinity\"\n",
    "    par1 = 2550,  # value of the first parameter\n",
    "    par2_type = 3,  # The second parameter supplied is of type \"3\", which means \"pH\"\n",
    "    par2 = 7.583,  # value of the second parameter\n",
    "    salinity = 34.5681,  # Salinity of the sample\n",
    "    temperature = 3.7887,  # Temperature at input conditions\n",
    "    temperature_out = 3.7887,  # Temperature at output conditions\n",
    "    pressure = 1200,  # Pressure    at input conditions\n",
    "    pressure_out = 1200,  # Pressure    at output conditions\n",
    "    total_silicate = 106.42,  # Concentration of silicate  in the sample (in umol/kg)\n",
    "    total_phosphate = 3.26,  # Concentration of phosphate in the sample (in umol/kg)\n",
    "    opt_pH_scale = 1,  # pH scale at which the input pH is reported (\"1\" means \"Total Scale\")\n",
    "    opt_k_carbonic = 4,  # Choice of H2CO3 and HCO3- dissociation constants K1 and K2 (\"4\" means \"Mehrbach refit\")\n",
    "    opt_k_bisulfate = 1,  # Choice of HSO4- dissociation constant KSO4 (\"1\" means \"Dickson\")\n",
    "    opt_total_borate = 1,  # Choice of boron:sal (\"1\" means \"Uppstrom\")\n",
    ")\n",
    "print('Conditions have been defined!')"
   ]
  },
  {
   "cell_type": "code",
   "execution_count": 2,
   "metadata": {},
   "outputs": [
    {
     "name": "stdout",
     "output_type": "stream",
     "text": [
      "The in situ HCO3 : 2426.62\n",
      "The in situ CO3 : 47.74\n",
      "The in situ CO2 : 64.83\n",
      "Total DIC : 2.54\n"
     ]
    }
   ],
   "source": [
    "# 1200\n",
    "# Import PyCO2SYS\n",
    "import PyCO2SYS as pyco2\n",
    "\n",
    "# Run PyCO2SYS\n",
    "results = pyco2.sys(**kwargs)\n",
    "\n",
    "# Extract and print out the output bicarbonate (μmol·kg−1)\n",
    "bicarb_out = results['bicarbonate_out']\n",
    "print('The in situ HCO3 : {:.2f}'.format(bicarb_out))\n",
    "\n",
    "# Extract and print out the output carbonate (μmol·kg−1)\n",
    "carb_out = results['carbonate_out']\n",
    "print('The in situ CO3 : {:.2f}'.format(carb_out))\n",
    "\n",
    "# Extract and print out the output carbonate (μmol·kg−1)\n",
    "co2_out = results['aqueous_CO2_out']\n",
    "print('The in situ CO2 : {:.2f}'.format(co2_out))\n",
    "\n",
    "# 'Total' DIC in mmol kg-1\n",
    "DIC = (bicarb_out + carb_out + co2_out)/1000\n",
    "print('Total DIC : {:.2f}'.format(DIC))"
   ]
  },
  {
   "cell_type": "markdown",
   "metadata": {},
   "source": [
    "### 80 m"
   ]
  },
  {
   "cell_type": "code",
   "execution_count": 1,
   "metadata": {},
   "outputs": [
    {
     "name": "stdout",
     "output_type": "stream",
     "text": [
      "Conditions have been defined!\n"
     ]
    }
   ],
   "source": [
    "# 1200 m: Define input and output conditions\n",
    "# parameters: 2.55\t7.583\t34.5681\t3.7887\t1200.0\t106.42\t3.26\n",
    "\n",
    "kwargs = dict(\n",
    "    par1_type = 1,  # The first parameter supplied is of type \"1\", which means \"alkalinity\"\n",
    "    par1 = 2550,  # value of the first parameter\n",
    "    par2_type = 3,  # The second parameter supplied is of type \"3\", which means \"pH\"\n",
    "    par2 = 7.583,  # value of the second parameter\n",
    "    salinity = 34.5681,  # Salinity of the sample\n",
    "    temperature = 3.7887,  # Temperature at input conditions\n",
    "    temperature_out = 3.7887,  # Temperature at output conditions\n",
    "    pressure = 1200,  # Pressure    at input conditions\n",
    "    pressure_out = 1200,  # Pressure    at output conditions\n",
    "    total_silicate = 106.42,  # Concentration of silicate  in the sample (in umol/kg)\n",
    "    total_phosphate = 3.26,  # Concentration of phosphate in the sample (in umol/kg)\n",
    "    opt_pH_scale = 1,  # pH scale at which the input pH is reported (\"1\" means \"Total Scale\")\n",
    "    opt_k_carbonic = 4,  # Choice of H2CO3 and HCO3- dissociation constants K1 and K2 (\"4\" means \"Mehrbach refit\")\n",
    "    opt_k_bisulfate = 1,  # Choice of HSO4- dissociation constant KSO4 (\"1\" means \"Dickson\")\n",
    "    opt_total_borate = 1,  # Choice of boron:sal (\"1\" means \"Uppstrom\")\n",
    ")\n",
    "print('Conditions have been defined!')"
   ]
  },
  {
   "cell_type": "code",
   "execution_count": 2,
   "metadata": {},
   "outputs": [
    {
     "name": "stdout",
     "output_type": "stream",
     "text": [
      "The in situ HCO3 : 2426.62\n",
      "The in situ CO3 : 47.74\n",
      "The in situ CO2 : 64.83\n",
      "Total DIC : 2.54\n"
     ]
    }
   ],
   "source": [
    "# 1200\n",
    "# Import PyCO2SYS\n",
    "import PyCO2SYS as pyco2\n",
    "\n",
    "# Run PyCO2SYS\n",
    "results = pyco2.sys(**kwargs)\n",
    "\n",
    "# Extract and print out the output bicarbonate (μmol·kg−1)\n",
    "bicarb_out = results['bicarbonate_out']\n",
    "print('The in situ HCO3 : {:.2f}'.format(bicarb_out))\n",
    "\n",
    "# Extract and print out the output carbonate (μmol·kg−1)\n",
    "carb_out = results['carbonate_out']\n",
    "print('The in situ CO3 : {:.2f}'.format(carb_out))\n",
    "\n",
    "# Extract and print out the output carbonate (μmol·kg−1)\n",
    "co2_out = results['aqueous_CO2_out']\n",
    "print('The in situ CO2 : {:.2f}'.format(co2_out))\n",
    "\n",
    "# 'Total' DIC in mmol kg-1\n",
    "DIC = (bicarb_out + carb_out + co2_out)/1000\n",
    "print('Total DIC : {:.2f}'.format(DIC))"
   ]
  },
  {
   "cell_type": "markdown",
   "metadata": {},
   "source": [
    "### 50 m"
   ]
  },
  {
   "cell_type": "code",
   "execution_count": 1,
   "metadata": {},
   "outputs": [
    {
     "name": "stdout",
     "output_type": "stream",
     "text": [
      "Conditions have been defined!\n"
     ]
    }
   ],
   "source": [
    "# 1200 m: Define input and output conditions\n",
    "# parameters: 2.55\t7.583\t34.5681\t3.7887\t1200.0\t106.42\t3.26\n",
    "\n",
    "kwargs = dict(\n",
    "    par1_type = 1,  # The first parameter supplied is of type \"1\", which means \"alkalinity\"\n",
    "    par1 = 2550,  # value of the first parameter\n",
    "    par2_type = 3,  # The second parameter supplied is of type \"3\", which means \"pH\"\n",
    "    par2 = 7.583,  # value of the second parameter\n",
    "    salinity = 34.5681,  # Salinity of the sample\n",
    "    temperature = 3.7887,  # Temperature at input conditions\n",
    "    temperature_out = 3.7887,  # Temperature at output conditions\n",
    "    pressure = 1200,  # Pressure    at input conditions\n",
    "    pressure_out = 1200,  # Pressure    at output conditions\n",
    "    total_silicate = 106.42,  # Concentration of silicate  in the sample (in umol/kg)\n",
    "    total_phosphate = 3.26,  # Concentration of phosphate in the sample (in umol/kg)\n",
    "    opt_pH_scale = 1,  # pH scale at which the input pH is reported (\"1\" means \"Total Scale\")\n",
    "    opt_k_carbonic = 4,  # Choice of H2CO3 and HCO3- dissociation constants K1 and K2 (\"4\" means \"Mehrbach refit\")\n",
    "    opt_k_bisulfate = 1,  # Choice of HSO4- dissociation constant KSO4 (\"1\" means \"Dickson\")\n",
    "    opt_total_borate = 1,  # Choice of boron:sal (\"1\" means \"Uppstrom\")\n",
    ")\n",
    "print('Conditions have been defined!')"
   ]
  },
  {
   "cell_type": "code",
   "execution_count": 2,
   "metadata": {},
   "outputs": [
    {
     "name": "stdout",
     "output_type": "stream",
     "text": [
      "The in situ HCO3 : 2426.62\n",
      "The in situ CO3 : 47.74\n",
      "The in situ CO2 : 64.83\n",
      "Total DIC : 2.54\n"
     ]
    }
   ],
   "source": [
    "# 1200\n",
    "# Import PyCO2SYS\n",
    "import PyCO2SYS as pyco2\n",
    "\n",
    "# Run PyCO2SYS\n",
    "results = pyco2.sys(**kwargs)\n",
    "\n",
    "# Extract and print out the output bicarbonate (μmol·kg−1)\n",
    "bicarb_out = results['bicarbonate_out']\n",
    "print('The in situ HCO3 : {:.2f}'.format(bicarb_out))\n",
    "\n",
    "# Extract and print out the output carbonate (μmol·kg−1)\n",
    "carb_out = results['carbonate_out']\n",
    "print('The in situ CO3 : {:.2f}'.format(carb_out))\n",
    "\n",
    "# Extract and print out the output carbonate (μmol·kg−1)\n",
    "co2_out = results['aqueous_CO2_out']\n",
    "print('The in situ CO2 : {:.2f}'.format(co2_out))\n",
    "\n",
    "# 'Total' DIC in mmol kg-1\n",
    "DIC = (bicarb_out + carb_out + co2_out)/1000\n",
    "print('Total DIC : {:.2f}'.format(DIC))"
   ]
  },
  {
   "cell_type": "markdown",
   "metadata": {},
   "source": [
    "### 2 m"
   ]
  },
  {
   "cell_type": "code",
   "execution_count": 1,
   "metadata": {},
   "outputs": [
    {
     "name": "stdout",
     "output_type": "stream",
     "text": [
      "Conditions have been defined!\n"
     ]
    }
   ],
   "source": [
    "# 1200 m: Define input and output conditions\n",
    "# parameters: 2.55\t7.583\t34.5681\t3.7887\t1200.0\t106.42\t3.26\n",
    "\n",
    "kwargs = dict(\n",
    "    par1_type = 1,  # The first parameter supplied is of type \"1\", which means \"alkalinity\"\n",
    "    par1 = 2550,  # value of the first parameter\n",
    "    par2_type = 3,  # The second parameter supplied is of type \"3\", which means \"pH\"\n",
    "    par2 = 7.583,  # value of the second parameter\n",
    "    salinity = 34.5681,  # Salinity of the sample\n",
    "    temperature = 3.7887,  # Temperature at input conditions\n",
    "    temperature_out = 3.7887,  # Temperature at output conditions\n",
    "    pressure = 1200,  # Pressure    at input conditions\n",
    "    pressure_out = 1200,  # Pressure    at output conditions\n",
    "    total_silicate = 106.42,  # Concentration of silicate  in the sample (in umol/kg)\n",
    "    total_phosphate = 3.26,  # Concentration of phosphate in the sample (in umol/kg)\n",
    "    opt_pH_scale = 1,  # pH scale at which the input pH is reported (\"1\" means \"Total Scale\")\n",
    "    opt_k_carbonic = 4,  # Choice of H2CO3 and HCO3- dissociation constants K1 and K2 (\"4\" means \"Mehrbach refit\")\n",
    "    opt_k_bisulfate = 1,  # Choice of HSO4- dissociation constant KSO4 (\"1\" means \"Dickson\")\n",
    "    opt_total_borate = 1,  # Choice of boron:sal (\"1\" means \"Uppstrom\")\n",
    ")\n",
    "print('Conditions have been defined!')"
   ]
  },
  {
   "cell_type": "code",
   "execution_count": 2,
   "metadata": {},
   "outputs": [
    {
     "name": "stdout",
     "output_type": "stream",
     "text": [
      "The in situ HCO3 : 2426.62\n",
      "The in situ CO3 : 47.74\n",
      "The in situ CO2 : 64.83\n",
      "Total DIC : 2.54\n"
     ]
    }
   ],
   "source": [
    "# 1200\n",
    "# Import PyCO2SYS\n",
    "import PyCO2SYS as pyco2\n",
    "\n",
    "# Run PyCO2SYS\n",
    "results = pyco2.sys(**kwargs)\n",
    "\n",
    "# Extract and print out the output bicarbonate (μmol·kg−1)\n",
    "bicarb_out = results['bicarbonate_out']\n",
    "print('The in situ HCO3 : {:.2f}'.format(bicarb_out))\n",
    "\n",
    "# Extract and print out the output carbonate (μmol·kg−1)\n",
    "carb_out = results['carbonate_out']\n",
    "print('The in situ CO3 : {:.2f}'.format(carb_out))\n",
    "\n",
    "# Extract and print out the output carbonate (μmol·kg−1)\n",
    "co2_out = results['aqueous_CO2_out']\n",
    "print('The in situ CO2 : {:.2f}'.format(co2_out))\n",
    "\n",
    "# 'Total' DIC in mmol kg-1\n",
    "DIC = (bicarb_out + carb_out + co2_out)/1000\n",
    "print('Total DIC : {:.2f}'.format(DIC))"
   ]
  }
 ],
 "metadata": {
  "kernelspec": {
   "display_name": "Python 3",
   "language": "python",
   "name": "python3"
  },
  "language_info": {
   "codemirror_mode": {
    "name": "ipython",
    "version": 3
   },
   "file_extension": ".py",
   "mimetype": "text/x-python",
   "name": "python",
   "nbconvert_exporter": "python",
   "pygments_lexer": "ipython3",
   "version": "3.8.3"
  }
 },
 "nbformat": 4,
 "nbformat_minor": 4
}
