{
 "cells": [
  {
   "cell_type": "markdown",
   "metadata": {},
   "source": [
    "## Calculating DIC in incubations CTD Niskins for T0 conditions\n",
    "\n",
    "### We only have CTD alkalinities from the first leg of the cruise, March 28-April 2, 2018 - where we did a western ODZ transect. The transect stations 5 and 15 correspond roughly to trapping stations P1 and P2, respectively. \n",
    "\n",
    "### All parameters needed to calculate DIC contained in a spreadsheet called alk_calk.xlsx in this git repo under `data/flux/rates/`\n",
    "\n",
    "### Depths are, in meters:\n",
    "\n",
    "- 1200\n",
    "- 1000\n",
    "- 800\n",
    "- 600\n",
    "- 400\n",
    "- 300\n",
    "- 200\n",
    "- 150\n",
    "- 100\n",
    "- 80\n",
    "- 50\n",
    "- 2 (surface)\n",
    "\n",
    "### Using PyCO2SYS, based on CO2SYSExample2.m for MATLAB by Steven van Heuven.\n",
    "\n",
    "### Documentation [here](https://pyco2sys.readthedocs.io/en/latest/co2sys_nd/)"
   ]
  },
  {
   "cell_type": "markdown",
   "metadata": {},
   "source": [
    "### 1200 m"
   ]
  },
  {
   "cell_type": "code",
   "execution_count": 1,
   "metadata": {},
   "outputs": [
    {
     "name": "stdout",
     "output_type": "stream",
     "text": [
      "Conditions have been defined!\n"
     ]
    }
   ],
   "source": [
    "# 1200 m: Define input and output conditions\n",
    "# parameters: 2.55\t7.583\t34.5681\t3.7887\t1200.0\t106.42\t3.26\n",
    "\n",
    "kwargs = dict(\n",
    "    par1_type = 1,  # The first parameter supplied is of type \"1\", which means \"alkalinity\"\n",
    "    par1 = 2550,  # value of the first parameter\n",
    "    par2_type = 3,  # The second parameter supplied is of type \"3\", which means \"pH\"\n",
    "    par2 = 7.583,  # value of the second parameter\n",
    "    salinity = 34.5681,  # Salinity of the sample\n",
    "    temperature = 3.7887,  # Temperature at input conditions\n",
    "    temperature_out = 3.7887,  # Temperature at output conditions\n",
    "    pressure = 1200,  # Pressure    at input conditions\n",
    "    pressure_out = 1200,  # Pressure    at output conditions\n",
    "    total_silicate = 106.42,  # Concentration of silicate  in the sample (in umol/kg)\n",
    "    total_phosphate = 3.26,  # Concentration of phosphate in the sample (in umol/kg)\n",
    "    opt_pH_scale = 1,  # pH scale at which the input pH is reported (\"1\" means \"Total Scale\")\n",
    "    opt_k_carbonic = 4,  # Choice of H2CO3 and HCO3- dissociation constants K1 and K2 (\"4\" means \"Mehrbach refit\")\n",
    "    opt_k_bisulfate = 1,  # Choice of HSO4- dissociation constant KSO4 (\"1\" means \"Dickson\")\n",
    "    opt_total_borate = 1,  # Choice of boron:sal (\"1\" means \"Uppstrom\")\n",
    ")\n",
    "print('Conditions have been defined!')"
   ]
  },
  {
   "cell_type": "code",
   "execution_count": 2,
   "metadata": {
    "scrolled": true
   },
   "outputs": [
    {
     "name": "stdout",
     "output_type": "stream",
     "text": [
      "The in situ HCO3 : 2426.62\n",
      "The in situ CO3 : 47.74\n",
      "The in situ CO2 : 64.83\n",
      "Total DIC : 2.54\n"
     ]
    }
   ],
   "source": [
    "# 1200\n",
    "# Import PyCO2SYS\n",
    "import PyCO2SYS as pyco2\n",
    "\n",
    "# Run PyCO2SYS\n",
    "results = pyco2.sys(**kwargs)\n",
    "\n",
    "# Extract and print out the output bicarbonate (μmol·kg−1)\n",
    "bicarb_out = results['bicarbonate_out']\n",
    "print('The in situ HCO3 : {:.2f}'.format(bicarb_out))\n",
    "\n",
    "# Extract and print out the output carbonate (μmol·kg−1)\n",
    "carb_out = results['carbonate_out']\n",
    "print('The in situ CO3 : {:.2f}'.format(carb_out))\n",
    "\n",
    "# Extract and print out the output carbonate (μmol·kg−1)\n",
    "co2_out = results['aqueous_CO2_out']\n",
    "print('The in situ CO2 : {:.2f}'.format(co2_out))\n",
    "\n",
    "# 'Total' DIC in mmol kg-1\n",
    "DIC = (bicarb_out + carb_out + co2_out)/1000\n",
    "print('Total DIC : {:.2f}'.format(DIC))"
   ]
  },
  {
   "cell_type": "markdown",
   "metadata": {},
   "source": [
    "### 1000 m"
   ]
  },
  {
   "cell_type": "code",
   "execution_count": 5,
   "metadata": {},
   "outputs": [
    {
     "name": "stdout",
     "output_type": "stream",
     "text": [
      "Conditions have been defined!\n"
     ]
    }
   ],
   "source": [
    "# 1000 m: Define input and output conditions\n",
    "# parameters: 2.551\t7.549\t34.5519\t4.4433\t1000.0\t94.87\t3.35\n",
    "\n",
    "kwargs = dict(\n",
    "    par1_type = 1,  # The first parameter supplied is of type \"1\", which means \"alkalinity\"\n",
    "    par1 = 2551,  # value of the first parameter\n",
    "    par2_type = 3,  # The second parameter supplied is of type \"3\", which means \"pH\"\n",
    "    par2 = 7.549,  # value of the second parameter\n",
    "    salinity = 34.5519,  # Salinity of the sample\n",
    "    temperature = 4.4433,  # Temperature at input conditions\n",
    "    temperature_out = 4.4433,  # Temperature at output conditions\n",
    "    pressure = 1000.0,  # Pressure    at input conditions\n",
    "    pressure_out = 1000.0,  # Pressure    at output conditions\n",
    "    total_silicate = 94.87,  # Concentration of silicate  in the sample (in umol/kg)\n",
    "    total_phosphate = 3.35,  # Concentration of phosphate in the sample (in umol/kg)\n",
    "    opt_pH_scale = 1,  # pH scale at which the input pH is reported (\"1\" means \"Total Scale\")\n",
    "    opt_k_carbonic = 4,  # Choice of H2CO3 and HCO3- dissociation constants K1 and K2 (\"4\" means \"Mehrbach refit\")\n",
    "    opt_k_bisulfate = 1,  # Choice of HSO4- dissociation constant KSO4 (\"1\" means \"Dickson\")\n",
    "    opt_total_borate = 1,  # Choice of boron:sal (\"1\" means \"Uppstrom\")\n",
    ")\n",
    "print('Conditions have been defined!')"
   ]
  },
  {
   "cell_type": "code",
   "execution_count": 6,
   "metadata": {
    "scrolled": true
   },
   "outputs": [
    {
     "name": "stdout",
     "output_type": "stream",
     "text": [
      "The in situ HCO3 : 2435.24\n",
      "The in situ CO3 : 44.87\n",
      "The in situ CO2 : 70.63\n",
      "Total DIC : 2.55\n"
     ]
    }
   ],
   "source": [
    "# 1000\n",
    "# Import PyCO2SYS\n",
    "import PyCO2SYS as pyco2\n",
    "\n",
    "# Run PyCO2SYS\n",
    "results = pyco2.sys(**kwargs)\n",
    "\n",
    "# Extract and print out the output bicarbonate (μmol·kg−1)\n",
    "bicarb_out = results['bicarbonate_out']\n",
    "print('The in situ HCO3 : {:.2f}'.format(bicarb_out))\n",
    "\n",
    "# Extract and print out the output carbonate (μmol·kg−1)\n",
    "carb_out = results['carbonate_out']\n",
    "print('The in situ CO3 : {:.2f}'.format(carb_out))\n",
    "\n",
    "# Extract and print out the output carbonate (μmol·kg−1)\n",
    "co2_out = results['aqueous_CO2_out']\n",
    "print('The in situ CO2 : {:.2f}'.format(co2_out))\n",
    "\n",
    "# 'Total' DIC in mmol kg-1\n",
    "DIC = (bicarb_out + carb_out + co2_out)/1000\n",
    "print('Total DIC : {:.2f}'.format(DIC))"
   ]
  },
  {
   "cell_type": "markdown",
   "metadata": {},
   "source": [
    "### 800 m"
   ]
  },
  {
   "cell_type": "code",
   "execution_count": 7,
   "metadata": {},
   "outputs": [
    {
     "name": "stdout",
     "output_type": "stream",
     "text": [
      "Conditions have been defined!\n"
     ]
    }
   ],
   "source": [
    "# 800 m: Define input and output conditions\n",
    "# parameters: 800\t2.522\t7.528\t34.5347\t5.5336\t800.0\t79.79\t3.34\n",
    "\n",
    "kwargs = dict(\n",
    "    par1_type = 1,  # The first parameter supplied is of type \"1\", which means \"alkalinity\"\n",
    "    par1 = 2522,  # value of the first parameter\n",
    "    par2_type = 3,  # The second parameter supplied is of type \"3\", which means \"pH\"\n",
    "    par2 = 7.528,  # value of the second parameter\n",
    "    salinity = 34.5347,  # Salinity of the sample\n",
    "    temperature = 5.5336,  # Temperature at input conditions\n",
    "    temperature_out = 5.5336,  # Temperature at output conditions\n",
    "    pressure = 800.0,  # Pressure    at input conditions\n",
    "    pressure_out = 800.0,  # Pressure    at output conditions\n",
    "    total_silicate = 79.79,  # Concentration of silicate  in the sample (in umol/kg)\n",
    "    total_phosphate = 3.34,  # Concentration of phosphate in the sample (in umol/kg)\n",
    "    opt_pH_scale = 1,  # pH scale at which the input pH is reported (\"1\" means \"Total Scale\")\n",
    "    opt_k_carbonic = 4,  # Choice of H2CO3 and HCO3- dissociation constants K1 and K2 (\"4\" means \"Mehrbach refit\")\n",
    "    opt_k_bisulfate = 1,  # Choice of HSO4- dissociation constant KSO4 (\"1\" means \"Dickson\")\n",
    "    opt_total_borate = 1,  # Choice of boron:sal (\"1\" means \"Uppstrom\")\n",
    ")\n",
    "print('Conditions have been defined!')"
   ]
  },
  {
   "cell_type": "code",
   "execution_count": 8,
   "metadata": {},
   "outputs": [
    {
     "name": "stdout",
     "output_type": "stream",
     "text": [
      "The in situ HCO3 : 2409.70\n",
      "The in situ CO3 : 43.61\n",
      "The in situ CO2 : 72.77\n",
      "Total DIC : 2.53\n"
     ]
    }
   ],
   "source": [
    "# 800\n",
    "# Import PyCO2SYS\n",
    "import PyCO2SYS as pyco2\n",
    "\n",
    "# Run PyCO2SYS\n",
    "results = pyco2.sys(**kwargs)\n",
    "\n",
    "# Extract and print out the output bicarbonate (μmol·kg−1)\n",
    "bicarb_out = results['bicarbonate_out']\n",
    "print('The in situ HCO3 : {:.2f}'.format(bicarb_out))\n",
    "\n",
    "# Extract and print out the output carbonate (μmol·kg−1)\n",
    "carb_out = results['carbonate_out']\n",
    "print('The in situ CO3 : {:.2f}'.format(carb_out))\n",
    "\n",
    "# Extract and print out the output carbonate (μmol·kg−1)\n",
    "co2_out = results['aqueous_CO2_out']\n",
    "print('The in situ CO2 : {:.2f}'.format(co2_out))\n",
    "\n",
    "# 'Total' DIC in mmol kg-1\n",
    "DIC = (bicarb_out + carb_out + co2_out)/1000\n",
    "print('Total DIC : {:.2f}'.format(DIC))"
   ]
  },
  {
   "cell_type": "markdown",
   "metadata": {},
   "source": [
    "### 600 m"
   ]
  },
  {
   "cell_type": "code",
   "execution_count": 9,
   "metadata": {},
   "outputs": [
    {
     "name": "stdout",
     "output_type": "stream",
     "text": [
      "Conditions have been defined!\n"
     ]
    }
   ],
   "source": [
    "# 600 m: Define input and output conditions\n",
    "# parameters: 600\t2.483\t7.544\t34.5366\t6.7595\t600.0\t61.89\t3.23\n",
    "\n",
    "kwargs = dict(\n",
    "    par1_type = 1,  # The first parameter supplied is of type \"1\", which means \"alkalinity\"\n",
    "    par1 = 2483,  # value of the first parameter\n",
    "    par2_type = 3,  # The second parameter supplied is of type \"3\", which means \"pH\"\n",
    "    par2 = 7.544,  # value of the second parameter\n",
    "    salinity = 34.5366,  # Salinity of the sample\n",
    "    temperature = 6.7595,  # Temperature at input conditions\n",
    "    temperature_out = 6.7595,  # Temperature at output conditions\n",
    "    pressure = 600,  # Pressure    at input conditions\n",
    "    pressure_out = 600,  # Pressure    at output conditions\n",
    "    total_silicate = 61.89,  # Concentration of silicate  in the sample (in umol/kg)\n",
    "    total_phosphate = 3.23,  # Concentration of phosphate in the sample (in umol/kg)\n",
    "    opt_pH_scale = 1,  # pH scale at which the input pH is reported (\"1\" means \"Total Scale\")\n",
    "    opt_k_carbonic = 4,  # Choice of H2CO3 and HCO3- dissociation constants K1 and K2 (\"4\" means \"Mehrbach refit\")\n",
    "    opt_k_bisulfate = 1,  # Choice of HSO4- dissociation constant KSO4 (\"1\" means \"Dickson\")\n",
    "    opt_total_borate = 1,  # Choice of boron:sal (\"1\" means \"Uppstrom\")\n",
    ")\n",
    "print('Conditions have been defined!')"
   ]
  },
  {
   "cell_type": "code",
   "execution_count": 10,
   "metadata": {},
   "outputs": [
    {
     "name": "stdout",
     "output_type": "stream",
     "text": [
      "The in situ HCO3 : 2364.98\n",
      "The in situ CO3 : 46.05\n",
      "The in situ CO2 : 68.05\n",
      "Total DIC : 2.48\n"
     ]
    }
   ],
   "source": [
    "# 600\n",
    "# Import PyCO2SYS\n",
    "import PyCO2SYS as pyco2\n",
    "\n",
    "# Run PyCO2SYS\n",
    "results = pyco2.sys(**kwargs)\n",
    "\n",
    "# Extract and print out the output bicarbonate (μmol·kg−1)\n",
    "bicarb_out = results['bicarbonate_out']\n",
    "print('The in situ HCO3 : {:.2f}'.format(bicarb_out))\n",
    "\n",
    "# Extract and print out the output carbonate (μmol·kg−1)\n",
    "carb_out = results['carbonate_out']\n",
    "print('The in situ CO3 : {:.2f}'.format(carb_out))\n",
    "\n",
    "# Extract and print out the output carbonate (μmol·kg−1)\n",
    "co2_out = results['aqueous_CO2_out']\n",
    "print('The in situ CO2 : {:.2f}'.format(co2_out))\n",
    "\n",
    "# 'Total' DIC in mmol kg-1\n",
    "DIC = (bicarb_out + carb_out + co2_out)/1000\n",
    "print('Total DIC : {:.2f}'.format(DIC))"
   ]
  },
  {
   "cell_type": "markdown",
   "metadata": {},
   "source": [
    "### 400 m"
   ]
  },
  {
   "cell_type": "code",
   "execution_count": 11,
   "metadata": {},
   "outputs": [
    {
     "name": "stdout",
     "output_type": "stream",
     "text": [
      "Conditions have been defined!\n"
     ]
    }
   ],
   "source": [
    "# 400 m: Define input and output conditions\n",
    "# parameters: 2.542\t7.566\t34.6034\t9.1773\t400.0\t43.41\t2.92\n",
    "\n",
    "kwargs = dict(\n",
    "    par1_type = 1,  # The first parameter supplied is of type \"1\", which means \"alkalinity\"\n",
    "    par1 = 2542,  # value of the first parameter\n",
    "    par2_type = 3,  # The second parameter supplied is of type \"3\", which means \"pH\"\n",
    "    par2 = 7.566,  # value of the second parameter\n",
    "    salinity = 34.6034,  # Salinity of the sample\n",
    "    temperature = 9.1773,  # Temperature at input conditions\n",
    "    temperature_out = 9.1773,  # Temperature at output conditions\n",
    "    pressure = 400,  # Pressure    at input conditions\n",
    "    pressure_out = 400,  # Pressure    at output conditions\n",
    "    total_silicate = 43.41,  # Concentration of silicate  in the sample (in umol/kg)\n",
    "    total_phosphate = 2.92,  # Concentration of phosphate in the sample (in umol/kg)\n",
    "    opt_pH_scale = 1,  # pH scale at which the input pH is reported (\"1\" means \"Total Scale\")\n",
    "    opt_k_carbonic = 4,  # Choice of H2CO3 and HCO3- dissociation constants K1 and K2 (\"4\" means \"Mehrbach refit\")\n",
    "    opt_k_bisulfate = 1,  # Choice of HSO4- dissociation constant KSO4 (\"1\" means \"Dickson\")\n",
    "    opt_total_borate = 1,  # Choice of boron:sal (\"1\" means \"Uppstrom\")\n",
    ")\n",
    "print('Conditions have been defined!')"
   ]
  },
  {
   "cell_type": "code",
   "execution_count": 12,
   "metadata": {},
   "outputs": [
    {
     "name": "stdout",
     "output_type": "stream",
     "text": [
      "The in situ HCO3 : 2406.77\n",
      "The in situ CO3 : 53.68\n",
      "The in situ CO2 : 63.09\n",
      "Total DIC : 2.52\n"
     ]
    }
   ],
   "source": [
    "# 400\n",
    "# Import PyCO2SYS\n",
    "import PyCO2SYS as pyco2\n",
    "\n",
    "# Run PyCO2SYS\n",
    "results = pyco2.sys(**kwargs)\n",
    "\n",
    "# Extract and print out the output bicarbonate (μmol·kg−1)\n",
    "bicarb_out = results['bicarbonate_out']\n",
    "print('The in situ HCO3 : {:.2f}'.format(bicarb_out))\n",
    "\n",
    "# Extract and print out the output carbonate (μmol·kg−1)\n",
    "carb_out = results['carbonate_out']\n",
    "print('The in situ CO3 : {:.2f}'.format(carb_out))\n",
    "\n",
    "# Extract and print out the output carbonate (μmol·kg−1)\n",
    "co2_out = results['aqueous_CO2_out']\n",
    "print('The in situ CO2 : {:.2f}'.format(co2_out))\n",
    "\n",
    "# 'Total' DIC in mmol kg-1\n",
    "DIC = (bicarb_out + carb_out + co2_out)/1000\n",
    "print('Total DIC : {:.2f}'.format(DIC))"
   ]
  },
  {
   "cell_type": "markdown",
   "metadata": {},
   "source": [
    "### 300 m"
   ]
  },
  {
   "cell_type": "code",
   "execution_count": 13,
   "metadata": {},
   "outputs": [
    {
     "name": "stdout",
     "output_type": "stream",
     "text": [
      "Conditions have been defined!\n"
     ]
    }
   ],
   "source": [
    "# 300 m: Define input and output conditions\n",
    "# parameters: 2.522\t7.58\t34.6778\t10.5695\t300.0\t33.64\t2.75\n",
    "\n",
    "kwargs = dict(\n",
    "    par1_type = 1,  # The first parameter supplied is of type \"1\", which means \"alkalinity\"\n",
    "    par1 = 2522,  # value of the first parameter\n",
    "    par2_type = 3,  # The second parameter supplied is of type \"3\", which means \"pH\"\n",
    "    par2 = 7.58,  # value of the second parameter\n",
    "    salinity = 34.6778,  # Salinity of the sample\n",
    "    temperature = 10.5695,  # Temperature at input conditions\n",
    "    temperature_out = 10.5695,  # Temperature at output conditions\n",
    "    pressure = 300,  # Pressure    at input conditions\n",
    "    pressure_out = 300,  # Pressure    at output conditions\n",
    "    total_silicate = 33.64,  # Concentration of silicate  in the sample (in umol/kg)\n",
    "    total_phosphate = 2.75,  # Concentration of phosphate in the sample (in umol/kg)\n",
    "    opt_pH_scale = 1,  # pH scale at which the input pH is reported (\"1\" means \"Total Scale\")\n",
    "    opt_k_carbonic = 4,  # Choice of H2CO3 and HCO3- dissociation constants K1 and K2 (\"4\" means \"Mehrbach refit\")\n",
    "    opt_k_bisulfate = 1,  # Choice of HSO4- dissociation constant KSO4 (\"1\" means \"Dickson\")\n",
    "    opt_total_borate = 1,  # Choice of boron:sal (\"1\" means \"Uppstrom\")\n",
    ")\n",
    "print('Conditions have been defined!')"
   ]
  },
  {
   "cell_type": "code",
   "execution_count": 14,
   "metadata": {},
   "outputs": [
    {
     "name": "stdout",
     "output_type": "stream",
     "text": [
      "The in situ HCO3 : 2377.58\n",
      "The in situ CO3 : 57.59\n",
      "The in situ CO2 : 58.83\n",
      "Total DIC : 2.49\n"
     ]
    }
   ],
   "source": [
    "# 300\n",
    "# Import PyCO2SYS\n",
    "import PyCO2SYS as pyco2\n",
    "\n",
    "# Run PyCO2SYS\n",
    "results = pyco2.sys(**kwargs)\n",
    "\n",
    "# Extract and print out the output bicarbonate (μmol·kg−1)\n",
    "bicarb_out = results['bicarbonate_out']\n",
    "print('The in situ HCO3 : {:.2f}'.format(bicarb_out))\n",
    "\n",
    "# Extract and print out the output carbonate (μmol·kg−1)\n",
    "carb_out = results['carbonate_out']\n",
    "print('The in situ CO3 : {:.2f}'.format(carb_out))\n",
    "\n",
    "# Extract and print out the output carbonate (μmol·kg−1)\n",
    "co2_out = results['aqueous_CO2_out']\n",
    "print('The in situ CO2 : {:.2f}'.format(co2_out))\n",
    "\n",
    "# 'Total' DIC in mmol kg-1\n",
    "DIC = (bicarb_out + carb_out + co2_out)/1000\n",
    "print('Total DIC : {:.2f}'.format(DIC))"
   ]
  },
  {
   "cell_type": "markdown",
   "metadata": {},
   "source": [
    "### 200 m"
   ]
  },
  {
   "cell_type": "code",
   "execution_count": 15,
   "metadata": {},
   "outputs": [
    {
     "name": "stdout",
     "output_type": "stream",
     "text": [
      "Conditions have been defined!\n"
     ]
    }
   ],
   "source": [
    "# 200 m: Define input and output conditions\n",
    "# parameters: 2.486\t7.591\t34.7287\t11.6164\t200.0\t30.83\t2.69\n",
    "\n",
    "kwargs = dict(\n",
    "    par1_type = 1,  # The first parameter supplied is of type \"1\", which means \"alkalinity\"\n",
    "    par1 = 2486,  # value of the first parameter\n",
    "    par2_type = 3,  # The second parameter supplied is of type \"3\", which means \"pH\"\n",
    "    par2 = 7.591,  # value of the second parameter\n",
    "    salinity = 34.7287,  # Salinity of the sample\n",
    "    temperature = 11.6164,  # Temperature at input conditions\n",
    "    temperature_out = 11.6164,  # Temperature at output conditions\n",
    "    pressure = 200,  # Pressure    at input conditions\n",
    "    pressure_out = 200,  # Pressure    at output conditions\n",
    "    total_silicate = 30.83,  # Concentration of silicate  in the sample (in umol/kg)\n",
    "    total_phosphate = 2.69,  # Concentration of phosphate in the sample (in umol/kg)\n",
    "    opt_pH_scale = 1,  # pH scale at which the input pH is reported (\"1\" means \"Total Scale\")\n",
    "    opt_k_carbonic = 4,  # Choice of H2CO3 and HCO3- dissociation constants K1 and K2 (\"4\" means \"Mehrbach refit\")\n",
    "    opt_k_bisulfate = 1,  # Choice of HSO4- dissociation constant KSO4 (\"1\" means \"Dickson\")\n",
    "    opt_total_borate = 1,  # Choice of boron:sal (\"1\" means \"Uppstrom\")\n",
    ")\n",
    "print('Conditions have been defined!')"
   ]
  },
  {
   "cell_type": "code",
   "execution_count": 16,
   "metadata": {},
   "outputs": [
    {
     "name": "stdout",
     "output_type": "stream",
     "text": [
      "The in situ HCO3 : 2335.37\n",
      "The in situ CO3 : 60.12\n",
      "The in situ CO2 : 55.44\n",
      "Total DIC : 2.45\n"
     ]
    }
   ],
   "source": [
    "# 200\n",
    "# Import PyCO2SYS\n",
    "import PyCO2SYS as pyco2\n",
    "\n",
    "# Run PyCO2SYS\n",
    "results = pyco2.sys(**kwargs)\n",
    "\n",
    "# Extract and print out the output bicarbonate (μmol·kg−1)\n",
    "bicarb_out = results['bicarbonate_out']\n",
    "print('The in situ HCO3 : {:.2f}'.format(bicarb_out))\n",
    "\n",
    "# Extract and print out the output carbonate (μmol·kg−1)\n",
    "carb_out = results['carbonate_out']\n",
    "print('The in situ CO3 : {:.2f}'.format(carb_out))\n",
    "\n",
    "# Extract and print out the output carbonate (μmol·kg−1)\n",
    "co2_out = results['aqueous_CO2_out']\n",
    "print('The in situ CO2 : {:.2f}'.format(co2_out))\n",
    "\n",
    "# 'Total' DIC in mmol kg-1\n",
    "DIC = (bicarb_out + carb_out + co2_out)/1000\n",
    "print('Total DIC : {:.2f}'.format(DIC))"
   ]
  },
  {
   "cell_type": "markdown",
   "metadata": {},
   "source": [
    "### 150 m"
   ]
  },
  {
   "cell_type": "code",
   "execution_count": 17,
   "metadata": {},
   "outputs": [
    {
     "name": "stdout",
     "output_type": "stream",
     "text": [
      "Conditions have been defined!\n"
     ]
    }
   ],
   "source": [
    "# 150 m: Define input and output conditions\n",
    "# parameters: 2.489\t7.61\t34.7604\t12.5761\t150.0\t27.37\t2.61\n",
    "\n",
    "kwargs = dict(\n",
    "    par1_type = 1,  # The first parameter supplied is of type \"1\", which means \"alkalinity\"\n",
    "    par1 = 2489,  # value of the first parameter\n",
    "    par2_type = 3,  # The second parameter supplied is of type \"3\", which means \"pH\"\n",
    "    par2 = 7.61,  # value of the second parameter\n",
    "    salinity = 34.7604,  # Salinity of the sample\n",
    "    temperature = 12.5761,  # Temperature at input conditions\n",
    "    temperature_out = 12.5761,  # Temperature at output conditions\n",
    "    pressure = 150,  # Pressure    at input conditions\n",
    "    pressure_out = 150,  # Pressure    at output conditions\n",
    "    total_silicate = 27.37,  # Concentration of silicate  in the sample (in umol/kg)\n",
    "    total_phosphate = 2.61,  # Concentration of phosphate in the sample (in umol/kg)\n",
    "    opt_pH_scale = 1,  # pH scale at which the input pH is reported (\"1\" means \"Total Scale\")\n",
    "    opt_k_carbonic = 4,  # Choice of H2CO3 and HCO3- dissociation constants K1 and K2 (\"4\" means \"Mehrbach refit\")\n",
    "    opt_k_bisulfate = 1,  # Choice of HSO4- dissociation constant KSO4 (\"1\" means \"Dickson\")\n",
    "    opt_total_borate = 1,  # Choice of boron:sal (\"1\" means \"Uppstrom\")\n",
    ")\n",
    "print('Conditions have been defined!')"
   ]
  },
  {
   "cell_type": "code",
   "execution_count": 18,
   "metadata": {},
   "outputs": [
    {
     "name": "stdout",
     "output_type": "stream",
     "text": [
      "The in situ HCO3 : 2327.24\n",
      "The in situ CO3 : 64.82\n",
      "The in situ CO2 : 51.90\n",
      "Total DIC : 2.44\n"
     ]
    }
   ],
   "source": [
    "# 150\n",
    "# Import PyCO2SYS\n",
    "import PyCO2SYS as pyco2\n",
    "\n",
    "# Run PyCO2SYS\n",
    "results = pyco2.sys(**kwargs)\n",
    "\n",
    "# Extract and print out the output bicarbonate (μmol·kg−1)\n",
    "bicarb_out = results['bicarbonate_out']\n",
    "print('The in situ HCO3 : {:.2f}'.format(bicarb_out))\n",
    "\n",
    "# Extract and print out the output carbonate (μmol·kg−1)\n",
    "carb_out = results['carbonate_out']\n",
    "print('The in situ CO3 : {:.2f}'.format(carb_out))\n",
    "\n",
    "# Extract and print out the output carbonate (μmol·kg−1)\n",
    "co2_out = results['aqueous_CO2_out']\n",
    "print('The in situ CO2 : {:.2f}'.format(co2_out))\n",
    "\n",
    "# 'Total' DIC in mmol kg-1\n",
    "DIC = (bicarb_out + carb_out + co2_out)/1000\n",
    "print('Total DIC : {:.2f}'.format(DIC))"
   ]
  },
  {
   "cell_type": "markdown",
   "metadata": {},
   "source": [
    "### 100 m"
   ]
  },
  {
   "cell_type": "code",
   "execution_count": 19,
   "metadata": {},
   "outputs": [
    {
     "name": "stdout",
     "output_type": "stream",
     "text": [
      "Conditions have been defined!\n"
     ]
    }
   ],
   "source": [
    "# 100 m: Define input and output conditions\n",
    "# parameters: 2.489\t7.722\t34.6829\t15.5701\t100.0\t18.92\t2.43\n",
    "\n",
    "kwargs = dict(\n",
    "    par1_type = 1,  # The first parameter supplied is of type \"1\", which means \"alkalinity\"\n",
    "    par1 = 2489,  # value of the first parameter\n",
    "    par2_type = 3,  # The second parameter supplied is of type \"3\", which means \"pH\"\n",
    "    par2 = 7.722,  # value of the second parameter\n",
    "    salinity = 34.6829,  # Salinity of the sample\n",
    "    temperature = 15.5701,  # Temperature at input conditions\n",
    "    temperature_out = 15.5701,  # Temperature at output conditions\n",
    "    pressure = 100,  # Pressure    at input conditions\n",
    "    pressure_out = 100,  # Pressure    at output conditions\n",
    "    total_silicate = 18.92,  # Concentration of silicate  in the sample (in umol/kg)\n",
    "    total_phosphate = 2.43,  # Concentration of phosphate in the sample (in umol/kg)\n",
    "    opt_pH_scale = 1,  # pH scale at which the input pH is reported (\"1\" means \"Total Scale\")\n",
    "    opt_k_carbonic = 4,  # Choice of H2CO3 and HCO3- dissociation constants K1 and K2 (\"4\" means \"Mehrbach refit\")\n",
    "    opt_k_bisulfate = 1,  # Choice of HSO4- dissociation constant KSO4 (\"1\" means \"Dickson\")\n",
    "    opt_total_borate = 1,  # Choice of boron:sal (\"1\" means \"Uppstrom\")\n",
    ")\n",
    "print('Conditions have been defined!')"
   ]
  },
  {
   "cell_type": "code",
   "execution_count": 20,
   "metadata": {},
   "outputs": [
    {
     "name": "stdout",
     "output_type": "stream",
     "text": [
      "The in situ HCO3 : 2263.93\n",
      "The in situ CO3 : 91.14\n",
      "The in situ CO2 : 36.56\n",
      "Total DIC : 2.39\n"
     ]
    }
   ],
   "source": [
    "# 100\n",
    "# Import PyCO2SYS\n",
    "import PyCO2SYS as pyco2\n",
    "\n",
    "# Run PyCO2SYS\n",
    "results = pyco2.sys(**kwargs)\n",
    "\n",
    "# Extract and print out the output bicarbonate (μmol·kg−1)\n",
    "bicarb_out = results['bicarbonate_out']\n",
    "print('The in situ HCO3 : {:.2f}'.format(bicarb_out))\n",
    "\n",
    "# Extract and print out the output carbonate (μmol·kg−1)\n",
    "carb_out = results['carbonate_out']\n",
    "print('The in situ CO3 : {:.2f}'.format(carb_out))\n",
    "\n",
    "# Extract and print out the output carbonate (μmol·kg−1)\n",
    "co2_out = results['aqueous_CO2_out']\n",
    "print('The in situ CO2 : {:.2f}'.format(co2_out))\n",
    "\n",
    "# 'Total' DIC in mmol kg-1\n",
    "DIC = (bicarb_out + carb_out + co2_out)/1000\n",
    "print('Total DIC : {:.2f}'.format(DIC))"
   ]
  },
  {
   "cell_type": "markdown",
   "metadata": {},
   "source": [
    "### 80 m"
   ]
  },
  {
   "cell_type": "code",
   "execution_count": 21,
   "metadata": {},
   "outputs": [
    {
     "name": "stdout",
     "output_type": "stream",
     "text": [
      "Conditions have been defined!\n"
     ]
    }
   ],
   "source": [
    "# 80 m: Define input and output conditions\n",
    "# parameters: 2.489\t7.696\t34.5778\t16.9159\t80.0\t15.11\t2.27\n",
    "\n",
    "kwargs = dict(\n",
    "    par1_type = 1,  # The first parameter supplied is of type \"1\", which means \"alkalinity\"\n",
    "    par1 = 2489,  # value of the first parameter\n",
    "    par2_type = 3,  # The second parameter supplied is of type \"3\", which means \"pH\"\n",
    "    par2 = 7.696,  # value of the second parameter\n",
    "    salinity = 34.5778,  # Salinity of the sample\n",
    "    temperature = 16.9159,  # Temperature at input conditions\n",
    "    temperature_out = 16.9159,  # Temperature at output conditions\n",
    "    pressure = 80,  # Pressure    at input conditions\n",
    "    pressure_out = 80,  # Pressure    at output conditions\n",
    "    total_silicate = 15.11,  # Concentration of silicate  in the sample (in umol/kg)\n",
    "    total_phosphate = 2.27,  # Concentration of phosphate in the sample (in umol/kg)\n",
    "    opt_pH_scale = 1,  # pH scale at which the input pH is reported (\"1\" means \"Total Scale\")\n",
    "    opt_k_carbonic = 4,  # Choice of H2CO3 and HCO3- dissociation constants K1 and K2 (\"4\" means \"Mehrbach refit\")\n",
    "    opt_k_bisulfate = 1,  # Choice of HSO4- dissociation constant KSO4 (\"1\" means \"Dickson\")\n",
    "    opt_total_borate = 1,  # Choice of boron:sal (\"1\" means \"Uppstrom\")\n",
    ")\n",
    "print('Conditions have been defined!')"
   ]
  },
  {
   "cell_type": "code",
   "execution_count": 22,
   "metadata": {},
   "outputs": [
    {
     "name": "stdout",
     "output_type": "stream",
     "text": [
      "The in situ HCO3 : 2267.08\n",
      "The in situ CO3 : 90.14\n",
      "The in situ CO2 : 37.81\n",
      "Total DIC : 2.40\n"
     ]
    }
   ],
   "source": [
    "# 80\n",
    "# Import PyCO2SYS\n",
    "import PyCO2SYS as pyco2\n",
    "\n",
    "# Run PyCO2SYS\n",
    "results = pyco2.sys(**kwargs)\n",
    "\n",
    "# Extract and print out the output bicarbonate (μmol·kg−1)\n",
    "bicarb_out = results['bicarbonate_out']\n",
    "print('The in situ HCO3 : {:.2f}'.format(bicarb_out))\n",
    "\n",
    "# Extract and print out the output carbonate (μmol·kg−1)\n",
    "carb_out = results['carbonate_out']\n",
    "print('The in situ CO3 : {:.2f}'.format(carb_out))\n",
    "\n",
    "# Extract and print out the output carbonate (μmol·kg−1)\n",
    "co2_out = results['aqueous_CO2_out']\n",
    "print('The in situ CO2 : {:.2f}'.format(co2_out))\n",
    "\n",
    "# 'Total' DIC in mmol kg-1\n",
    "DIC = (bicarb_out + carb_out + co2_out)/1000\n",
    "print('Total DIC : {:.2f}'.format(DIC))"
   ]
  },
  {
   "cell_type": "markdown",
   "metadata": {},
   "source": [
    "### 50 m"
   ]
  },
  {
   "cell_type": "code",
   "execution_count": 23,
   "metadata": {},
   "outputs": [
    {
     "name": "stdout",
     "output_type": "stream",
     "text": [
      "Conditions have been defined!\n"
     ]
    }
   ],
   "source": [
    "# 50 m: Define input and output conditions\n",
    "# parameters: 2.494\t8.2\t34.2368\t25.5453\t50.0\t1.96\t0.28\n",
    "\n",
    "kwargs = dict(\n",
    "    par1_type = 1,  # The first parameter supplied is of type \"1\", which means \"alkalinity\"\n",
    "    par1 = 2494,  # value of the first parameter\n",
    "    par2_type = 3,  # The second parameter supplied is of type \"3\", which means \"pH\"\n",
    "    par2 = 8.2,  # value of the second parameter\n",
    "    salinity = 34.2368,  # Salinity of the sample\n",
    "    temperature = 25.5453,  # Temperature at input conditions\n",
    "    temperature_out = 25.5453,  # Temperature at output conditions\n",
    "    pressure = 50,  # Pressure    at input conditions\n",
    "    pressure_out = 50,  # Pressure    at output conditions\n",
    "    total_silicate = 1.96,  # Concentration of silicate  in the sample (in umol/kg)\n",
    "    total_phosphate = 0.28,  # Concentration of phosphate in the sample (in umol/kg)\n",
    "    opt_pH_scale = 1,  # pH scale at which the input pH is reported (\"1\" means \"Total Scale\")\n",
    "    opt_k_carbonic = 4,  # Choice of H2CO3 and HCO3- dissociation constants K1 and K2 (\"4\" means \"Mehrbach refit\")\n",
    "    opt_k_bisulfate = 1,  # Choice of HSO4- dissociation constant KSO4 (\"1\" means \"Dickson\")\n",
    "    opt_total_borate = 1,  # Choice of boron:sal (\"1\" means \"Uppstrom\")\n",
    ")\n",
    "print('Conditions have been defined!')"
   ]
  },
  {
   "cell_type": "code",
   "execution_count": 25,
   "metadata": {},
   "outputs": [
    {
     "name": "stdout",
     "output_type": "stream",
     "text": [
      "The in situ HCO3 : 1759.17\n",
      "The in situ CO3 : 303.68\n",
      "The in situ CO2 : 7.74\n",
      "Total DIC : 2.07\n"
     ]
    }
   ],
   "source": [
    "# 50\n",
    "# Import PyCO2SYS\n",
    "import PyCO2SYS as pyco2\n",
    "\n",
    "# Run PyCO2SYS\n",
    "results = pyco2.sys(**kwargs)\n",
    "\n",
    "# Extract and print out the output bicarbonate (μmol·kg−1)\n",
    "bicarb_out = results['bicarbonate_out']\n",
    "print('The in situ HCO3 : {:.2f}'.format(bicarb_out))\n",
    "\n",
    "# Extract and print out the output carbonate (μmol·kg−1)\n",
    "carb_out = results['carbonate_out']\n",
    "print('The in situ CO3 : {:.2f}'.format(carb_out))\n",
    "\n",
    "# Extract and print out the output carbonate (μmol·kg−1)\n",
    "co2_out = results['aqueous_CO2_out']\n",
    "print('The in situ CO2 : {:.2f}'.format(co2_out))\n",
    "\n",
    "# 'Total' DIC in mmol kg-1\n",
    "DIC = (bicarb_out + carb_out + co2_out)/1000\n",
    "print('Total DIC : {:.2f}'.format(DIC))"
   ]
  },
  {
   "cell_type": "markdown",
   "metadata": {},
   "source": [
    "### 2 m"
   ]
  },
  {
   "cell_type": "code",
   "execution_count": 28,
   "metadata": {},
   "outputs": [
    {
     "name": "stdout",
     "output_type": "stream",
     "text": [
      "Conditions have been defined!\n"
     ]
    }
   ],
   "source": [
    "# 2 m: Define input and output conditions\n",
    "# parameters: 2.5\t8.248\t33.7267\t27.4962\t0.0\t1.13\t0.21\n",
    "\n",
    "kwargs = dict(\n",
    "    par1_type = 1,  # The first parameter supplied is of type \"1\", which means \"alkalinity\"\n",
    "    par1 = 2500,  # value of the first parameter\n",
    "    par2_type = 3,  # The second parameter supplied is of type \"3\", which means \"pH\"\n",
    "    par2 = 8.248,  # value of the second parameter\n",
    "    salinity = 33.7267,  # Salinity of the sample\n",
    "    temperature = 27.4962,  # Temperature at input conditions\n",
    "    temperature_out = 27.4962,  # Temperature at output conditions\n",
    "    pressure = 2.0,  # Pressure    at input conditions\n",
    "    pressure_out = 2.0,  # Pressure    at output conditions\n",
    "    total_silicate = 1.13,  # Concentration of silicate  in the sample (in umol/kg)\n",
    "    total_phosphate = 0.21,  # Concentration of phosphate in the sample (in umol/kg)\n",
    "    opt_pH_scale = 1,  # pH scale at which the input pH is reported (\"1\" means \"Total Scale\")\n",
    "    opt_k_carbonic = 4,  # Choice of H2CO3 and HCO3- dissociation constants K1 and K2 (\"4\" means \"Mehrbach refit\")\n",
    "    opt_k_bisulfate = 1,  # Choice of HSO4- dissociation constant KSO4 (\"1\" means \"Dickson\")\n",
    "    opt_total_borate = 1,  # Choice of boron:sal (\"1\" means \"Uppstrom\")\n",
    ")\n",
    "print('Conditions have been defined!')"
   ]
  },
  {
   "cell_type": "code",
   "execution_count": 29,
   "metadata": {},
   "outputs": [
    {
     "name": "stdout",
     "output_type": "stream",
     "text": [
      "The in situ HCO3 : 1676.34\n",
      "The in situ CO3 : 341.15\n",
      "The in situ CO2 : 6.42\n",
      "Total DIC : 2.02\n"
     ]
    }
   ],
   "source": [
    "# 2\n",
    "# Import PyCO2SYS\n",
    "import PyCO2SYS as pyco2\n",
    "\n",
    "# Run PyCO2SYS\n",
    "results = pyco2.sys(**kwargs)\n",
    "\n",
    "# Extract and print out the output bicarbonate (μmol·kg−1)\n",
    "bicarb_out = results['bicarbonate_out']\n",
    "print('The in situ HCO3 : {:.2f}'.format(bicarb_out))\n",
    "\n",
    "# Extract and print out the output carbonate (μmol·kg−1)\n",
    "carb_out = results['carbonate_out']\n",
    "print('The in situ CO3 : {:.2f}'.format(carb_out))\n",
    "\n",
    "# Extract and print out the output carbonate (μmol·kg−1)\n",
    "co2_out = results['aqueous_CO2_out']\n",
    "print('The in situ CO2 : {:.2f}'.format(co2_out))\n",
    "\n",
    "# 'Total' DIC in mmol kg-1\n",
    "DIC = (bicarb_out + carb_out + co2_out)/1000\n",
    "print('Total DIC : {:.2f}'.format(DIC))"
   ]
  },
  {
   "cell_type": "code",
   "execution_count": null,
   "metadata": {},
   "outputs": [],
   "source": []
  }
 ],
 "metadata": {
  "kernelspec": {
   "display_name": "Python 3",
   "language": "python",
   "name": "python3"
  },
  "language_info": {
   "codemirror_mode": {
    "name": "ipython",
    "version": 3
   },
   "file_extension": ".py",
   "mimetype": "text/x-python",
   "name": "python",
   "nbconvert_exporter": "python",
   "pygments_lexer": "ipython3",
   "version": "3.8.3"
  }
 },
 "nbformat": 4,
 "nbformat_minor": 4
}
