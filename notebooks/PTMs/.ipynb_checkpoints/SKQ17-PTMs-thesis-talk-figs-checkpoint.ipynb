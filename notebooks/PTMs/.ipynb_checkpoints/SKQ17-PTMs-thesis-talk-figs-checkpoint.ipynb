{
 "cells": [
  {
   "cell_type": "markdown",
   "metadata": {},
   "source": [
    "### Plotting PTMs in Comet, PEAKS DN and PeaksDB results using python for ETNP OM study\n",
    "\n",
    "Starting with:\n",
    "\n",
    "    Peaks de novo results of PTM-optimized sequencing\n",
    "    Comet results from PTM-optimized database searches\n",
    "    PeaksDB de novo-assisted results from PTM-optimized database searches\n",
    "\n",
    "Goal:\n",
    "\n",
    "    Figures comparing the modifcation type and extent in database and de novo peptides\n",
    "    \n",
    "Using:\n",
    "\n",
    "    - pandas\n",
    "    - matplotlib\n",
    "    - numpy"
   ]
  },
  {
   "cell_type": "code",
   "execution_count": 1,
   "metadata": {},
   "outputs": [
    {
     "data": {
      "text/plain": [
       "'1.0.5'"
      ]
     },
     "execution_count": 1,
     "metadata": {},
     "output_type": "execute_result"
    }
   ],
   "source": [
    "# LIBRARIES\n",
    "#import pandas library for working with tabular data\n",
    "import os\n",
    "os.getcwd()\n",
    "import pandas as pd\n",
    "import numpy as np\n",
    "import matplotlib.pyplot as plt\n",
    "import seaborn as sns\n",
    "from scipy.stats import kde\n",
    "#import regular expresson (regex)\n",
    "import re\n",
    "#check pandas version\n",
    "pd.__version__"
   ]
  },
  {
   "cell_type": "markdown",
   "metadata": {},
   "source": [
    "### NAAF-corrected residue modification and AA composition across sample set"
   ]
  },
  {
   "cell_type": "code",
   "execution_count": 2,
   "metadata": {
    "scrolled": false
   },
   "outputs": [
    {
     "data": {
      "text/html": [
       "<div>\n",
       "<style scoped>\n",
       "    .dataframe tbody tr th:only-of-type {\n",
       "        vertical-align: middle;\n",
       "    }\n",
       "\n",
       "    .dataframe tbody tr th {\n",
       "        vertical-align: top;\n",
       "    }\n",
       "\n",
       "    .dataframe thead th {\n",
       "        text-align: right;\n",
       "    }\n",
       "</style>\n",
       "<table border=\"1\" class=\"dataframe\">\n",
       "  <thead>\n",
       "    <tr style=\"text-align: right;\">\n",
       "      <th></th>\n",
       "      <th>sample</th>\n",
       "      <th>Cysteine w/ carb.</th>\n",
       "      <th>Methionine w/ oxidation</th>\n",
       "      <th>Asparagine w/ deamidation</th>\n",
       "      <th>Glutamine w/ deamidation</th>\n",
       "      <th>Lysine w/ oxidation</th>\n",
       "      <th>Arginine w/ methylation</th>\n",
       "    </tr>\n",
       "  </thead>\n",
       "  <tbody>\n",
       "    <tr>\n",
       "      <th>0</th>\n",
       "      <td>1. 100 m sus.</td>\n",
       "      <td>1.0</td>\n",
       "      <td>0.755277</td>\n",
       "      <td>0.117467</td>\n",
       "      <td>0.069276</td>\n",
       "      <td>0.047147</td>\n",
       "      <td>0.052534</td>\n",
       "    </tr>\n",
       "    <tr>\n",
       "      <th>1</th>\n",
       "      <td>2. 265 m sus.</td>\n",
       "      <td>1.0</td>\n",
       "      <td>0.165331</td>\n",
       "      <td>0.176517</td>\n",
       "      <td>0.042832</td>\n",
       "      <td>0.060856</td>\n",
       "      <td>0.042856</td>\n",
       "    </tr>\n",
       "    <tr>\n",
       "      <th>2</th>\n",
       "      <td>3. 965 m sus.</td>\n",
       "      <td>1.0</td>\n",
       "      <td>0.196061</td>\n",
       "      <td>0.305940</td>\n",
       "      <td>0.054273</td>\n",
       "      <td>0.124276</td>\n",
       "      <td>0.287704</td>\n",
       "    </tr>\n",
       "    <tr>\n",
       "      <th>3</th>\n",
       "      <td>4. 100 m sink.</td>\n",
       "      <td>1.0</td>\n",
       "      <td>0.477152</td>\n",
       "      <td>0.237509</td>\n",
       "      <td>0.072189</td>\n",
       "      <td>0.044501</td>\n",
       "      <td>0.471634</td>\n",
       "    </tr>\n",
       "    <tr>\n",
       "      <th>4</th>\n",
       "      <td>5. 265 m sink.</td>\n",
       "      <td>1.0</td>\n",
       "      <td>0.665913</td>\n",
       "      <td>0.296353</td>\n",
       "      <td>0.059659</td>\n",
       "      <td>0.173849</td>\n",
       "      <td>0.301735</td>\n",
       "    </tr>\n",
       "  </tbody>\n",
       "</table>\n",
       "</div>"
      ],
      "text/plain": [
       "           sample  Cysteine w/ carb.  Methionine w/ oxidation  \\\n",
       "0   1. 100 m sus.                1.0                 0.755277   \n",
       "1   2. 265 m sus.                1.0                 0.165331   \n",
       "2   3. 965 m sus.                1.0                 0.196061   \n",
       "3  4. 100 m sink.                1.0                 0.477152   \n",
       "4  5. 265 m sink.                1.0                 0.665913   \n",
       "\n",
       "   Asparagine w/ deamidation  Glutamine w/ deamidation  Lysine w/ oxidation  \\\n",
       "0                   0.117467                  0.069276             0.047147   \n",
       "1                   0.176517                  0.042832             0.060856   \n",
       "2                   0.305940                  0.054273             0.124276   \n",
       "3                   0.237509                  0.072189             0.044501   \n",
       "4                   0.296353                  0.059659             0.173849   \n",
       "\n",
       "   Arginine w/ methylation  \n",
       "0                 0.052534  \n",
       "1                 0.042856  \n",
       "2                 0.287704  \n",
       "3                 0.471634  \n",
       "4                 0.301735  "
      ]
     },
     "execution_count": 2,
     "metadata": {},
     "output_type": "execute_result"
    }
   ],
   "source": [
    "# for each of the 6 POM samples:\n",
    "# read in NAAF totals that are combinations of Comet, PeaksDB, and PeaksDN (see NAAF-combination nb)\n",
    "\n",
    "\n",
    "sum_231 = pd.read_csv(\"/home/millieginty/Documents/git-repos/2017-etnp/data/pro2020/ETNP-SKQ17/NAAF-sums/NAAF-sum-231.csv\")\n",
    "sum_233 = pd.read_csv(\"/home/millieginty/Documents/git-repos/2017-etnp/data/pro2020/ETNP-SKQ17/NAAF-sums/NAAF-sum-233.csv\")\n",
    "sum_243 = pd.read_csv(\"/home/millieginty/Documents/git-repos/2017-etnp/data/pro2020/ETNP-SKQ17/NAAF-sums/NAAF-sum-243.csv\")\n",
    "sum_378 = pd.read_csv(\"/home/millieginty/Documents/git-repos/2017-etnp/data/pro2020/ETNP-SKQ17/NAAF-sums/NAAF-sum-378.csv\")\n",
    "sum_278 = pd.read_csv(\"/home/millieginty/Documents/git-repos/2017-etnp/data/pro2020/ETNP-SKQ17/NAAF-sums/NAAF-sum-278.csv\")\n",
    "sum_273 = pd.read_csv(\"/home/millieginty/Documents/git-repos/2017-etnp/data/pro2020/ETNP-SKQ17/NAAF-sums/NAAF-sum-273.csv\")\n",
    "\n",
    "frames = [sum_231, sum_233, sum_243, sum_378, sum_278, sum_273]\n",
    "index = ['1. 100 m sus.', '2. 265 m sus.', '3. 965 m sus.', '4. 100 m sink.', '5. 265 m sink.', '6. 965 m sink.']\n",
    "\n",
    "# concatenate dataframes\n",
    "tot = pd.concat(frames, sort=False, ignore_index=True)\n",
    "\n",
    "# there's a useless column in there\n",
    "tot = tot.loc[:, ~tot.columns.str.contains('^Unnamed')]\n",
    "\n",
    "# reindex with sample names\n",
    "names = ['1. 100 m sus.', '2. 265 m sus.', '3. 965 m sus.', '4. 100 m sink.', \\\n",
    "         '5. 265 m sink.', '6. 965 m sink']\n",
    "tot.insert(loc=0, column='sample', value=names)\n",
    "tot.set_index('sample')\n",
    "\n",
    "# separate out the dataframe into AAs and %PTMs, too\n",
    "sum_AA = tot[['sample', 'A-NAAF', 'C-NAAF', 'D-NAAF', 'E-NAAF', 'F-NAAF', 'G-NAAF', 'H-NAAF', 'I-NAAF', 'K-NAAF', \\\n",
    "              'L-NAAF', 'M-NAAF', 'N-NAAF', 'P-NAAF', 'Q-NAAF', 'R-NAAF', 'S-NAAF', 'T-NAAF', 'V-NAAF', \\\n",
    "              'W-NAAF', 'Y-NAAF']].copy()\n",
    "\n",
    "sum_ptm = tot[['sample', 'Cys. w/ carb.', 'Met. w/ oxid.', 'Asn. w/ deam.', 'Gln. w/ deam.', 'Lys. w/ hydr.', \\\n",
    "               'Arg. w/ meth.']].copy()\n",
    "\n",
    "sum_ptm.columns = ['sample', 'Cysteine w/ carb.', 'Methionine w/ oxidation', 'Asparagine w/ deamidation', \\\n",
    "                   'Glutamine w/ deamidation', \\\n",
    "                   'Lysine w/ oxidation', 'Arginine w/ methylation']\n",
    "\n",
    "# I think the 'overall modfied' is too biased by terminal residues to be meaningful\n",
    "#sum_ptm = tot[['sample', 'Cys. w/ carb.', 'Met. w/ oxid.', 'Asn. w/ deam.', 'Gln. w/ deam.', 'Lys. w/ hydr.', \\\n",
    "               #'Arg. w/ meth.', 'Overall modified']].copy()\n",
    "    \n",
    "# Save this df to a csv so I can plot it better\n",
    "sum_ptm.to_csv('/home/millieginty/Documents/git-repos/2017-etnp/data/thesis-talk/skq17-pom-ptms.csv')\n",
    "\n",
    "sum_ptm.head()"
   ]
  },
  {
   "cell_type": "markdown",
   "metadata": {},
   "source": [
    "### 1. Peptide modifications:"
   ]
  },
  {
   "cell_type": "code",
   "execution_count": 3,
   "metadata": {
    "scrolled": true
   },
   "outputs": [
    {
     "data": {
      "text/plain": [
       "<Figure size 720x360 with 0 Axes>"
      ]
     },
     "metadata": {},
     "output_type": "display_data"
    },
    {
     "data": {
      "image/png": "[encoded data removed]",
      "text/plain": [
       "<Figure size 432x288 with 1 Axes>"
      ]
     },
     "metadata": {
      "needs_background": "light"
     },
     "output_type": "display_data"
    }
   ],
   "source": [
    "# plot mods across the dataset\n",
    "\n",
    "sum_ptm_s = sum_ptm.drop(['sample'], axis=1)\n",
    "\n",
    "ptm_sumT = sum_ptm_s.T\n",
    "\n",
    "ptm_sumT.columns = ['100 m sus.', '265 m sus.', '965 m sus.', '100 m sink.', '265 m sink.', '965 m sink.']\n",
    "\n",
    "six_colors = ['#d53e4f', '#fc8d59', '#fee08b', '#e6f598', '#99d594', '#3288bd']\n",
    "six_colors_q = ['#7fc97f', '#beaed4', '#fdc086', '#ffff99', '#386cb0', '#f0027f']\n",
    "seven_colors = ['#7fc97f', '#beaed4', '#fdc086', '#ffff99', '#386cb0', '#f0027f', '#bf5b17']\n",
    "\n",
    "fig = plt.figure(figsize = (10, 5)) \n",
    "\n",
    "ax = ptm_sumT.iloc[1:7].plot(kind=\"bar\", title = 'Peptide mass modifications', color = seven_colors, edgecolor = 'black')\n",
    "plt.xticks(rotation=35)\n",
    "\n",
    "ax.set_ylabel('Fraction w/ modification', fontsize = 13)\n",
    "ax.set_xlabel('Mass modification type', fontsize = 13)\n",
    "plt.legend(bbox_to_anchor=(1,1), loc=\"upper left\")\n",
    "\n",
    "plt.tight_layout()"
   ]
  },
  {
   "cell_type": "code",
   "execution_count": 4,
   "metadata": {},
   "outputs": [
    {
     "data": {
      "text/html": [
       "<div>\n",
       "<style scoped>\n",
       "    .dataframe tbody tr th:only-of-type {\n",
       "        vertical-align: middle;\n",
       "    }\n",
       "\n",
       "    .dataframe tbody tr th {\n",
       "        vertical-align: top;\n",
       "    }\n",
       "\n",
       "    .dataframe thead th {\n",
       "        text-align: right;\n",
       "    }\n",
       "</style>\n",
       "<table border=\"1\" class=\"dataframe\">\n",
       "  <thead>\n",
       "    <tr style=\"text-align: right;\">\n",
       "      <th></th>\n",
       "      <th>100 m sus.</th>\n",
       "      <th>265 m sus.</th>\n",
       "      <th>965 m sus.</th>\n",
       "      <th>100 m sink.</th>\n",
       "      <th>265 m sink.</th>\n",
       "      <th>965 m sink.</th>\n",
       "    </tr>\n",
       "  </thead>\n",
       "  <tbody>\n",
       "    <tr>\n",
       "      <th>Cysteine w/ carb.</th>\n",
       "      <td>1.000000</td>\n",
       "      <td>1.000000</td>\n",
       "      <td>1.000000</td>\n",
       "      <td>1.000000</td>\n",
       "      <td>1.000000</td>\n",
       "      <td>1.000000</td>\n",
       "    </tr>\n",
       "    <tr>\n",
       "      <th>Methionine w/ oxidation</th>\n",
       "      <td>0.755277</td>\n",
       "      <td>0.165331</td>\n",
       "      <td>0.196061</td>\n",
       "      <td>0.477152</td>\n",
       "      <td>0.665913</td>\n",
       "      <td>0.761138</td>\n",
       "    </tr>\n",
       "    <tr>\n",
       "      <th>Asparagine w/ deamidation</th>\n",
       "      <td>0.117467</td>\n",
       "      <td>0.176517</td>\n",
       "      <td>0.305940</td>\n",
       "      <td>0.237509</td>\n",
       "      <td>0.296353</td>\n",
       "      <td>0.314271</td>\n",
       "    </tr>\n",
       "    <tr>\n",
       "      <th>Glutamine w/ deamidation</th>\n",
       "      <td>0.069276</td>\n",
       "      <td>0.042832</td>\n",
       "      <td>0.054273</td>\n",
       "      <td>0.072189</td>\n",
       "      <td>0.059659</td>\n",
       "      <td>0.135665</td>\n",
       "    </tr>\n",
       "    <tr>\n",
       "      <th>Lysine w/ oxidation</th>\n",
       "      <td>0.047147</td>\n",
       "      <td>0.060856</td>\n",
       "      <td>0.124276</td>\n",
       "      <td>0.044501</td>\n",
       "      <td>0.173849</td>\n",
       "      <td>0.130511</td>\n",
       "    </tr>\n",
       "  </tbody>\n",
       "</table>\n",
       "</div>"
      ],
      "text/plain": [
       "                           100 m sus.  265 m sus.  965 m sus.  100 m sink.  \\\n",
       "Cysteine w/ carb.            1.000000    1.000000    1.000000     1.000000   \n",
       "Methionine w/ oxidation      0.755277    0.165331    0.196061     0.477152   \n",
       "Asparagine w/ deamidation    0.117467    0.176517    0.305940     0.237509   \n",
       "Glutamine w/ deamidation     0.069276    0.042832    0.054273     0.072189   \n",
       "Lysine w/ oxidation          0.047147    0.060856    0.124276     0.044501   \n",
       "\n",
       "                           265 m sink.  965 m sink.  \n",
       "Cysteine w/ carb.             1.000000     1.000000  \n",
       "Methionine w/ oxidation       0.665913     0.761138  \n",
       "Asparagine w/ deamidation     0.296353     0.314271  \n",
       "Glutamine w/ deamidation      0.059659     0.135665  \n",
       "Lysine w/ oxidation           0.173849     0.130511  "
      ]
     },
     "execution_count": 4,
     "metadata": {},
     "output_type": "execute_result"
    }
   ],
   "source": [
    "ptm_sumT.head()"
   ]
  },
  {
   "cell_type": "code",
   "execution_count": 5,
   "metadata": {
    "scrolled": true
   },
   "outputs": [
    {
     "data": {
      "image/png": "[encoded data removed]",
      "text/plain": [
       "<Figure size 504x360 with 2 Axes>"
      ]
     },
     "metadata": {
      "needs_background": "light"
     },
     "output_type": "display_data"
    }
   ],
   "source": [
    "# also plot as subplots of sinking and suspended POM\n",
    "\n",
    "# df just suspended\n",
    "sus = ptm_sumT[['100 m sus.', '265 m sus.', '965 m sus.']].copy()\n",
    "sus = sus.drop('Cysteine w/ carb.', axis=0)\n",
    "sink = ptm_sumT[['100 m sink.', '265 m sink.', '965 m sink.']].copy()\n",
    "sink = sink.drop('Cysteine w/ carb.', axis=0)\n",
    "\n",
    "colors_3 = ['#99d594', '#ffffbf', '#fc8d59']\n",
    "\n",
    "fig, axes = plt.subplots(figsize=(7, 5),nrows=1, ncols=2, sharex = True)\n",
    "plt.tight_layout()\n",
    "\n",
    "plt.subplots_adjust(left=None, bottom=None, right=None, top=None, wspace=None, hspace=None)\n",
    "\n",
    "sus.plot(ax=axes[0], kind='barh', stacked=False, color = colors_3, edgecolor = '#252525')\n",
    "sink.plot(ax=axes[1], kind='barh', stacked=False, color = colors_3, edgecolor = '#252525')\n",
    "\n",
    "axes[0].set_title('Suspended particles', fontsize = 14, pad = 8)\n",
    "axes[0].invert_yaxis()\n",
    "axes[0].set_xlabel(\"Fraction of residues with mod.\", fontsize = 13,  labelpad = 10)\n",
    "\n",
    "axes[1].set_title('Sinking particles', fontsize = 14, pad = 8)\n",
    "axes[1].set_ylabel(\"\")\n",
    "axes[1].yaxis.set_ticks([])\n",
    "axes[1].invert_yaxis()\n",
    "axes[1].set_xlabel(\"Fraction of residues with mod.\", fontsize = 13, labelpad = 10);"
   ]
  },
  {
   "cell_type": "code",
   "execution_count": 6,
   "metadata": {
    "scrolled": true
   },
   "outputs": [
    {
     "data": {
      "image/png": "[encoded data removed]",
      "text/plain": [
       "<Figure size 504x504 with 4 Axes>"
      ]
     },
     "metadata": {
      "needs_background": "light"
     },
     "output_type": "display_data"
    }
   ],
   "source": [
    "# also plot as subplots of sinking and suspended POM\n",
    "\n",
    "# df just suspended\n",
    "sus = ptm_sumT[['100 m sus.', '265 m sus.', '965 m sus.']].copy()\n",
    "sus = sus.drop('Cysteine w/ carb.', axis=0)\n",
    "sink = ptm_sumT[['100 m sink.', '265 m sink.', '965 m sink.']].copy()\n",
    "sink = sink.drop('Cysteine w/ carb.', axis=0)\n",
    "\n",
    "colors_3 = ['#99d594', '#ffffbf', '#fc8d59']\n",
    "colors = ['#f0f0f0', '#bdbdbd', '#636363']\n",
    "\n",
    "fig, axes = plt.subplots(figsize=(7, 7),nrows=2, ncols=2, sharex = True)\n",
    "plt.tight_layout()\n",
    "\n",
    "plt.subplots_adjust(left=None, bottom=None, right=None, top=None, wspace=None, hspace=None)\n",
    "\n",
    "sus.plot(ax=axes[0,0], kind='barh', stacked=False, color = colors, edgecolor = '#252525')\n",
    "sink.plot(ax=axes[0,1], kind='barh', stacked=False, color = colors, edgecolor = '#252525')\n",
    "\n",
    "axes[0,0].set_title('Suspended particles', fontsize = 14, pad = 8)\n",
    "axes[0,0].invert_yaxis()\n",
    "axes[0,0].set_xlabel(\"Fraction of residues with mod.\", fontsize = 13,  labelpad = 10)\n",
    "\n",
    "axes[0,1].set_title('Sinking particles', fontsize = 14, pad = 8)\n",
    "axes[0,1].set_ylabel(\"\")\n",
    "axes[0,1].yaxis.set_ticks([])\n",
    "axes[0,1].invert_yaxis()\n",
    "axes[0,1].set_xlabel(\"Fraction of residues with mod.\", fontsize = 13, labelpad = 10);"
   ]
  },
  {
   "cell_type": "code",
   "execution_count": 7,
   "metadata": {},
   "outputs": [
    {
     "data": {
      "text/html": [
       "<div>\n",
       "<style scoped>\n",
       "    .dataframe tbody tr th:only-of-type {\n",
       "        vertical-align: middle;\n",
       "    }\n",
       "\n",
       "    .dataframe tbody tr th {\n",
       "        vertical-align: top;\n",
       "    }\n",
       "\n",
       "    .dataframe thead th {\n",
       "        text-align: right;\n",
       "    }\n",
       "</style>\n",
       "<table border=\"1\" class=\"dataframe\">\n",
       "  <thead>\n",
       "    <tr style=\"text-align: right;\">\n",
       "      <th></th>\n",
       "      <th>depth</th>\n",
       "      <th>sus meth ox</th>\n",
       "      <th>sink meth ox</th>\n",
       "      <th>sus asp deam</th>\n",
       "      <th>sink asp deam</th>\n",
       "      <th>sus gln deam</th>\n",
       "      <th>sink gln deam</th>\n",
       "      <th>sus lys oxid</th>\n",
       "      <th>sink lys oxid</th>\n",
       "      <th>sus arg meth</th>\n",
       "      <th>sink arg meth</th>\n",
       "    </tr>\n",
       "  </thead>\n",
       "  <tbody>\n",
       "    <tr>\n",
       "      <th>0</th>\n",
       "      <td>100</td>\n",
       "      <td>75.527738</td>\n",
       "      <td>47.715235</td>\n",
       "      <td>11.746655</td>\n",
       "      <td>23.750919</td>\n",
       "      <td>6.927627</td>\n",
       "      <td>7.218938</td>\n",
       "      <td>4.714704</td>\n",
       "      <td>4.450116</td>\n",
       "      <td>5.253375</td>\n",
       "      <td>47.163355</td>\n",
       "    </tr>\n",
       "    <tr>\n",
       "      <th>1</th>\n",
       "      <td>265</td>\n",
       "      <td>16.533127</td>\n",
       "      <td>66.591327</td>\n",
       "      <td>17.651726</td>\n",
       "      <td>29.635289</td>\n",
       "      <td>4.283249</td>\n",
       "      <td>5.965871</td>\n",
       "      <td>6.085593</td>\n",
       "      <td>17.384939</td>\n",
       "      <td>4.285572</td>\n",
       "      <td>30.173515</td>\n",
       "    </tr>\n",
       "    <tr>\n",
       "      <th>2</th>\n",
       "      <td>965</td>\n",
       "      <td>19.606136</td>\n",
       "      <td>76.113837</td>\n",
       "      <td>30.593951</td>\n",
       "      <td>39.427119</td>\n",
       "      <td>5.427334</td>\n",
       "      <td>13.566455</td>\n",
       "      <td>12.427584</td>\n",
       "      <td>13.051116</td>\n",
       "      <td>28.770450</td>\n",
       "      <td>30.008164</td>\n",
       "    </tr>\n",
       "  </tbody>\n",
       "</table>\n",
       "</div>"
      ],
      "text/plain": [
       "   depth  sus meth ox  sink meth ox  sus asp deam  sink asp deam  \\\n",
       "0    100    75.527738     47.715235     11.746655      23.750919   \n",
       "1    265    16.533127     66.591327     17.651726      29.635289   \n",
       "2    965    19.606136     76.113837     30.593951      39.427119   \n",
       "\n",
       "   sus gln deam  sink gln deam  sus lys oxid  sink lys oxid  sus arg meth  \\\n",
       "0      6.927627       7.218938      4.714704       4.450116      5.253375   \n",
       "1      4.283249       5.965871      6.085593      17.384939      4.285572   \n",
       "2      5.427334      13.566455     12.427584      13.051116     28.770450   \n",
       "\n",
       "   sink arg meth  \n",
       "0      47.163355  \n",
       "1      30.173515  \n",
       "2      30.008164  "
      ]
     },
     "execution_count": 7,
     "metadata": {},
     "output_type": "execute_result"
    }
   ],
   "source": [
    "# read in the reworked ptms from Excel file I created\n",
    "\n",
    "ptm = pd.read_excel('/home/millieginty/Documents/git-repos/2017-etnp/data/thesis-talk/skq17-pom-ptms.xlsx')\n",
    "\n",
    "\n",
    "\n",
    "ptm.head()"
   ]
  },
  {
   "cell_type": "code",
   "execution_count": 16,
   "metadata": {},
   "outputs": [
    {
     "data": {
      "image/png": "[encoded data removed]",
      "text/plain": [
       "<Figure size 504x504 with 4 Axes>"
      ]
     },
     "metadata": {
      "needs_background": "light"
     },
     "output_type": "display_data"
    }
   ],
   "source": [
    "fig, axes = plt.subplots(figsize=(7, 7),nrows=2, ncols=2, sharex = True, sharey = True)\n",
    "\n",
    "plt.tight_layout()\n",
    "\n",
    "plt.subplots_adjust(left=None, bottom=None, right=None, top=None, wspace=None, hspace=None)\n",
    "\n",
    "# Suspended methionine oxidation\n",
    "\n",
    "axes[0,0].set_title('Suspended particles', fontsize = 14, pad = 8)\n",
    "\n",
    "ptm.plot(ax=axes[0,0], kind='barh', y = 'sus gln deam', x = 'depth', color = '#a6bddb', edgecolor = 'grey')\n",
    "axes[0,0].set_ylim(axes[0,0].get_ylim()[::-1]) #this reverses the yaxis (i.e. deep at the bottom)\n",
    "axes[0,0].set_ylabel('Depth (m)', fontsize = 14, labelpad = 8)\n",
    "axes[0,0].get_legend().remove()\n",
    "\n",
    "axes[0,0].annotate('Glutamine', xy=(2, 2), \n",
    "            xytext=(0.65, 0.8), textcoords='axes fraction',\n",
    "            color='black', fontsize=14,\n",
    "            horizontalalignment='center', verticalalignment='top')\n",
    "\n",
    "axes[0,0].annotate('deamidation', xy=(2, 2), \n",
    "            xytext=(0.65, 0.7), textcoords='axes fraction',\n",
    "            color='black', fontsize=14,\n",
    "            horizontalalignment='center', verticalalignment='top')\n",
    "\n",
    "# Suspended asparagine deamidation\n",
    "\n",
    "ptm.plot(ax=axes[1,0], kind='barh', y = 'sus asp deam', x = 'depth', color = '#a6bddb', edgecolor = 'grey')\n",
    "axes[1,0].set_ylim(axes[0,0].get_ylim()[::-1]) #this reverses the yaxis (i.e. deep at the bottom)\n",
    "axes[1,0].set_ylabel('Depth (m)', fontsize = 14, labelpad = 8)\n",
    "axes[1,0].get_legend().remove()\n",
    "\n",
    "axes[1,0].annotate('Asparagine', xy=(2, 2), \n",
    "            xytext=(0.65, 0.8), textcoords='axes fraction',\n",
    "            color='black', fontsize=14,\n",
    "            horizontalalignment='center', verticalalignment='top')\n",
    "\n",
    "axes[1,0].annotate('deamidation', xy=(2, 2), \n",
    "            xytext=(0.65, 0.7), textcoords='axes fraction',\n",
    "            color='black', fontsize=14,\n",
    "            horizontalalignment='center', verticalalignment='top')\n",
    "\n",
    "axes[1,0].set_xlabel('% of AAs with modification', fontsize = 14, labelpad = 8)\n",
    "\n",
    "\n",
    "# Sinking methionine oxidation\n",
    "\n",
    "axes[0,1].set_title('Sinking particles', fontsize = 14, pad = 8)\n",
    "\n",
    "ptm.plot(ax=axes[0,1], kind='barh', y = 'sink gln deam', x = 'depth', color = '#fc9272', edgecolor = 'grey')\n",
    "axes[0,1].set_ylim(axes[0,1].get_ylim()[::-1]) #this reverses the yaxis (i.e. deep at the bottom)\n",
    "#axes[0,1].set_ylabel('', fontsize = 14, labelpad = 8)\n",
    "axes[0,1].get_legend().remove()\n",
    "\n",
    "#axes[0,1].annotate('Methionine', xy=(2, 2), \n",
    "            #xytext=(0.80, 0.2), textcoords='axes fraction',\n",
    "            #color='black', fontsize=14,\n",
    "            #horizontalalignment='center', verticalalignment='top')\n",
    "\n",
    "#axes[0,1].annotate('oxidation', xy=(2, 2), \n",
    "            #xytext=(0.82, 0.1), textcoords='axes fraction',\n",
    "            #color='black', fontsize=14,\n",
    "            #horizontalalignment='center', verticalalignment='top')\n",
    "            \n",
    "# Sinking asparagine deamidation\n",
    "\n",
    "ptm.plot(ax=axes[1,1], kind='barh', y = 'sink asp deam', x = 'depth', color = '#fc9272', edgecolor = 'grey')\n",
    "axes[1,1].set_ylim(axes[1,1].get_ylim()[::-1]) #this reverses the yaxis (i.e. deep at the bottom)\n",
    "axes[1,1].set_ylabel('Depth (m)', fontsize = 14, labelpad = 8)\n",
    "axes[1,1].get_legend().remove()\n",
    "\n",
    "#axes[1,1].annotate('Asparagine', xy=(2, 2), \n",
    "            #xytext=(0.65, 0.2), textcoords='axes fraction',\n",
    "            #color='black', fontsize=14,\n",
    "            #horizontalalignment='center', verticalalignment='top')\n",
    "\n",
    "#axes[1,1].annotate('deamidation', xy=(2, 2), \n",
    "            #xytext=(0.65, 0.1), textcoords='axes fraction',\n",
    "            #color='black', fontsize=14,\n",
    "            #horizontalalignment='center', verticalalignment='top')\n",
    "\n",
    "axes[1,1].set_xlabel('% of AAs with modification', fontsize = 14, labelpad = 8);\n",
    "\n",
    "fig.savefig('/home/millieginty/Documents/git-repos/2017-etnp/data/thesis-talk/entp-mod.png', facecolor=fig.get_facecolor(), transparent=True, dpi=300, bbox_inches = \"tight\")"
   ]
  },
  {
   "cell_type": "code",
   "execution_count": null,
   "metadata": {},
   "outputs": [],
   "source": []
  }
 ],
 "metadata": {
  "kernelspec": {
   "display_name": "Python 3",
   "language": "python",
   "name": "python3"
  },
  "language_info": {
   "codemirror_mode": {
    "name": "ipython",
    "version": 3
   },
   "file_extension": ".py",
   "mimetype": "text/x-python",
   "name": "python",
   "nbconvert_exporter": "python",
   "pygments_lexer": "ipython3",
   "version": "3.8.3"
  }
 },
 "nbformat": 4,
 "nbformat_minor": 4
}
